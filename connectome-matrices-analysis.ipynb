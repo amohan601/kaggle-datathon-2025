{
 "cells": [
  {
   "cell_type": "code",
   "execution_count": null,
   "metadata": {},
   "outputs": [],
   "source": [
    "import pandas as pd\n",
    "import matplotlib\n",
    "import seaborn as sns\n",
    "import matplotlib.pyplot as plt\n",
    "import numpy as np\n",
    "import openpyxl\n",
    "from openpyxl import Workbook\n",
    "import csv \n",
    "import os\n",
    "import shutil\n",
    "import xlsxwriter \n",
    "# import datashader as ds\n",
    "# import datashader.transfer_functions as tf"
   ]
  },
  {
   "cell_type": "code",
   "execution_count": null,
   "metadata": {},
   "outputs": [],
   "source": [
    "import plotly.io as pio\n",
    "pio.renderers.default = 'notebook'\n",
    "import plotly.express as px"
   ]
  },
  {
   "cell_type": "code",
   "execution_count": null,
   "metadata": {},
   "outputs": [],
   "source": [
    "file_path_categorical = os.path.expanduser(\"~/Documents/Python Scripts/widsdatathon2025/TRAIN/TRAIN_CATEGORICAL_METADATA.xlsx\")\n",
    "file_path_matrices = os.path.expanduser(\"~/Documents/Python Scripts/widsdatathon2025/TRAIN/TRAIN_FUNCTIONAL_CONNECTOME_MATRICES.csv\")\n",
    "file_path_quantitative = os.path.expanduser(\"~/Documents/Python Scripts/widsdatathon2025/TRAIN/TRAIN_QUANTITATIVE_METADATA.xlsx\")\n",
    "file_path_solutions = os.path.expanduser(\"~/Documents/Python Scripts/widsdatathon2025/TRAIN/TRAINING_SOLUTIONS.xlsx\")\n",
    "\n",
    "# Read the Excel file\n",
    "# pd.read_csv(pizza_types)\n",
    "df_categorical = pd.read_excel(file_path_categorical)\n",
    "df_matrices = pd.read_csv(file_path_matrices, header=[0], index_col=[0])\n",
    "df_quant = pd.read_excel(file_path_quantitative)\n",
    "df_solutions = pd.read_excel(file_path_solutions)\n",
    "\n",
    "# Print the DataFrame\n",
    "\n",
    "print(df_matrices)"
   ]
  },
  {
   "cell_type": "code",
   "execution_count": null,
   "metadata": {},
   "outputs": [],
   "source": [
    "df_matrices.describe()"
   ]
  },
  {
   "cell_type": "code",
   "execution_count": null,
   "metadata": {},
   "outputs": [],
   "source": [
    "newdf = df_matrices.merge(df_solutions, how='inner', on = 'participant_id')\n",
    "print(newdf)"
   ]
  },
  {
   "cell_type": "code",
   "execution_count": null,
   "metadata": {},
   "outputs": [],
   "source": [
    "#first attempt at heatmap (it breaks kaggle down so try it on your own)\n",
    "fig = px.imshow(df_matrices, aspect='auto', color_continuous_scale='viridis')\n",
    "fig.show()"
   ]
  },
  {
   "cell_type": "code",
   "execution_count": null,
   "metadata": {},
   "outputs": [],
   "source": [
    "#aggregated the data by every 10 columns to reduce the data size for the heatmap\n",
    "aggregated_df = df_matrices.groupby(np.arange(df_matrices.shape[1]) // 10, axis=1).mean(numeric_only =True)\n"
   ]
  },
  {
   "cell_type": "code",
   "execution_count": null,
   "metadata": {},
   "outputs": [],
   "source": [
    "fig = px.imshow(aggregated_df, aspect='auto', color_continuous_scale='viridis')\n",
    "fig.show()"
   ]
  },
  {
   "cell_type": "code",
   "execution_count": null,
   "metadata": {},
   "outputs": [],
   "source": [
    "#trying to understand which values are correlated with each other in the matrix. Didn't really understand the results?\n",
    "np.fill_diagonal(aggregated_df.values, np.nan)\n",
    "\n",
    "# Unstack and sort by absolute correlation value\n",
    "corr_pairs = aggregated_df.unstack().sort_values(ascending=False, key=abs)\n",
    "\n",
    "# Display the top correlation pairs\n",
    "top_n = 1000\n",
    "top_corr_pairs = corr_pairs.head(top_n)\n",
    "for (var1, var2), corr_value in top_corr_pairs.items():\n",
    "    print(f\"Variables: {var1} and {var2} have a correlation of {corr_value:.2f}\")"
   ]
  },
  {
   "cell_type": "code",
   "execution_count": null,
   "metadata": {},
   "outputs": [],
   "source": [
    "#filtering the dataset to show only rows that either have ADHD or Women \n",
    "filtered_ADHD_Female = newdf.loc[(newdf['ADHD_Outcome'] == 1)| (newdf['Sex_F'] == 1)]\n",
    "# filtered.info()\n",
    "#& (newdf['Sex_F'] == '1')\n",
    "print(filtered_ADHD_Female)"
   ]
  },
  {
   "cell_type": "code",
   "execution_count": null,
   "metadata": {},
   "outputs": [],
   "source": [
    "filtered_ADHD_Female.set_index('participant_id', inplace=True)\n",
    "#setting the index"
   ]
  },
  {
   "cell_type": "code",
   "execution_count": null,
   "metadata": {},
   "outputs": [],
   "source": [
    "#heatmap of the filtered dataset. Kaggle will die if you run this...\n",
    "fig = px.imshow(filtered_ADHD_Female, aspect='auto', color_continuous_scale='viridis')\n",
    "fig.show()"
   ]
  },
  {
   "cell_type": "code",
   "execution_count": null,
   "metadata": {},
   "outputs": [],
   "source": [
    "#aggregated datset of the filtered dataframe\n",
    "aggregated_df_filtered = filtered_ADHD_Female.groupby(np.arange(filtered_ADHD_Female.shape[1]) // 10, axis=1).mean(numeric_only =True)\n",
    "fig = px.imshow(aggregated_df_filtered, aspect='auto', color_continuous_scale='viridis')\n",
    "fig.show()"
   ]
  },
  {
   "cell_type": "code",
   "execution_count": null,
   "metadata": {},
   "outputs": [],
   "source": [
    "df_matrices.set_index('participant_id', inplace=True)"
   ]
  },
  {
   "cell_type": "code",
   "execution_count": null,
   "metadata": {},
   "outputs": [],
   "source": [
    "#Getting the top correlated values for each column\n",
    "# Function to get top N column names\n",
    "def top_n_columns(row, n=3):\n",
    "    return row.nlargest(n).index.tolist()\n",
    "\n",
    "# Apply function to each row\n",
    "top_columns = df_matrices.apply(top_n_columns, axis=1, n=3)\n",
    "top_columns_df = pd.DataFrame(top_columns.tolist(), columns=[f'Top {i+1}' for i in range(3)])\n",
    "\n",
    "# Combine with original DataFrame\n",
    "# Reset indices to ensure alignment\n",
    "df_reset = df_matrices.reset_index(drop=True)\n",
    "top_columns_df_reset = top_columns_df.reset_index(drop=True)\n",
    "\n",
    "# Combine with original DataFrame\n",
    "result_df = pd.concat([df_reset, top_columns_df_reset], axis=1)\n",
    "print(result_df)"
   ]
  },
  {
   "cell_type": "code",
   "execution_count": null,
   "metadata": {},
   "outputs": [],
   "source": [
    "# appending the top values to the df Matrices data merged with the solutions data\n",
    "newdf['Top 1'] = result_df['Top 1']\n",
    "newdf['Top 2'] = result_df['Top 2']\n",
    "newdf['Top 3'] = result_df['Top 3']\n",
    "\n",
    "newdf"
   ]
  },
  {
   "cell_type": "code",
   "execution_count": null,
   "metadata": {},
   "outputs": [],
   "source": [
    "# Assuming df is your DataFrame and you want top N records for specific columns\n",
    "def get_top_n_records(df, columns, n=5, sort_by=None):\n",
    "    \"\"\"\n",
    "    Get the top N records for specified columns in a DataFrame.\n",
    "    \n",
    "    Parameters:\n",
    "    -----------\n",
    "    df : pandas DataFrame\n",
    "        The input DataFrame\n",
    "    columns : list\n",
    "        List of column names to include\n",
    "    n : int, default=5\n",
    "        Number of records to return\n",
    "    sort_by : str or list, default=None\n",
    "        Column(s) to sort by. If None, uses the first column in 'columns'\n",
    "        \n",
    "    Returns:\n",
    "    --------\n",
    "    pandas DataFrame\n",
    "        DataFrame containing the top N records for the specified columns\n",
    "    \"\"\"\n",
    "    # Select only the specified columns\n",
    "    result = df[columns].copy()\n",
    "    \n",
    "    # Determine sorting column(s)\n",
    "    if sort_by is None and len(columns) > 0:\n",
    "        sort_by = columns[0]\n",
    "    \n",
    "    # Sort if sort_by is specified\n",
    "    if sort_by is not None:\n",
    "        result = result.sort_values(by=sort_by, ascending=False)\n",
    "    \n",
    "    # Return top N records\n",
    "    return result.head(n)\n",
    "\n",
    "# Example usage\n",
    "top_records = get_top_n_records(\n",
    "    df=filtered_df, \n",
    "    columns=['Top 1', 'Top 2', 'Top 3'],\n",
    "    n=1\n",
    ")\n",
    "\n",
    "print(top_records)"
   ]
  },
  {
   "cell_type": "code",
   "execution_count": null,
   "metadata": {},
   "outputs": [],
   "source": [
    "# Columns to export\n",
    "columns_to_export = ['Top 1', 'Top 2', 'Top 3', 'Sex_F', 'ADHD_Outcome']\n",
    "\n",
    "# Export to Excel, including only the selected columns to analyze further \n",
    "newdf.to_excel('output2.xlsx', columns=columns_to_export, index=False)\n"
   ]
  }
 ],
 "metadata": {
  "language_info": {
   "name": "python"
  }
 },
 "nbformat": 4,
 "nbformat_minor": 2
}
