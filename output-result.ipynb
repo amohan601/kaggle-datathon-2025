{
 "cells": [
  {
   "cell_type": "code",
   "execution_count": 26,
   "id": "e92e839a-d375-4991-9632-13955346affc",
   "metadata": {},
   "outputs": [],
   "source": [
    "import pandas as pd\n",
    "from sklearn.model_selection import cross_val_score\n",
    "from sklearn.metrics import make_scorer, accuracy_score\n",
    "import numpy as np\n",
    "from xgboost import XGBClassifier\n",
    "from sklearn.multioutput import MultiOutputClassifier\n",
    "from sklearn.model_selection import train_test_split\n",
    "import joblib\n",
    "import xlsxwriter\n",
    "import os\n",
    "import plotly.io as pio\n",
    "pio.renderers.default = 'notebook'\n",
    "import plotly.express as px\n",
    "\n",
    "import matplotlib.pyplot as plt\n",
    "from sklearn.decomposition import PCA\n",
    "from sklearn.preprocessing import StandardScaler\n",
    "import seaborn as sns\n",
    "\n",
    "from scipy.cluster import hierarchy\n",
    "from scipy.spatial.distance import pdist, squareform\n",
    "from sklearn.metrics import silhouette_score\n",
    "\n",
    "# @changes from inna\n",
    "from sklearn.preprocessing import OneHotEncoder, OrdinalEncoder"
   ]
  },
  {
   "cell_type": "code",
   "execution_count": 27,
   "id": "91584b18-4524-49a0-adbc-27cd5120e34d",
   "metadata": {},
   "outputs": [],
   "source": [
    "def load_data(folderPathTrain, folderPathTest):\n",
    "    print('load new files')\n",
    "    df_categorical = pd.read_excel(f'{folderPathTrain}/TRAIN_CATEGORICAL_METADATA_new.xlsx')\n",
    "    df_matrices = pd.read_csv(f'{folderPathTrain}/TRAIN_FUNCTIONAL_CONNECTOME_MATRICES_new_36P_Pearson.csv')\n",
    "    df_quant = pd.read_excel(f'{folderPathTrain}/TRAIN_QUANTITATIVE_METADATA_new.xlsx')\n",
    "    df_solutions = pd.read_excel(f'{folderPathTrain}/TRAINING_SOLUTIONS.xlsx')  \n",
    "    print('load test files')\n",
    "    df_categorical_test = pd.read_excel(f'{folderPathTest}/TEST_CATEGORICAL.xlsx')\n",
    "    df_matrices_test = pd.read_csv(f'{folderPathTest}/TEST_FUNCTIONAL_CONNECTOME_MATRICES.csv')\n",
    "    df_quant_test = pd.read_excel(f'{folderPathTest}/TEST_QUANTITATIVE_METADATA.xlsx')\n",
    "    return df_categorical,df_matrices,df_quant,df_solutions,df_categorical_test,df_matrices_test,df_quant_test"
   ]
  },
  {
   "cell_type": "code",
   "execution_count": 78,
   "id": "e040883f-7790-4bfe-9e3e-97075fed55d1",
   "metadata": {},
   "outputs": [],
   "source": [
    "def join_data(categorical,matrices,quantitative,solutions=None):\n",
    "    print('joining data frames')\n",
    "    cat_quant = pd.merge(categorical, quantitative , on ='participant_id', how ='inner')\n",
    "    cat_quant_mat = pd.merge(cat_quant, matrices , on ='participant_id', how ='inner')\n",
    "    if isinstance(solutions, pd.DataFrame):\n",
    "        cat_quant_mat_sols = pd.merge(cat_quant_mat, solutions , on ='participant_id', how ='inner')\n",
    "        return cat_quant_mat_sols\n",
    "    else:    \n",
    "        return cat_quant_mat"
   ]
  },
  {
   "cell_type": "code",
   "execution_count": 29,
   "id": "e091d34b-b925-4622-9995-73a2eff9ce85",
   "metadata": {},
   "outputs": [],
   "source": [
    "def xgboost_classifer(objective = 'binary:logistic', max_depth=5,learning_rate=0.1,n_estimators=100):\n",
    "    print('xgboost_classifer')\n",
    "    # Initialize the base classifier\n",
    "    classifier = XGBClassifier(objective=objective, \\\n",
    "                               n_estimators=n_estimators, learning_rate=learning_rate, max_depth=max_depth)\n",
    "    multioutput_classifier = MultiOutputClassifier(classifier)\n",
    "    return multioutput_classifier"
   ]
  },
  {
   "cell_type": "code",
   "execution_count": 31,
   "id": "703bef88-dd2d-4dfd-b0dc-900b2f7f0d8f",
   "metadata": {},
   "outputs": [],
   "source": [
    "def predict(model,X_test):\n",
    "    print('predict with the model')\n",
    "    X_test_data  = X_test.drop(columns = ['participant_id'] )\n",
    "    y_pred = model.predict(X_test_data)\n",
    "    predictions_df = pd.DataFrame(\n",
    "        y_pred,\n",
    "        columns=['Predicted_Gender', 'Predicted_ADHD']\n",
    "    )\n",
    "    return predictions_df"
   ]
  },
  {
   "cell_type": "code",
   "execution_count": 32,
   "id": "c685473c-278b-46cd-96d6-d551b59ed902",
   "metadata": {},
   "outputs": [],
   "source": [
    "def calculate_score(y_test,y_pred):\n",
    "    print('calculate score with prediction vs true values')\n",
    "    y_test_results  = y_test.drop(columns = ['participant_id'] )\n",
    "    accuracy = accuracy_score(y_test_results, y_pred)\n",
    "    print(f\"Accuracy: {accuracy * 100:.2f}%\")"
   ]
  },
  {
   "cell_type": "code",
   "execution_count": 33,
   "id": "c6fde7e0-0a6f-4792-acfe-5da22cedf397",
   "metadata": {},
   "outputs": [],
   "source": [
    "def split_train_data(X,Y):\n",
    "    print('split the train and test data')\n",
    "    X_train_data, X_test_data, y_train_data, y_test_data = train_test_split(X, Y, test_size=0.2, random_state=42)\n",
    "    return X_train_data, X_test_data, y_train_data, y_test_data"
   ]
  },
  {
   "cell_type": "code",
   "execution_count": 34,
   "id": "d2f1be46-f7fc-4b14-9f48-e3bd237e6c61",
   "metadata": {},
   "outputs": [],
   "source": [
    "def multi_output_accuracy(y_true, y_pred):\n",
    "    print('multi_output_accuracy')\n",
    "    # Ensure y_true and y_pred are NumPy arrays\n",
    "    y_true = np.array(y_true)\n",
    "    y_pred = np.array(y_pred)\n",
    "    # Compute accuracy for each target variable and return the mean\n",
    "    return np.mean([accuracy_score(y_true[:, i], y_pred[:, i]) for i in range(y_true.shape[1])])"
   ]
  },
  {
   "cell_type": "code",
   "execution_count": 35,
   "id": "c5118ade-a2dc-4205-bceb-211daaf6ee60",
   "metadata": {},
   "outputs": [],
   "source": [
    "def do_cross_validation(X,Y,model):\n",
    "    # Perform cross-validation on the training data\n",
    "    X_train_cv  = X.drop(columns = ['participant_id'] )\n",
    "    y_train_cv  = Y.drop(columns = ['participant_id'] )\n",
    "    # Create a scorer using scikit-learn's make_scorer\n",
    "    multi_output_scorer = make_scorer(multi_output_accuracy)\n",
    "    cv_scores = cross_val_score(model, X_train_cv, y_train_cv, cv=5, scoring=multi_output_scorer)\n",
    "    \n",
    "    # Output the cross-validation results\n",
    "    print(\"Cross-validation scores for each fold:\", cv_scores)\n",
    "    print(\"Mean CV score:\", f'Mean Accuracy: {np.mean(cv_scores) * 100:.2f}%')"
   ]
  },
  {
   "cell_type": "code",
   "execution_count": 95,
   "id": "a2ebed42-c23c-443b-ad4b-c18c54c511fe",
   "metadata": {},
   "outputs": [],
   "source": [
    "def transform_matrices_data(df_matrices_new,n_components = 1000):\n",
    "    print('starting pca analysis')\n",
    "    df_matrices_for_pca = df_matrices_new.drop(columns = ['participant_id'] )\n",
    "    # PCA df with index preserved as index\n",
    "    \n",
    "    original_index = df_matrices_for_pca.index\n",
    "    \n",
    "    # 1. Standardize the data (excluding the first column)\n",
    "    scaler = StandardScaler()\n",
    "    scaled_data = scaler.fit_transform(df_matrices_for_pca)\n",
    "    \n",
    "    # 2. Apply PCA\n",
    "    # Start with a smaller number of components for exploration\n",
    "    pca = PCA(n_components=n_components)  # Adjust based on your needs\n",
    "    pca_result = pca.fit_transform(scaled_data)\n",
    "    \n",
    "    # 3. Analyze explained variance\n",
    "    explained_variance = pca.explained_variance_ratio_\n",
    "    cumulative_variance = np.cumsum(explained_variance)\n",
    "    \n",
    "    # 5. Find number of components for desired variance (e.g., 80%)\n",
    "    n_components_80 = np.argmax(cumulative_variance >= 0.8) + 1\n",
    "    print(f\"Number of components needed for 80% variance: {n_components_80}\")\n",
    "    \n",
    "    # 6. Re-run PCA with the optimal number of components\n",
    "    pca_final = PCA(n_components=n_components_80)\n",
    "    pca_result_final = pca_final.fit_transform(scaled_data)\n",
    "    \n",
    "    # 7. Create a DataFrame with the PCA results\n",
    "    pca_df = pd.DataFrame(\n",
    "        data=pca_result_final,\n",
    "        columns=[f'PC{i+1}' for i in range(n_components_80)],\n",
    "        index=original_index\n",
    "    )\n",
    "\n",
    "    # 8 \n",
    "    pca_df['participant_id'] = df_matrices_new['participant_id']\n",
    "    \n",
    "    return pca_df"
   ]
  },
  {
   "cell_type": "code",
   "execution_count": 72,
   "id": "d493e54b-c66d-4853-be1a-fe54e93d79bf",
   "metadata": {},
   "outputs": [],
   "source": [
    "def transform_quant_data(df_quant_new):\n",
    "    print('starting quant data scaling')\n",
    "    df_quant_scaled_dropped = df_quant_new.drop(columns = ['participant_id'] )\n",
    "    df_quant_scaled_dropped = pd.DataFrame(df_quant_scaled_dropped)\n",
    "    scaler = StandardScaler()\n",
    "    df_quant_scaled = scaler.fit_transform(df_quant_scaled_dropped)\n",
    "    df_quant_scaled = pd.DataFrame(df_quant_scaled)\n",
    "    df_quant_scaled['participant_id'] = df_quant_new['participant_id']\n",
    "\n",
    "    #select specific columns only for classifier\n",
    "    df_quant_scaled_selected = df_quant_scaled.iloc[:,4:]\n",
    "    return df_quant_scaled_selected"
   ]
  },
  {
   "cell_type": "code",
   "execution_count": 38,
   "id": "02fb1674-717c-4fc9-acb5-01dd4eb46f46",
   "metadata": {},
   "outputs": [],
   "source": [
    "def transform_categorical_data(df_categorical_new):\n",
    "    print('starting categorical data encoding')\n",
    "    # One-Hot Encoding (nominal)\n",
    "    onehot_encoder = OneHotEncoder(sparse_output=False, drop='first') #drop first to prevent multicollinearity\n",
    "    nominal_cols = ['MRI_Track_Scan_Location', 'Basic_Demos_Study_Site', 'PreInt_Demos_Fam_Child_Race', 'PreInt_Demos_Fam_Child_Ethnicity']\n",
    "    onehot_encoded = onehot_encoder.fit_transform(df_categorical_new[nominal_cols])\n",
    "    onehot_df = pd.DataFrame(onehot_encoded, columns=onehot_encoder.get_feature_names_out(nominal_cols))\n",
    "    encoded_df = pd.concat([df_categorical_new, onehot_df], axis=1)\n",
    "    encoded_df = encoded_df.drop(nominal_cols, axis=1)\n",
    "\n",
    "    # Handle NaN and 0.0 values (imputation example)\n",
    "    encoded_df['Barratt_Barratt_P1_Edu'] = encoded_df['Barratt_Barratt_P1_Edu'].fillna(encoded_df['Barratt_Barratt_P1_Edu'].median())\n",
    "    encoded_df['Barratt_Barratt_P2_Edu'] = encoded_df['Barratt_Barratt_P2_Edu'].fillna(encoded_df['Barratt_Barratt_P2_Edu'].median())\n",
    "    \n",
    "    encoded_df['Barratt_Barratt_P1_Edu'] = encoded_df['Barratt_Barratt_P1_Edu'].replace(0.0, encoded_df['Barratt_Barratt_P1_Edu'].median())\n",
    "    encoded_df['Barratt_Barratt_P2_Edu'] = encoded_df['Barratt_Barratt_P2_Edu'].replace(0.0, encoded_df['Barratt_Barratt_P2_Edu'].median())\n",
    "\n",
    "    # Ordinal Encoding (ordinal)\n",
    "    ordinal_encoder = OrdinalEncoder(categories=[[ 3, 6, 9, 12, 15, 18, 21],[ 3, 6, 9, 12, 15, 18, 21] ])\n",
    "    ordinal_cols = ['Barratt_Barratt_P1_Edu', 'Barratt_Barratt_P2_Edu']\n",
    "    encoded_df[ordinal_cols] = ordinal_encoder.fit_transform(encoded_df[ordinal_cols])\n",
    "\n",
    "    # Handle NaN and 0.0 values (imputation example)\n",
    "    encoded_df['Barratt_Barratt_P1_Occ'] = encoded_df['Barratt_Barratt_P1_Occ'].fillna(encoded_df['Barratt_Barratt_P1_Occ'].median())\n",
    "    encoded_df['Barratt_Barratt_P2_Occ'] = encoded_df['Barratt_Barratt_P2_Occ'].fillna(encoded_df['Barratt_Barratt_P2_Occ'].median())\n",
    "    encoded_df['Barratt_Barratt_P1_Occ'] = encoded_df['Barratt_Barratt_P1_Occ'].replace(0.0, encoded_df['Barratt_Barratt_P1_Occ'].median())\n",
    "    encoded_df['Barratt_Barratt_P2_Occ'] = encoded_df['Barratt_Barratt_P2_Occ'].replace(0.0, encoded_df['Barratt_Barratt_P2_Occ'].median())\n",
    "    \n",
    "    # Ordinal Encoding (ordinal)\n",
    "    ordinal_encoder = OrdinalEncoder(categories=[[0, 5, 10, 15, 20, 25, 30, 35, 40, 45], [0, 5, 10, 15, 20, 25, 30, 35, 40, 45]])\n",
    "    ordinal_cols = ['Barratt_Barratt_P1_Occ', 'Barratt_Barratt_P2_Occ']\n",
    "    encoded_df[ordinal_cols] = ordinal_encoder.fit_transform(encoded_df[ordinal_cols])\n",
    "\n",
    "    encoded_df_modified = encoded_df.drop(columns = ['Basic_Demos_Enroll_Year'])\n",
    "    return encoded_df_modified"
   ]
  },
  {
   "cell_type": "code",
   "execution_count": 47,
   "id": "7277fc20-0e72-40d7-8b8e-c3cbec6adf79",
   "metadata": {},
   "outputs": [],
   "source": [
    "def xgboost_train(X = None, Y =None,max_depth= None,learning_rate = None,n_estimators = None):\n",
    "    print('starting training')\n",
    "    print('setting tuning params')\n",
    "    classifier = xgboost_classifer(max_depth=max_depth,learning_rate=learning_rate,n_estimators=n_estimators)\n",
    "    print('splitting to test and train')\n",
    "    X_train_data, X_test_data, y_train_data, y_test_data = split_train_data(X, Y)\n",
    "    \n",
    "    print('training the model')\n",
    "    X_train  = X_train_data.drop(columns = ['participant_id'] )\n",
    "    y_train  = y_train_data.drop(columns = ['participant_id'] )\n",
    "    classifier.fit(X_train, y_train)\n",
    "    \n",
    "    print('setting cross validation classifier with tuning params')\n",
    "    classifier_cv = xgboost_classifer(max_depth=max_depth,learning_rate=learning_rate,n_estimators=n_estimators)\n",
    "    print('start cross validation')\n",
    "    do_cross_validation(X,Y,classifier_cv)\n",
    "    \n",
    "    print('check accuracy')\n",
    "    y_pred = predict(classifier,X_test_data)\n",
    "    print('calculate score')\n",
    "    accuracy = calculate_score(y_test_data,y_pred)\n",
    "    return classifier"
   ]
  },
  {
   "cell_type": "code",
   "execution_count": 40,
   "id": "cb7b6290-0c8a-4e49-92dc-9f1e7b43e25f",
   "metadata": {},
   "outputs": [],
   "source": [
    "def xgboost_test(classifier = None,X = None):\n",
    "    print('start testing')\n",
    "    Y = predict(classifier,X)\n",
    "    return Y"
   ]
  },
  {
   "cell_type": "code",
   "execution_count": null,
   "id": "966c85c6-d929-40f6-b84e-444e006dff0d",
   "metadata": {},
   "outputs": [],
   "source": []
  },
  {
   "cell_type": "code",
   "execution_count": null,
   "id": "f6ebf7e6-cec8-4b2f-8e46-bb4735d36503",
   "metadata": {},
   "outputs": [],
   "source": []
  },
  {
   "cell_type": "markdown",
   "id": "9eaf6668-5462-4f26-a954-441a810fc145",
   "metadata": {},
   "source": [
    "## train"
   ]
  },
  {
   "cell_type": "code",
   "execution_count": 41,
   "id": "2fc71f50-a4cf-4da3-b432-6bd5735c5d93",
   "metadata": {},
   "outputs": [
    {
     "name": "stdout",
     "output_type": "stream",
     "text": [
      "load new files\n",
      "load test files\n"
     ]
    }
   ],
   "source": [
    "folderPathTrain, folderPathTest = 'Datafiles/TRAIN_NEW/' , 'Datafiles/TEST/'\n",
    "df_categorical_new,df_matrices_new,df_quant_new,df_solutions_new,df_categorical_test,df_matrices_test,df_quant_test = load_data(folderPathTrain, folderPathTest)"
   ]
  },
  {
   "cell_type": "code",
   "execution_count": 73,
   "id": "692f0a49-d8ba-45ca-9399-be5c62be30e9",
   "metadata": {},
   "outputs": [
    {
     "name": "stdout",
     "output_type": "stream",
     "text": [
      "starting pca analysis\n",
      "Number of components needed for 80% variance: 464\n",
      "starting quant data scaling\n",
      "starting categorical data encoding\n"
     ]
    }
   ],
   "source": [
    "pca_df_train = transform_matrices_data(df_matrices_new)\n",
    "quant_df_train = transform_quant_data(df_quant_new)\n",
    "cat_df_train = transform_categorical_data(df_categorical_new)"
   ]
  },
  {
   "cell_type": "code",
   "execution_count": 79,
   "id": "7460ff98-62e3-46da-8457-5cc1faffd4ce",
   "metadata": {},
   "outputs": [
    {
     "name": "stdout",
     "output_type": "stream",
     "text": [
      "joining data frames\n"
     ]
    }
   ],
   "source": [
    "joined_training_data = join_data(cat_df_train,pca_df_train,quant_df_train,df_solutions_new)\n",
    "X = joined_training_data.drop(columns = ['ADHD_Outcome','Sex_F'] )\n",
    "Y = joined_training_data[['participant_id','ADHD_Outcome','Sex_F']]"
   ]
  },
  {
   "cell_type": "code",
   "execution_count": 81,
   "id": "5e98fd11-ac76-4320-aa9d-cf38c73373c1",
   "metadata": {},
   "outputs": [
    {
     "data": {
      "text/plain": [
       "(1213, 504)"
      ]
     },
     "execution_count": 81,
     "metadata": {},
     "output_type": "execute_result"
    }
   ],
   "source": [
    "X.shape"
   ]
  },
  {
   "cell_type": "code",
   "execution_count": 88,
   "id": "a4b1e837-581f-4a52-92f0-e91ceb493560",
   "metadata": {},
   "outputs": [
    {
     "data": {
      "text/plain": [
       "participant_id    1213\n",
       "ADHD_Outcome      1213\n",
       "Sex_F             1213\n",
       "dtype: int64"
      ]
     },
     "execution_count": 88,
     "metadata": {},
     "output_type": "execute_result"
    }
   ],
   "source": [
    "Y.count()"
   ]
  },
  {
   "cell_type": "code",
   "execution_count": 89,
   "id": "d41c5437-55b9-4663-a914-93fab0edfc50",
   "metadata": {},
   "outputs": [
    {
     "name": "stdout",
     "output_type": "stream",
     "text": [
      "starting training\n",
      "setting tuning params\n",
      "xgboost_classifer\n",
      "splitting to test and train\n",
      "split the train and test data\n",
      "training the model\n",
      "setting cross validation classifier with tuning params\n",
      "xgboost_classifer\n",
      "start cross validation\n",
      "multi_output_accuracy\n",
      "multi_output_accuracy\n",
      "multi_output_accuracy\n",
      "multi_output_accuracy\n",
      "multi_output_accuracy\n",
      "Cross-validation scores for each fold: [0.72222222 0.75925926 0.69958848 0.75826446 0.71694215]\n",
      "Mean CV score: Mean Accuracy: 73.13%\n",
      "check accuracy\n",
      "predict with the model\n",
      "calculate score\n",
      "calculate score with prediction vs true values\n",
      "Accuracy: 58.44%\n"
     ]
    }
   ],
   "source": [
    "classifier_trained = xgboost_train(X = X, Y =Y,max_depth= 5,learning_rate = 0.1,n_estimators = 100)"
   ]
  },
  {
   "cell_type": "markdown",
   "id": "a84a825c-de80-427c-b688-ea04164e758a",
   "metadata": {},
   "source": [
    "## test"
   ]
  },
  {
   "cell_type": "code",
   "execution_count": 91,
   "id": "d3285f3f-4ffa-4db4-96d9-0bc47f1360c7",
   "metadata": {},
   "outputs": [
    {
     "data": {
      "text/plain": [
       "participant_id          304\n",
       "0throw_1thcolumn        304\n",
       "0throw_2thcolumn        304\n",
       "0throw_3thcolumn        304\n",
       "0throw_4thcolumn        304\n",
       "                       ... \n",
       "196throw_198thcolumn    304\n",
       "196throw_199thcolumn    304\n",
       "197throw_198thcolumn    304\n",
       "197throw_199thcolumn    304\n",
       "198throw_199thcolumn    304\n",
       "Length: 19901, dtype: int64"
      ]
     },
     "execution_count": 91,
     "metadata": {},
     "output_type": "execute_result"
    }
   ],
   "source": [
    "df_matrices_test.count()"
   ]
  },
  {
   "cell_type": "code",
   "execution_count": 92,
   "id": "a484a302-d7d4-4810-82ea-9640edef33d3",
   "metadata": {},
   "outputs": [
    {
     "data": {
      "text/plain": [
       "participant_id                304\n",
       "EHQ_EHQ_Total                 303\n",
       "ColorVision_CV_Score          295\n",
       "APQ_P_APQ_P_CP                289\n",
       "APQ_P_APQ_P_ID                289\n",
       "APQ_P_APQ_P_INV               289\n",
       "APQ_P_APQ_P_OPD               289\n",
       "APQ_P_APQ_P_PM                289\n",
       "APQ_P_APQ_P_PP                289\n",
       "SDQ_SDQ_Conduct_Problems      274\n",
       "SDQ_SDQ_Difficulties_Total    274\n",
       "SDQ_SDQ_Emotional_Problems    274\n",
       "SDQ_SDQ_Externalizing         274\n",
       "SDQ_SDQ_Generating_Impact     274\n",
       "SDQ_SDQ_Hyperactivity         274\n",
       "SDQ_SDQ_Internalizing         274\n",
       "SDQ_SDQ_Peer_Problems         274\n",
       "SDQ_SDQ_Prosocial             274\n",
       "MRI_Track_Age_at_Scan         304\n",
       "dtype: int64"
      ]
     },
     "execution_count": 92,
     "metadata": {},
     "output_type": "execute_result"
    }
   ],
   "source": [
    "df_quant_test.count()"
   ]
  },
  {
   "cell_type": "code",
   "execution_count": 93,
   "id": "be5c34f8-5c37-4795-9fe0-a613971e1d33",
   "metadata": {},
   "outputs": [
    {
     "data": {
      "text/plain": [
       "participant_id                      304\n",
       "Basic_Demos_Enroll_Year             304\n",
       "Basic_Demos_Study_Site              304\n",
       "PreInt_Demos_Fam_Child_Ethnicity    301\n",
       "PreInt_Demos_Fam_Child_Race         298\n",
       "MRI_Track_Scan_Location             304\n",
       "Barratt_Barratt_P1_Edu              303\n",
       "Barratt_Barratt_P1_Occ              303\n",
       "Barratt_Barratt_P2_Edu              268\n",
       "Barratt_Barratt_P2_Occ              262\n",
       "dtype: int64"
      ]
     },
     "execution_count": 93,
     "metadata": {},
     "output_type": "execute_result"
    }
   ],
   "source": [
    "df_categorical_test.count()"
   ]
  },
  {
   "cell_type": "code",
   "execution_count": 96,
   "id": "a64d72b6-5ec5-430a-ab40-224140504761",
   "metadata": {},
   "outputs": [
    {
     "name": "stdout",
     "output_type": "stream",
     "text": [
      "starting pca analysis\n",
      "Number of components needed for 80% variance: 162\n",
      "starting quant data scaling\n",
      "starting categorical data encoding\n"
     ]
    }
   ],
   "source": [
    "pca_df_test = transform_matrices_data(df_matrices_test,n_components = 200)\n",
    "quant_df_test = transform_quant_data(df_quant_test)\n",
    "cat_df_test = transform_categorical_data(df_categorical_test)"
   ]
  },
  {
   "cell_type": "code",
   "execution_count": 98,
   "id": "7be0eb8f-c52a-46e0-a697-d6aac72251fc",
   "metadata": {},
   "outputs": [
    {
     "name": "stdout",
     "output_type": "stream",
     "text": [
      "joining data frames\n"
     ]
    }
   ],
   "source": [
    "X_test = join_data(cat_df_test,pca_df_test,quant_df_test)"
   ]
  },
  {
   "cell_type": "code",
   "execution_count": 101,
   "id": "9ad12fe9-7577-4931-bf76-7a6a8a981f1c",
   "metadata": {},
   "outputs": [
    {
     "data": {
      "text/plain": [
       "Index(['participant_id', 'Barratt_Barratt_P1_Edu', 'Barratt_Barratt_P1_Occ',\n",
       "       'Barratt_Barratt_P2_Edu', 'Barratt_Barratt_P2_Occ',\n",
       "       'MRI_Track_Scan_Location_2.0', 'MRI_Track_Scan_Location_3.0',\n",
       "       'MRI_Track_Scan_Location_4.0', 'MRI_Track_Scan_Location_nan',\n",
       "       'Basic_Demos_Study_Site_2', 'Basic_Demos_Study_Site_3',\n",
       "       'Basic_Demos_Study_Site_4', 'PreInt_Demos_Fam_Child_Race_1.0',\n",
       "       'PreInt_Demos_Fam_Child_Race_2.0', 'PreInt_Demos_Fam_Child_Race_3.0',\n",
       "       'PreInt_Demos_Fam_Child_Race_4.0', 'PreInt_Demos_Fam_Child_Race_7.0',\n",
       "       'PreInt_Demos_Fam_Child_Race_8.0', 'PreInt_Demos_Fam_Child_Race_9.0',\n",
       "       'PreInt_Demos_Fam_Child_Race_10.0', 'PreInt_Demos_Fam_Child_Race_11.0',\n",
       "       'PreInt_Demos_Fam_Child_Race_nan',\n",
       "       'PreInt_Demos_Fam_Child_Ethnicity_1.0',\n",
       "       'PreInt_Demos_Fam_Child_Ethnicity_2.0',\n",
       "       'PreInt_Demos_Fam_Child_Ethnicity_3.0',\n",
       "       'PreInt_Demos_Fam_Child_Ethnicity_nan'],\n",
       "      dtype='object')"
      ]
     },
     "execution_count": 101,
     "metadata": {},
     "output_type": "execute_result"
    }
   ],
   "source": [
    "cat_df_train.columns"
   ]
  },
  {
   "cell_type": "code",
   "execution_count": 102,
   "id": "6ee29f46-acc1-474a-ae21-6aecae707834",
   "metadata": {},
   "outputs": [
    {
     "data": {
      "text/plain": [
       "Index(['participant_id', 'Barratt_Barratt_P1_Edu', 'Barratt_Barratt_P1_Occ',\n",
       "       'Barratt_Barratt_P2_Edu', 'Barratt_Barratt_P2_Occ',\n",
       "       'MRI_Track_Scan_Location_4', 'Basic_Demos_Study_Site_5',\n",
       "       'PreInt_Demos_Fam_Child_Race_1.0', 'PreInt_Demos_Fam_Child_Race_2.0',\n",
       "       'PreInt_Demos_Fam_Child_Race_3.0', 'PreInt_Demos_Fam_Child_Race_4.0',\n",
       "       'PreInt_Demos_Fam_Child_Race_7.0', 'PreInt_Demos_Fam_Child_Race_8.0',\n",
       "       'PreInt_Demos_Fam_Child_Race_9.0', 'PreInt_Demos_Fam_Child_Race_11.0',\n",
       "       'PreInt_Demos_Fam_Child_Race_nan',\n",
       "       'PreInt_Demos_Fam_Child_Ethnicity_1.0',\n",
       "       'PreInt_Demos_Fam_Child_Ethnicity_2.0',\n",
       "       'PreInt_Demos_Fam_Child_Ethnicity_3.0',\n",
       "       'PreInt_Demos_Fam_Child_Ethnicity_nan'],\n",
       "      dtype='object')"
      ]
     },
     "execution_count": 102,
     "metadata": {},
     "output_type": "execute_result"
    }
   ],
   "source": [
    "cat_df_test.columns"
   ]
  },
  {
   "cell_type": "code",
   "execution_count": 99,
   "id": "8e639dd0-df95-427c-b01f-3ebf85648bc1",
   "metadata": {},
   "outputs": [
    {
     "data": {
      "text/html": [
       "<div>\n",
       "<style scoped>\n",
       "    .dataframe tbody tr th:only-of-type {\n",
       "        vertical-align: middle;\n",
       "    }\n",
       "\n",
       "    .dataframe tbody tr th {\n",
       "        vertical-align: top;\n",
       "    }\n",
       "\n",
       "    .dataframe thead th {\n",
       "        text-align: right;\n",
       "    }\n",
       "</style>\n",
       "<table border=\"1\" class=\"dataframe\">\n",
       "  <thead>\n",
       "    <tr style=\"text-align: right;\">\n",
       "      <th></th>\n",
       "      <th>participant_id</th>\n",
       "      <th>Barratt_Barratt_P1_Edu</th>\n",
       "      <th>Barratt_Barratt_P1_Occ</th>\n",
       "      <th>Barratt_Barratt_P2_Edu</th>\n",
       "      <th>Barratt_Barratt_P2_Occ</th>\n",
       "      <th>MRI_Track_Scan_Location_4</th>\n",
       "      <th>Basic_Demos_Study_Site_5</th>\n",
       "      <th>PreInt_Demos_Fam_Child_Race_1.0</th>\n",
       "      <th>PreInt_Demos_Fam_Child_Race_2.0</th>\n",
       "      <th>PreInt_Demos_Fam_Child_Race_3.0</th>\n",
       "      <th>...</th>\n",
       "      <th>PC153</th>\n",
       "      <th>PC154</th>\n",
       "      <th>PC155</th>\n",
       "      <th>PC156</th>\n",
       "      <th>PC157</th>\n",
       "      <th>PC158</th>\n",
       "      <th>PC159</th>\n",
       "      <th>PC160</th>\n",
       "      <th>PC161</th>\n",
       "      <th>PC162</th>\n",
       "    </tr>\n",
       "  </thead>\n",
       "  <tbody>\n",
       "    <tr>\n",
       "      <th>0</th>\n",
       "      <td>Cfwaf5FX7jWK</td>\n",
       "      <td>6.0</td>\n",
       "      <td>6.0</td>\n",
       "      <td>5.0</td>\n",
       "      <td>6.0</td>\n",
       "      <td>1.0</td>\n",
       "      <td>0.0</td>\n",
       "      <td>0.0</td>\n",
       "      <td>0.0</td>\n",
       "      <td>0.0</td>\n",
       "      <td>...</td>\n",
       "      <td>4.361060</td>\n",
       "      <td>-1.470873</td>\n",
       "      <td>3.497982</td>\n",
       "      <td>-0.968178</td>\n",
       "      <td>14.226648</td>\n",
       "      <td>-4.248896</td>\n",
       "      <td>1.594867</td>\n",
       "      <td>8.371786</td>\n",
       "      <td>-0.437670</td>\n",
       "      <td>1.445551</td>\n",
       "    </tr>\n",
       "    <tr>\n",
       "      <th>1</th>\n",
       "      <td>vhGrzmvA3Hjq</td>\n",
       "      <td>6.0</td>\n",
       "      <td>9.0</td>\n",
       "      <td>5.0</td>\n",
       "      <td>6.0</td>\n",
       "      <td>1.0</td>\n",
       "      <td>0.0</td>\n",
       "      <td>0.0</td>\n",
       "      <td>0.0</td>\n",
       "      <td>0.0</td>\n",
       "      <td>...</td>\n",
       "      <td>-3.249966</td>\n",
       "      <td>14.663355</td>\n",
       "      <td>-11.107535</td>\n",
       "      <td>-1.141988</td>\n",
       "      <td>-8.864034</td>\n",
       "      <td>6.600151</td>\n",
       "      <td>-4.326540</td>\n",
       "      <td>5.802841</td>\n",
       "      <td>-10.878062</td>\n",
       "      <td>-3.332385</td>\n",
       "    </tr>\n",
       "  </tbody>\n",
       "</table>\n",
       "<p>2 rows × 196 columns</p>\n",
       "</div>"
      ],
      "text/plain": [
       "  participant_id  Barratt_Barratt_P1_Edu  Barratt_Barratt_P1_Occ  \\\n",
       "0   Cfwaf5FX7jWK                     6.0                     6.0   \n",
       "1   vhGrzmvA3Hjq                     6.0                     9.0   \n",
       "\n",
       "   Barratt_Barratt_P2_Edu  Barratt_Barratt_P2_Occ  MRI_Track_Scan_Location_4  \\\n",
       "0                     5.0                     6.0                        1.0   \n",
       "1                     5.0                     6.0                        1.0   \n",
       "\n",
       "   Basic_Demos_Study_Site_5  PreInt_Demos_Fam_Child_Race_1.0  \\\n",
       "0                       0.0                              0.0   \n",
       "1                       0.0                              0.0   \n",
       "\n",
       "   PreInt_Demos_Fam_Child_Race_2.0  PreInt_Demos_Fam_Child_Race_3.0  ...  \\\n",
       "0                              0.0                              0.0  ...   \n",
       "1                              0.0                              0.0  ...   \n",
       "\n",
       "      PC153      PC154      PC155     PC156      PC157     PC158     PC159  \\\n",
       "0  4.361060  -1.470873   3.497982 -0.968178  14.226648 -4.248896  1.594867   \n",
       "1 -3.249966  14.663355 -11.107535 -1.141988  -8.864034  6.600151 -4.326540   \n",
       "\n",
       "      PC160      PC161     PC162  \n",
       "0  8.371786  -0.437670  1.445551  \n",
       "1  5.802841 -10.878062 -3.332385  \n",
       "\n",
       "[2 rows x 196 columns]"
      ]
     },
     "execution_count": 99,
     "metadata": {},
     "output_type": "execute_result"
    }
   ],
   "source": [
    "X_test.head(2)"
   ]
  },
  {
   "cell_type": "code",
   "execution_count": 103,
   "id": "b0888fed-0526-4d0b-b085-68c68b28cee7",
   "metadata": {},
   "outputs": [
    {
     "data": {
      "text/plain": [
       "participant_id            304\n",
       "Barratt_Barratt_P1_Edu    304\n",
       "Barratt_Barratt_P1_Occ    304\n",
       "Barratt_Barratt_P2_Edu    304\n",
       "Barratt_Barratt_P2_Occ    304\n",
       "                         ... \n",
       "PC158                     304\n",
       "PC159                     304\n",
       "PC160                     304\n",
       "PC161                     304\n",
       "PC162                     304\n",
       "Length: 196, dtype: int64"
      ]
     },
     "execution_count": 103,
     "metadata": {},
     "output_type": "execute_result"
    }
   ],
   "source": [
    "X_test.count()"
   ]
  },
  {
   "cell_type": "code",
   "execution_count": 105,
   "id": "6bb19c53-03a0-46c7-8b2a-22c68ad33deb",
   "metadata": {},
   "outputs": [
    {
     "name": "stdout",
     "output_type": "stream",
     "text": [
      "start testing\n",
      "predict with the model\n"
     ]
    },
    {
     "ename": "ValueError",
     "evalue": "feature_names mismatch: ['Barratt_Barratt_P1_Edu', 'Barratt_Barratt_P1_Occ', 'Barratt_Barratt_P2_Edu', 'Barratt_Barratt_P2_Occ', 'MRI_Track_Scan_Location_2.0', 'MRI_Track_Scan_Location_3.0', 'MRI_Track_Scan_Location_4.0', 'MRI_Track_Scan_Location_nan', 'Basic_Demos_Study_Site_2', 'Basic_Demos_Study_Site_3', 'Basic_Demos_Study_Site_4', 'PreInt_Demos_Fam_Child_Race_1.0', 'PreInt_Demos_Fam_Child_Race_2.0', 'PreInt_Demos_Fam_Child_Race_3.0', 'PreInt_Demos_Fam_Child_Race_4.0', 'PreInt_Demos_Fam_Child_Race_7.0', 'PreInt_Demos_Fam_Child_Race_8.0', 'PreInt_Demos_Fam_Child_Race_9.0', 'PreInt_Demos_Fam_Child_Race_10.0', 'PreInt_Demos_Fam_Child_Race_11.0', 'PreInt_Demos_Fam_Child_Race_nan', 'PreInt_Demos_Fam_Child_Ethnicity_1.0', 'PreInt_Demos_Fam_Child_Ethnicity_2.0', 'PreInt_Demos_Fam_Child_Ethnicity_3.0', 'PreInt_Demos_Fam_Child_Ethnicity_nan', '4', '5', '6', '7', '8', '9', '10', '11', '12', '13', '14', '15', '16', '17', 'PC1', 'PC2', 'PC3', 'PC4', 'PC5', 'PC6', 'PC7', 'PC8', 'PC9', 'PC10', 'PC11', 'PC12', 'PC13', 'PC14', 'PC15', 'PC16', 'PC17', 'PC18', 'PC19', 'PC20', 'PC21', 'PC22', 'PC23', 'PC24', 'PC25', 'PC26', 'PC27', 'PC28', 'PC29', 'PC30', 'PC31', 'PC32', 'PC33', 'PC34', 'PC35', 'PC36', 'PC37', 'PC38', 'PC39', 'PC40', 'PC41', 'PC42', 'PC43', 'PC44', 'PC45', 'PC46', 'PC47', 'PC48', 'PC49', 'PC50', 'PC51', 'PC52', 'PC53', 'PC54', 'PC55', 'PC56', 'PC57', 'PC58', 'PC59', 'PC60', 'PC61', 'PC62', 'PC63', 'PC64', 'PC65', 'PC66', 'PC67', 'PC68', 'PC69', 'PC70', 'PC71', 'PC72', 'PC73', 'PC74', 'PC75', 'PC76', 'PC77', 'PC78', 'PC79', 'PC80', 'PC81', 'PC82', 'PC83', 'PC84', 'PC85', 'PC86', 'PC87', 'PC88', 'PC89', 'PC90', 'PC91', 'PC92', 'PC93', 'PC94', 'PC95', 'PC96', 'PC97', 'PC98', 'PC99', 'PC100', 'PC101', 'PC102', 'PC103', 'PC104', 'PC105', 'PC106', 'PC107', 'PC108', 'PC109', 'PC110', 'PC111', 'PC112', 'PC113', 'PC114', 'PC115', 'PC116', 'PC117', 'PC118', 'PC119', 'PC120', 'PC121', 'PC122', 'PC123', 'PC124', 'PC125', 'PC126', 'PC127', 'PC128', 'PC129', 'PC130', 'PC131', 'PC132', 'PC133', 'PC134', 'PC135', 'PC136', 'PC137', 'PC138', 'PC139', 'PC140', 'PC141', 'PC142', 'PC143', 'PC144', 'PC145', 'PC146', 'PC147', 'PC148', 'PC149', 'PC150', 'PC151', 'PC152', 'PC153', 'PC154', 'PC155', 'PC156', 'PC157', 'PC158', 'PC159', 'PC160', 'PC161', 'PC162', 'PC163', 'PC164', 'PC165', 'PC166', 'PC167', 'PC168', 'PC169', 'PC170', 'PC171', 'PC172', 'PC173', 'PC174', 'PC175', 'PC176', 'PC177', 'PC178', 'PC179', 'PC180', 'PC181', 'PC182', 'PC183', 'PC184', 'PC185', 'PC186', 'PC187', 'PC188', 'PC189', 'PC190', 'PC191', 'PC192', 'PC193', 'PC194', 'PC195', 'PC196', 'PC197', 'PC198', 'PC199', 'PC200', 'PC201', 'PC202', 'PC203', 'PC204', 'PC205', 'PC206', 'PC207', 'PC208', 'PC209', 'PC210', 'PC211', 'PC212', 'PC213', 'PC214', 'PC215', 'PC216', 'PC217', 'PC218', 'PC219', 'PC220', 'PC221', 'PC222', 'PC223', 'PC224', 'PC225', 'PC226', 'PC227', 'PC228', 'PC229', 'PC230', 'PC231', 'PC232', 'PC233', 'PC234', 'PC235', 'PC236', 'PC237', 'PC238', 'PC239', 'PC240', 'PC241', 'PC242', 'PC243', 'PC244', 'PC245', 'PC246', 'PC247', 'PC248', 'PC249', 'PC250', 'PC251', 'PC252', 'PC253', 'PC254', 'PC255', 'PC256', 'PC257', 'PC258', 'PC259', 'PC260', 'PC261', 'PC262', 'PC263', 'PC264', 'PC265', 'PC266', 'PC267', 'PC268', 'PC269', 'PC270', 'PC271', 'PC272', 'PC273', 'PC274', 'PC275', 'PC276', 'PC277', 'PC278', 'PC279', 'PC280', 'PC281', 'PC282', 'PC283', 'PC284', 'PC285', 'PC286', 'PC287', 'PC288', 'PC289', 'PC290', 'PC291', 'PC292', 'PC293', 'PC294', 'PC295', 'PC296', 'PC297', 'PC298', 'PC299', 'PC300', 'PC301', 'PC302', 'PC303', 'PC304', 'PC305', 'PC306', 'PC307', 'PC308', 'PC309', 'PC310', 'PC311', 'PC312', 'PC313', 'PC314', 'PC315', 'PC316', 'PC317', 'PC318', 'PC319', 'PC320', 'PC321', 'PC322', 'PC323', 'PC324', 'PC325', 'PC326', 'PC327', 'PC328', 'PC329', 'PC330', 'PC331', 'PC332', 'PC333', 'PC334', 'PC335', 'PC336', 'PC337', 'PC338', 'PC339', 'PC340', 'PC341', 'PC342', 'PC343', 'PC344', 'PC345', 'PC346', 'PC347', 'PC348', 'PC349', 'PC350', 'PC351', 'PC352', 'PC353', 'PC354', 'PC355', 'PC356', 'PC357', 'PC358', 'PC359', 'PC360', 'PC361', 'PC362', 'PC363', 'PC364', 'PC365', 'PC366', 'PC367', 'PC368', 'PC369', 'PC370', 'PC371', 'PC372', 'PC373', 'PC374', 'PC375', 'PC376', 'PC377', 'PC378', 'PC379', 'PC380', 'PC381', 'PC382', 'PC383', 'PC384', 'PC385', 'PC386', 'PC387', 'PC388', 'PC389', 'PC390', 'PC391', 'PC392', 'PC393', 'PC394', 'PC395', 'PC396', 'PC397', 'PC398', 'PC399', 'PC400', 'PC401', 'PC402', 'PC403', 'PC404', 'PC405', 'PC406', 'PC407', 'PC408', 'PC409', 'PC410', 'PC411', 'PC412', 'PC413', 'PC414', 'PC415', 'PC416', 'PC417', 'PC418', 'PC419', 'PC420', 'PC421', 'PC422', 'PC423', 'PC424', 'PC425', 'PC426', 'PC427', 'PC428', 'PC429', 'PC430', 'PC431', 'PC432', 'PC433', 'PC434', 'PC435', 'PC436', 'PC437', 'PC438', 'PC439', 'PC440', 'PC441', 'PC442', 'PC443', 'PC444', 'PC445', 'PC446', 'PC447', 'PC448', 'PC449', 'PC450', 'PC451', 'PC452', 'PC453', 'PC454', 'PC455', 'PC456', 'PC457', 'PC458', 'PC459', 'PC460', 'PC461', 'PC462', 'PC463', 'PC464'] ['Barratt_Barratt_P1_Edu', 'Barratt_Barratt_P1_Occ', 'Barratt_Barratt_P2_Edu', 'Barratt_Barratt_P2_Occ', 'MRI_Track_Scan_Location_4', 'Basic_Demos_Study_Site_5', 'PreInt_Demos_Fam_Child_Race_1.0', 'PreInt_Demos_Fam_Child_Race_2.0', 'PreInt_Demos_Fam_Child_Race_3.0', 'PreInt_Demos_Fam_Child_Race_4.0', 'PreInt_Demos_Fam_Child_Race_7.0', 'PreInt_Demos_Fam_Child_Race_8.0', 'PreInt_Demos_Fam_Child_Race_9.0', 'PreInt_Demos_Fam_Child_Race_11.0', 'PreInt_Demos_Fam_Child_Race_nan', 'PreInt_Demos_Fam_Child_Ethnicity_1.0', 'PreInt_Demos_Fam_Child_Ethnicity_2.0', 'PreInt_Demos_Fam_Child_Ethnicity_3.0', 'PreInt_Demos_Fam_Child_Ethnicity_nan', '4', '5', '6', '7', '8', '9', '10', '11', '12', '13', '14', '15', '16', '17', 'PC1', 'PC2', 'PC3', 'PC4', 'PC5', 'PC6', 'PC7', 'PC8', 'PC9', 'PC10', 'PC11', 'PC12', 'PC13', 'PC14', 'PC15', 'PC16', 'PC17', 'PC18', 'PC19', 'PC20', 'PC21', 'PC22', 'PC23', 'PC24', 'PC25', 'PC26', 'PC27', 'PC28', 'PC29', 'PC30', 'PC31', 'PC32', 'PC33', 'PC34', 'PC35', 'PC36', 'PC37', 'PC38', 'PC39', 'PC40', 'PC41', 'PC42', 'PC43', 'PC44', 'PC45', 'PC46', 'PC47', 'PC48', 'PC49', 'PC50', 'PC51', 'PC52', 'PC53', 'PC54', 'PC55', 'PC56', 'PC57', 'PC58', 'PC59', 'PC60', 'PC61', 'PC62', 'PC63', 'PC64', 'PC65', 'PC66', 'PC67', 'PC68', 'PC69', 'PC70', 'PC71', 'PC72', 'PC73', 'PC74', 'PC75', 'PC76', 'PC77', 'PC78', 'PC79', 'PC80', 'PC81', 'PC82', 'PC83', 'PC84', 'PC85', 'PC86', 'PC87', 'PC88', 'PC89', 'PC90', 'PC91', 'PC92', 'PC93', 'PC94', 'PC95', 'PC96', 'PC97', 'PC98', 'PC99', 'PC100', 'PC101', 'PC102', 'PC103', 'PC104', 'PC105', 'PC106', 'PC107', 'PC108', 'PC109', 'PC110', 'PC111', 'PC112', 'PC113', 'PC114', 'PC115', 'PC116', 'PC117', 'PC118', 'PC119', 'PC120', 'PC121', 'PC122', 'PC123', 'PC124', 'PC125', 'PC126', 'PC127', 'PC128', 'PC129', 'PC130', 'PC131', 'PC132', 'PC133', 'PC134', 'PC135', 'PC136', 'PC137', 'PC138', 'PC139', 'PC140', 'PC141', 'PC142', 'PC143', 'PC144', 'PC145', 'PC146', 'PC147', 'PC148', 'PC149', 'PC150', 'PC151', 'PC152', 'PC153', 'PC154', 'PC155', 'PC156', 'PC157', 'PC158', 'PC159', 'PC160', 'PC161', 'PC162']\nexpected PC291, PC187, PC306, MRI_Track_Scan_Location_4.0, PC186, PC248, PC259, PC246, PC197, PC435, PC373, PC304, PC404, PC270, PC312, PC379, PC361, PC393, PC345, PC434, PC211, PC198, PC414, PC381, PC464, PC265, PC334, PC438, PC463, PC325, PC430, PC289, PC300, PC459, PC451, PC324, PC380, PC346, PC167, PC191, PC398, PC242, PC169, PC320, PC204, PC275, PC341, PC200, PC253, PC433, PC262, Basic_Demos_Study_Site_4, PC372, PC188, PC256, PC303, PC422, PC338, PC412, PC295, PC362, PC458, PC301, PC311, PC282, PC368, PC456, PC382, PC209, PC420, PC170, PC194, PC443, PC316, PC205, PC297, PC330, PC449, PC390, PC360, PC278, PC192, PC230, PC457, PC225, PC171, PC228, Basic_Demos_Study_Site_2, PC214, PC337, PC288, PC442, PC279, PC377, PC224, PC431, PC196, PC173, PC222, PC437, PC402, PC409, PC355, PC240, PC395, PC203, PC370, PC183, PC215, PC445, PC329, PC235, PC353, PC453, PC314, PC285, PC182, PC417, PC231, PC365, PC429, PC206, PC274, PC273, PC400, PC251, PC333, PC213, PC227, PC375, PC344, PC268, PC210, PC331, PC318, PC315, PC276, PC233, PC328, PC349, PC195, PC175, PC166, PC356, PC221, PC369, MRI_Track_Scan_Location_3.0, PC207, PC234, PC179, PC418, PC343, PC460, PC359, PC441, PC386, PC351, PC322, PC243, PC263, PC352, PC226, PC461, PC439, PC371, PC326, PC428, PC220, PC238, PC247, PC335, PC302, PC339, PC413, PC452, PC313, PC244, PC432, PC384, PC387, PC174, PC332, PC426, PC212, PC252, PC280, PC165, PC350, PC411, PC354, PC208, PC410, PC319, PC317, PC425, PC266, PC239, PC385, PC255, PC440, PC184, PC423, PC396, PC261, PC181, PC218, PC378, PC364, PC249, PC232, PC293, MRI_Track_Scan_Location_2.0, PC454, PC397, PC164, PC327, PC340, PC283, PC336, PC424, PC347, PC436, PC348, PC450, Basic_Demos_Study_Site_3, PC202, PC245, PC366, PC416, PC383, PC462, PC219, PC415, PC176, PC163, PC236, PC323, PC272, PC405, PC308, PreInt_Demos_Fam_Child_Race_10.0, PC391, PC298, PC185, PC216, PC180, PC419, PC407, PC172, PC190, PC199, PC269, PC399, MRI_Track_Scan_Location_nan, PC241, PC305, PC403, PC342, PC254, PC296, PC427, PC358, PC193, PC367, PC310, PC376, PC257, PC447, PC290, PC292, PC307, PC299, PC258, PC444, PC284, PC237, PC267, PC374, PC363, PC446, PC217, PC264, PC168, PC271, PC260, PC250, PC277, PC455, PC229, PC448, PC294, PC189, PC389, PC406, PC281, PC201, PC287, PC401, PC408, PC223, PC357, PC388, PC286, PC177, PC321, PC394, PC421, PC309, PC392, PC178 in input data\ntraining data did not have the following fields: Basic_Demos_Study_Site_5, MRI_Track_Scan_Location_4",
     "output_type": "error",
     "traceback": [
      "\u001b[0;31m---------------------------------------------------------------------------\u001b[0m",
      "\u001b[0;31mValueError\u001b[0m                                Traceback (most recent call last)",
      "Cell \u001b[0;32mIn[105], line 1\u001b[0m\n\u001b[0;32m----> 1\u001b[0m \u001b[43mxgboost_test\u001b[49m\u001b[43m(\u001b[49m\u001b[43mclassifier\u001b[49m\u001b[43m \u001b[49m\u001b[38;5;241;43m=\u001b[39;49m\u001b[43m \u001b[49m\u001b[43mclassifier_trained\u001b[49m\u001b[43m,\u001b[49m\u001b[43mX\u001b[49m\u001b[43m \u001b[49m\u001b[38;5;241;43m=\u001b[39;49m\u001b[43m \u001b[49m\u001b[43mX_test\u001b[49m\u001b[43m)\u001b[49m\n",
      "Cell \u001b[0;32mIn[40], line 3\u001b[0m, in \u001b[0;36mxgboost_test\u001b[0;34m(classifier, X)\u001b[0m\n\u001b[1;32m      1\u001b[0m \u001b[38;5;28;01mdef\u001b[39;00m\u001b[38;5;250m \u001b[39m\u001b[38;5;21mxgboost_test\u001b[39m(classifier \u001b[38;5;241m=\u001b[39m \u001b[38;5;28;01mNone\u001b[39;00m,X \u001b[38;5;241m=\u001b[39m \u001b[38;5;28;01mNone\u001b[39;00m):\n\u001b[1;32m      2\u001b[0m     \u001b[38;5;28mprint\u001b[39m(\u001b[38;5;124m'\u001b[39m\u001b[38;5;124mstart testing\u001b[39m\u001b[38;5;124m'\u001b[39m)\n\u001b[0;32m----> 3\u001b[0m     Y \u001b[38;5;241m=\u001b[39m \u001b[43mpredict\u001b[49m\u001b[43m(\u001b[49m\u001b[43mclassifier\u001b[49m\u001b[43m,\u001b[49m\u001b[43mX\u001b[49m\u001b[43m)\u001b[49m\n\u001b[1;32m      4\u001b[0m     \u001b[38;5;28;01mreturn\u001b[39;00m Y\n",
      "Cell \u001b[0;32mIn[31], line 4\u001b[0m, in \u001b[0;36mpredict\u001b[0;34m(model, X_test)\u001b[0m\n\u001b[1;32m      2\u001b[0m \u001b[38;5;28mprint\u001b[39m(\u001b[38;5;124m'\u001b[39m\u001b[38;5;124mpredict with the model\u001b[39m\u001b[38;5;124m'\u001b[39m)\n\u001b[1;32m      3\u001b[0m X_test_data  \u001b[38;5;241m=\u001b[39m X_test\u001b[38;5;241m.\u001b[39mdrop(columns \u001b[38;5;241m=\u001b[39m [\u001b[38;5;124m'\u001b[39m\u001b[38;5;124mparticipant_id\u001b[39m\u001b[38;5;124m'\u001b[39m] )\n\u001b[0;32m----> 4\u001b[0m y_pred \u001b[38;5;241m=\u001b[39m \u001b[43mmodel\u001b[49m\u001b[38;5;241;43m.\u001b[39;49m\u001b[43mpredict\u001b[49m\u001b[43m(\u001b[49m\u001b[43mX_test_data\u001b[49m\u001b[43m)\u001b[49m\n\u001b[1;32m      5\u001b[0m predictions_df \u001b[38;5;241m=\u001b[39m pd\u001b[38;5;241m.\u001b[39mDataFrame(\n\u001b[1;32m      6\u001b[0m     y_pred,\n\u001b[1;32m      7\u001b[0m     columns\u001b[38;5;241m=\u001b[39m[\u001b[38;5;124m'\u001b[39m\u001b[38;5;124mPredicted_Gender\u001b[39m\u001b[38;5;124m'\u001b[39m, \u001b[38;5;124m'\u001b[39m\u001b[38;5;124mPredicted_ADHD\u001b[39m\u001b[38;5;124m'\u001b[39m]\n\u001b[1;32m      8\u001b[0m )\n\u001b[1;32m      9\u001b[0m \u001b[38;5;28;01mreturn\u001b[39;00m predictions_df\n",
      "File \u001b[0;32m/opt/anaconda3/envs/datathon25/lib/python3.12/site-packages/sklearn/multioutput.py:306\u001b[0m, in \u001b[0;36m_MultiOutputEstimator.predict\u001b[0;34m(self, X)\u001b[0m\n\u001b[1;32m    303\u001b[0m \u001b[38;5;28;01mif\u001b[39;00m \u001b[38;5;129;01mnot\u001b[39;00m \u001b[38;5;28mhasattr\u001b[39m(\u001b[38;5;28mself\u001b[39m\u001b[38;5;241m.\u001b[39mestimators_[\u001b[38;5;241m0\u001b[39m], \u001b[38;5;124m\"\u001b[39m\u001b[38;5;124mpredict\u001b[39m\u001b[38;5;124m\"\u001b[39m):\n\u001b[1;32m    304\u001b[0m     \u001b[38;5;28;01mraise\u001b[39;00m \u001b[38;5;167;01mValueError\u001b[39;00m(\u001b[38;5;124m\"\u001b[39m\u001b[38;5;124mThe base estimator should implement a predict method\u001b[39m\u001b[38;5;124m\"\u001b[39m)\n\u001b[0;32m--> 306\u001b[0m y \u001b[38;5;241m=\u001b[39m \u001b[43mParallel\u001b[49m\u001b[43m(\u001b[49m\u001b[43mn_jobs\u001b[49m\u001b[38;5;241;43m=\u001b[39;49m\u001b[38;5;28;43mself\u001b[39;49m\u001b[38;5;241;43m.\u001b[39;49m\u001b[43mn_jobs\u001b[49m\u001b[43m)\u001b[49m\u001b[43m(\u001b[49m\n\u001b[1;32m    307\u001b[0m \u001b[43m    \u001b[49m\u001b[43mdelayed\u001b[49m\u001b[43m(\u001b[49m\u001b[43me\u001b[49m\u001b[38;5;241;43m.\u001b[39;49m\u001b[43mpredict\u001b[49m\u001b[43m)\u001b[49m\u001b[43m(\u001b[49m\u001b[43mX\u001b[49m\u001b[43m)\u001b[49m\u001b[43m \u001b[49m\u001b[38;5;28;43;01mfor\u001b[39;49;00m\u001b[43m \u001b[49m\u001b[43me\u001b[49m\u001b[43m \u001b[49m\u001b[38;5;129;43;01min\u001b[39;49;00m\u001b[43m \u001b[49m\u001b[38;5;28;43mself\u001b[39;49m\u001b[38;5;241;43m.\u001b[39;49m\u001b[43mestimators_\u001b[49m\n\u001b[1;32m    308\u001b[0m \u001b[43m\u001b[49m\u001b[43m)\u001b[49m\n\u001b[1;32m    310\u001b[0m \u001b[38;5;28;01mreturn\u001b[39;00m np\u001b[38;5;241m.\u001b[39masarray(y)\u001b[38;5;241m.\u001b[39mT\n",
      "File \u001b[0;32m/opt/anaconda3/envs/datathon25/lib/python3.12/site-packages/sklearn/utils/parallel.py:77\u001b[0m, in \u001b[0;36mParallel.__call__\u001b[0;34m(self, iterable)\u001b[0m\n\u001b[1;32m     72\u001b[0m config \u001b[38;5;241m=\u001b[39m get_config()\n\u001b[1;32m     73\u001b[0m iterable_with_config \u001b[38;5;241m=\u001b[39m (\n\u001b[1;32m     74\u001b[0m     (_with_config(delayed_func, config), args, kwargs)\n\u001b[1;32m     75\u001b[0m     \u001b[38;5;28;01mfor\u001b[39;00m delayed_func, args, kwargs \u001b[38;5;129;01min\u001b[39;00m iterable\n\u001b[1;32m     76\u001b[0m )\n\u001b[0;32m---> 77\u001b[0m \u001b[38;5;28;01mreturn\u001b[39;00m \u001b[38;5;28;43msuper\u001b[39;49m\u001b[43m(\u001b[49m\u001b[43m)\u001b[49m\u001b[38;5;241;43m.\u001b[39;49m\u001b[38;5;21;43m__call__\u001b[39;49m\u001b[43m(\u001b[49m\u001b[43miterable_with_config\u001b[49m\u001b[43m)\u001b[49m\n",
      "File \u001b[0;32m/opt/anaconda3/envs/datathon25/lib/python3.12/site-packages/joblib/parallel.py:1918\u001b[0m, in \u001b[0;36mParallel.__call__\u001b[0;34m(self, iterable)\u001b[0m\n\u001b[1;32m   1916\u001b[0m     output \u001b[38;5;241m=\u001b[39m \u001b[38;5;28mself\u001b[39m\u001b[38;5;241m.\u001b[39m_get_sequential_output(iterable)\n\u001b[1;32m   1917\u001b[0m     \u001b[38;5;28mnext\u001b[39m(output)\n\u001b[0;32m-> 1918\u001b[0m     \u001b[38;5;28;01mreturn\u001b[39;00m output \u001b[38;5;28;01mif\u001b[39;00m \u001b[38;5;28mself\u001b[39m\u001b[38;5;241m.\u001b[39mreturn_generator \u001b[38;5;28;01melse\u001b[39;00m \u001b[38;5;28;43mlist\u001b[39;49m\u001b[43m(\u001b[49m\u001b[43moutput\u001b[49m\u001b[43m)\u001b[49m\n\u001b[1;32m   1920\u001b[0m \u001b[38;5;66;03m# Let's create an ID that uniquely identifies the current call. If the\u001b[39;00m\n\u001b[1;32m   1921\u001b[0m \u001b[38;5;66;03m# call is interrupted early and that the same instance is immediately\u001b[39;00m\n\u001b[1;32m   1922\u001b[0m \u001b[38;5;66;03m# re-used, this id will be used to prevent workers that were\u001b[39;00m\n\u001b[1;32m   1923\u001b[0m \u001b[38;5;66;03m# concurrently finalizing a task from the previous call to run the\u001b[39;00m\n\u001b[1;32m   1924\u001b[0m \u001b[38;5;66;03m# callback.\u001b[39;00m\n\u001b[1;32m   1925\u001b[0m \u001b[38;5;28;01mwith\u001b[39;00m \u001b[38;5;28mself\u001b[39m\u001b[38;5;241m.\u001b[39m_lock:\n",
      "File \u001b[0;32m/opt/anaconda3/envs/datathon25/lib/python3.12/site-packages/joblib/parallel.py:1847\u001b[0m, in \u001b[0;36mParallel._get_sequential_output\u001b[0;34m(self, iterable)\u001b[0m\n\u001b[1;32m   1845\u001b[0m \u001b[38;5;28mself\u001b[39m\u001b[38;5;241m.\u001b[39mn_dispatched_batches \u001b[38;5;241m+\u001b[39m\u001b[38;5;241m=\u001b[39m \u001b[38;5;241m1\u001b[39m\n\u001b[1;32m   1846\u001b[0m \u001b[38;5;28mself\u001b[39m\u001b[38;5;241m.\u001b[39mn_dispatched_tasks \u001b[38;5;241m+\u001b[39m\u001b[38;5;241m=\u001b[39m \u001b[38;5;241m1\u001b[39m\n\u001b[0;32m-> 1847\u001b[0m res \u001b[38;5;241m=\u001b[39m \u001b[43mfunc\u001b[49m\u001b[43m(\u001b[49m\u001b[38;5;241;43m*\u001b[39;49m\u001b[43margs\u001b[49m\u001b[43m,\u001b[49m\u001b[43m \u001b[49m\u001b[38;5;241;43m*\u001b[39;49m\u001b[38;5;241;43m*\u001b[39;49m\u001b[43mkwargs\u001b[49m\u001b[43m)\u001b[49m\n\u001b[1;32m   1848\u001b[0m \u001b[38;5;28mself\u001b[39m\u001b[38;5;241m.\u001b[39mn_completed_tasks \u001b[38;5;241m+\u001b[39m\u001b[38;5;241m=\u001b[39m \u001b[38;5;241m1\u001b[39m\n\u001b[1;32m   1849\u001b[0m \u001b[38;5;28mself\u001b[39m\u001b[38;5;241m.\u001b[39mprint_progress()\n",
      "File \u001b[0;32m/opt/anaconda3/envs/datathon25/lib/python3.12/site-packages/sklearn/utils/parallel.py:139\u001b[0m, in \u001b[0;36m_FuncWrapper.__call__\u001b[0;34m(self, *args, **kwargs)\u001b[0m\n\u001b[1;32m    137\u001b[0m     config \u001b[38;5;241m=\u001b[39m {}\n\u001b[1;32m    138\u001b[0m \u001b[38;5;28;01mwith\u001b[39;00m config_context(\u001b[38;5;241m*\u001b[39m\u001b[38;5;241m*\u001b[39mconfig):\n\u001b[0;32m--> 139\u001b[0m     \u001b[38;5;28;01mreturn\u001b[39;00m \u001b[38;5;28;43mself\u001b[39;49m\u001b[38;5;241;43m.\u001b[39;49m\u001b[43mfunction\u001b[49m\u001b[43m(\u001b[49m\u001b[38;5;241;43m*\u001b[39;49m\u001b[43margs\u001b[49m\u001b[43m,\u001b[49m\u001b[43m \u001b[49m\u001b[38;5;241;43m*\u001b[39;49m\u001b[38;5;241;43m*\u001b[39;49m\u001b[43mkwargs\u001b[49m\u001b[43m)\u001b[49m\n",
      "File \u001b[0;32m/opt/anaconda3/envs/datathon25/lib/python3.12/site-packages/xgboost/sklearn.py:1633\u001b[0m, in \u001b[0;36mXGBClassifier.predict\u001b[0;34m(self, X, output_margin, validate_features, base_margin, iteration_range)\u001b[0m\n\u001b[1;32m   1624\u001b[0m \u001b[38;5;28;01mdef\u001b[39;00m\u001b[38;5;250m \u001b[39m\u001b[38;5;21mpredict\u001b[39m(\n\u001b[1;32m   1625\u001b[0m     \u001b[38;5;28mself\u001b[39m,\n\u001b[1;32m   1626\u001b[0m     X: ArrayLike,\n\u001b[0;32m   (...)\u001b[0m\n\u001b[1;32m   1630\u001b[0m     iteration_range: Optional[IterationRange] \u001b[38;5;241m=\u001b[39m \u001b[38;5;28;01mNone\u001b[39;00m,\n\u001b[1;32m   1631\u001b[0m ) \u001b[38;5;241m-\u001b[39m\u001b[38;5;241m>\u001b[39m ArrayLike:\n\u001b[1;32m   1632\u001b[0m     \u001b[38;5;28;01mwith\u001b[39;00m config_context(verbosity\u001b[38;5;241m=\u001b[39m\u001b[38;5;28mself\u001b[39m\u001b[38;5;241m.\u001b[39mverbosity):\n\u001b[0;32m-> 1633\u001b[0m         class_probs \u001b[38;5;241m=\u001b[39m \u001b[38;5;28;43msuper\u001b[39;49m\u001b[43m(\u001b[49m\u001b[43m)\u001b[49m\u001b[38;5;241;43m.\u001b[39;49m\u001b[43mpredict\u001b[49m\u001b[43m(\u001b[49m\n\u001b[1;32m   1634\u001b[0m \u001b[43m            \u001b[49m\u001b[43mX\u001b[49m\u001b[38;5;241;43m=\u001b[39;49m\u001b[43mX\u001b[49m\u001b[43m,\u001b[49m\n\u001b[1;32m   1635\u001b[0m \u001b[43m            \u001b[49m\u001b[43moutput_margin\u001b[49m\u001b[38;5;241;43m=\u001b[39;49m\u001b[43moutput_margin\u001b[49m\u001b[43m,\u001b[49m\n\u001b[1;32m   1636\u001b[0m \u001b[43m            \u001b[49m\u001b[43mvalidate_features\u001b[49m\u001b[38;5;241;43m=\u001b[39;49m\u001b[43mvalidate_features\u001b[49m\u001b[43m,\u001b[49m\n\u001b[1;32m   1637\u001b[0m \u001b[43m            \u001b[49m\u001b[43mbase_margin\u001b[49m\u001b[38;5;241;43m=\u001b[39;49m\u001b[43mbase_margin\u001b[49m\u001b[43m,\u001b[49m\n\u001b[1;32m   1638\u001b[0m \u001b[43m            \u001b[49m\u001b[43miteration_range\u001b[49m\u001b[38;5;241;43m=\u001b[39;49m\u001b[43miteration_range\u001b[49m\u001b[43m,\u001b[49m\n\u001b[1;32m   1639\u001b[0m \u001b[43m        \u001b[49m\u001b[43m)\u001b[49m\n\u001b[1;32m   1640\u001b[0m         \u001b[38;5;28;01mif\u001b[39;00m output_margin:\n\u001b[1;32m   1641\u001b[0m             \u001b[38;5;66;03m# If output_margin is active, simply return the scores\u001b[39;00m\n\u001b[1;32m   1642\u001b[0m             \u001b[38;5;28;01mreturn\u001b[39;00m class_probs\n",
      "File \u001b[0;32m/opt/anaconda3/envs/datathon25/lib/python3.12/site-packages/xgboost/sklearn.py:1248\u001b[0m, in \u001b[0;36mXGBModel.predict\u001b[0;34m(self, X, output_margin, validate_features, base_margin, iteration_range)\u001b[0m\n\u001b[1;32m   1246\u001b[0m \u001b[38;5;28;01mif\u001b[39;00m \u001b[38;5;28mself\u001b[39m\u001b[38;5;241m.\u001b[39m_can_use_inplace_predict():\n\u001b[1;32m   1247\u001b[0m     \u001b[38;5;28;01mtry\u001b[39;00m:\n\u001b[0;32m-> 1248\u001b[0m         predts \u001b[38;5;241m=\u001b[39m \u001b[38;5;28;43mself\u001b[39;49m\u001b[38;5;241;43m.\u001b[39;49m\u001b[43mget_booster\u001b[49m\u001b[43m(\u001b[49m\u001b[43m)\u001b[49m\u001b[38;5;241;43m.\u001b[39;49m\u001b[43minplace_predict\u001b[49m\u001b[43m(\u001b[49m\n\u001b[1;32m   1249\u001b[0m \u001b[43m            \u001b[49m\u001b[43mdata\u001b[49m\u001b[38;5;241;43m=\u001b[39;49m\u001b[43mX\u001b[49m\u001b[43m,\u001b[49m\n\u001b[1;32m   1250\u001b[0m \u001b[43m            \u001b[49m\u001b[43miteration_range\u001b[49m\u001b[38;5;241;43m=\u001b[39;49m\u001b[43miteration_range\u001b[49m\u001b[43m,\u001b[49m\n\u001b[1;32m   1251\u001b[0m \u001b[43m            \u001b[49m\u001b[43mpredict_type\u001b[49m\u001b[38;5;241;43m=\u001b[39;49m\u001b[38;5;124;43m\"\u001b[39;49m\u001b[38;5;124;43mmargin\u001b[39;49m\u001b[38;5;124;43m\"\u001b[39;49m\u001b[43m \u001b[49m\u001b[38;5;28;43;01mif\u001b[39;49;00m\u001b[43m \u001b[49m\u001b[43moutput_margin\u001b[49m\u001b[43m \u001b[49m\u001b[38;5;28;43;01melse\u001b[39;49;00m\u001b[43m \u001b[49m\u001b[38;5;124;43m\"\u001b[39;49m\u001b[38;5;124;43mvalue\u001b[39;49m\u001b[38;5;124;43m\"\u001b[39;49m\u001b[43m,\u001b[49m\n\u001b[1;32m   1252\u001b[0m \u001b[43m            \u001b[49m\u001b[43mmissing\u001b[49m\u001b[38;5;241;43m=\u001b[39;49m\u001b[38;5;28;43mself\u001b[39;49m\u001b[38;5;241;43m.\u001b[39;49m\u001b[43mmissing\u001b[49m\u001b[43m,\u001b[49m\n\u001b[1;32m   1253\u001b[0m \u001b[43m            \u001b[49m\u001b[43mbase_margin\u001b[49m\u001b[38;5;241;43m=\u001b[39;49m\u001b[43mbase_margin\u001b[49m\u001b[43m,\u001b[49m\n\u001b[1;32m   1254\u001b[0m \u001b[43m            \u001b[49m\u001b[43mvalidate_features\u001b[49m\u001b[38;5;241;43m=\u001b[39;49m\u001b[43mvalidate_features\u001b[49m\u001b[43m,\u001b[49m\n\u001b[1;32m   1255\u001b[0m \u001b[43m        \u001b[49m\u001b[43m)\u001b[49m\n\u001b[1;32m   1256\u001b[0m         \u001b[38;5;28;01mif\u001b[39;00m _is_cupy_alike(predts):\n\u001b[1;32m   1257\u001b[0m             \u001b[38;5;28;01mimport\u001b[39;00m\u001b[38;5;250m \u001b[39m\u001b[38;5;21;01mcupy\u001b[39;00m  \u001b[38;5;66;03m# pylint: disable=import-error\u001b[39;00m\n",
      "File \u001b[0;32m/opt/anaconda3/envs/datathon25/lib/python3.12/site-packages/xgboost/core.py:2514\u001b[0m, in \u001b[0;36mBooster.inplace_predict\u001b[0;34m(self, data, iteration_range, predict_type, missing, validate_features, base_margin, strict_shape)\u001b[0m\n\u001b[1;32m   2512\u001b[0m     data, fns, _ \u001b[38;5;241m=\u001b[39m _transform_pandas_df(data, enable_categorical)\n\u001b[1;32m   2513\u001b[0m     \u001b[38;5;28;01mif\u001b[39;00m validate_features:\n\u001b[0;32m-> 2514\u001b[0m         \u001b[38;5;28;43mself\u001b[39;49m\u001b[38;5;241;43m.\u001b[39;49m\u001b[43m_validate_features\u001b[49m\u001b[43m(\u001b[49m\u001b[43mfns\u001b[49m\u001b[43m)\u001b[49m\n\u001b[1;32m   2515\u001b[0m \u001b[38;5;28;01mif\u001b[39;00m _is_list(data) \u001b[38;5;129;01mor\u001b[39;00m _is_tuple(data):\n\u001b[1;32m   2516\u001b[0m     data \u001b[38;5;241m=\u001b[39m np\u001b[38;5;241m.\u001b[39marray(data)\n",
      "File \u001b[0;32m/opt/anaconda3/envs/datathon25/lib/python3.12/site-packages/xgboost/core.py:3079\u001b[0m, in \u001b[0;36mBooster._validate_features\u001b[0;34m(self, feature_names)\u001b[0m\n\u001b[1;32m   3073\u001b[0m \u001b[38;5;28;01mif\u001b[39;00m my_missing:\n\u001b[1;32m   3074\u001b[0m     msg \u001b[38;5;241m+\u001b[39m\u001b[38;5;241m=\u001b[39m (\n\u001b[1;32m   3075\u001b[0m         \u001b[38;5;124m\"\u001b[39m\u001b[38;5;130;01m\\n\u001b[39;00m\u001b[38;5;124mtraining data did not have the following fields: \u001b[39m\u001b[38;5;124m\"\u001b[39m\n\u001b[1;32m   3076\u001b[0m         \u001b[38;5;241m+\u001b[39m \u001b[38;5;124m\"\u001b[39m\u001b[38;5;124m, \u001b[39m\u001b[38;5;124m\"\u001b[39m\u001b[38;5;241m.\u001b[39mjoin(\u001b[38;5;28mstr\u001b[39m(s) \u001b[38;5;28;01mfor\u001b[39;00m s \u001b[38;5;129;01min\u001b[39;00m my_missing)\n\u001b[1;32m   3077\u001b[0m     )\n\u001b[0;32m-> 3079\u001b[0m \u001b[38;5;28;01mraise\u001b[39;00m \u001b[38;5;167;01mValueError\u001b[39;00m(msg\u001b[38;5;241m.\u001b[39mformat(\u001b[38;5;28mself\u001b[39m\u001b[38;5;241m.\u001b[39mfeature_names, feature_names))\n",
      "\u001b[0;31mValueError\u001b[0m: feature_names mismatch: ['Barratt_Barratt_P1_Edu', 'Barratt_Barratt_P1_Occ', 'Barratt_Barratt_P2_Edu', 'Barratt_Barratt_P2_Occ', 'MRI_Track_Scan_Location_2.0', 'MRI_Track_Scan_Location_3.0', 'MRI_Track_Scan_Location_4.0', 'MRI_Track_Scan_Location_nan', 'Basic_Demos_Study_Site_2', 'Basic_Demos_Study_Site_3', 'Basic_Demos_Study_Site_4', 'PreInt_Demos_Fam_Child_Race_1.0', 'PreInt_Demos_Fam_Child_Race_2.0', 'PreInt_Demos_Fam_Child_Race_3.0', 'PreInt_Demos_Fam_Child_Race_4.0', 'PreInt_Demos_Fam_Child_Race_7.0', 'PreInt_Demos_Fam_Child_Race_8.0', 'PreInt_Demos_Fam_Child_Race_9.0', 'PreInt_Demos_Fam_Child_Race_10.0', 'PreInt_Demos_Fam_Child_Race_11.0', 'PreInt_Demos_Fam_Child_Race_nan', 'PreInt_Demos_Fam_Child_Ethnicity_1.0', 'PreInt_Demos_Fam_Child_Ethnicity_2.0', 'PreInt_Demos_Fam_Child_Ethnicity_3.0', 'PreInt_Demos_Fam_Child_Ethnicity_nan', '4', '5', '6', '7', '8', '9', '10', '11', '12', '13', '14', '15', '16', '17', 'PC1', 'PC2', 'PC3', 'PC4', 'PC5', 'PC6', 'PC7', 'PC8', 'PC9', 'PC10', 'PC11', 'PC12', 'PC13', 'PC14', 'PC15', 'PC16', 'PC17', 'PC18', 'PC19', 'PC20', 'PC21', 'PC22', 'PC23', 'PC24', 'PC25', 'PC26', 'PC27', 'PC28', 'PC29', 'PC30', 'PC31', 'PC32', 'PC33', 'PC34', 'PC35', 'PC36', 'PC37', 'PC38', 'PC39', 'PC40', 'PC41', 'PC42', 'PC43', 'PC44', 'PC45', 'PC46', 'PC47', 'PC48', 'PC49', 'PC50', 'PC51', 'PC52', 'PC53', 'PC54', 'PC55', 'PC56', 'PC57', 'PC58', 'PC59', 'PC60', 'PC61', 'PC62', 'PC63', 'PC64', 'PC65', 'PC66', 'PC67', 'PC68', 'PC69', 'PC70', 'PC71', 'PC72', 'PC73', 'PC74', 'PC75', 'PC76', 'PC77', 'PC78', 'PC79', 'PC80', 'PC81', 'PC82', 'PC83', 'PC84', 'PC85', 'PC86', 'PC87', 'PC88', 'PC89', 'PC90', 'PC91', 'PC92', 'PC93', 'PC94', 'PC95', 'PC96', 'PC97', 'PC98', 'PC99', 'PC100', 'PC101', 'PC102', 'PC103', 'PC104', 'PC105', 'PC106', 'PC107', 'PC108', 'PC109', 'PC110', 'PC111', 'PC112', 'PC113', 'PC114', 'PC115', 'PC116', 'PC117', 'PC118', 'PC119', 'PC120', 'PC121', 'PC122', 'PC123', 'PC124', 'PC125', 'PC126', 'PC127', 'PC128', 'PC129', 'PC130', 'PC131', 'PC132', 'PC133', 'PC134', 'PC135', 'PC136', 'PC137', 'PC138', 'PC139', 'PC140', 'PC141', 'PC142', 'PC143', 'PC144', 'PC145', 'PC146', 'PC147', 'PC148', 'PC149', 'PC150', 'PC151', 'PC152', 'PC153', 'PC154', 'PC155', 'PC156', 'PC157', 'PC158', 'PC159', 'PC160', 'PC161', 'PC162', 'PC163', 'PC164', 'PC165', 'PC166', 'PC167', 'PC168', 'PC169', 'PC170', 'PC171', 'PC172', 'PC173', 'PC174', 'PC175', 'PC176', 'PC177', 'PC178', 'PC179', 'PC180', 'PC181', 'PC182', 'PC183', 'PC184', 'PC185', 'PC186', 'PC187', 'PC188', 'PC189', 'PC190', 'PC191', 'PC192', 'PC193', 'PC194', 'PC195', 'PC196', 'PC197', 'PC198', 'PC199', 'PC200', 'PC201', 'PC202', 'PC203', 'PC204', 'PC205', 'PC206', 'PC207', 'PC208', 'PC209', 'PC210', 'PC211', 'PC212', 'PC213', 'PC214', 'PC215', 'PC216', 'PC217', 'PC218', 'PC219', 'PC220', 'PC221', 'PC222', 'PC223', 'PC224', 'PC225', 'PC226', 'PC227', 'PC228', 'PC229', 'PC230', 'PC231', 'PC232', 'PC233', 'PC234', 'PC235', 'PC236', 'PC237', 'PC238', 'PC239', 'PC240', 'PC241', 'PC242', 'PC243', 'PC244', 'PC245', 'PC246', 'PC247', 'PC248', 'PC249', 'PC250', 'PC251', 'PC252', 'PC253', 'PC254', 'PC255', 'PC256', 'PC257', 'PC258', 'PC259', 'PC260', 'PC261', 'PC262', 'PC263', 'PC264', 'PC265', 'PC266', 'PC267', 'PC268', 'PC269', 'PC270', 'PC271', 'PC272', 'PC273', 'PC274', 'PC275', 'PC276', 'PC277', 'PC278', 'PC279', 'PC280', 'PC281', 'PC282', 'PC283', 'PC284', 'PC285', 'PC286', 'PC287', 'PC288', 'PC289', 'PC290', 'PC291', 'PC292', 'PC293', 'PC294', 'PC295', 'PC296', 'PC297', 'PC298', 'PC299', 'PC300', 'PC301', 'PC302', 'PC303', 'PC304', 'PC305', 'PC306', 'PC307', 'PC308', 'PC309', 'PC310', 'PC311', 'PC312', 'PC313', 'PC314', 'PC315', 'PC316', 'PC317', 'PC318', 'PC319', 'PC320', 'PC321', 'PC322', 'PC323', 'PC324', 'PC325', 'PC326', 'PC327', 'PC328', 'PC329', 'PC330', 'PC331', 'PC332', 'PC333', 'PC334', 'PC335', 'PC336', 'PC337', 'PC338', 'PC339', 'PC340', 'PC341', 'PC342', 'PC343', 'PC344', 'PC345', 'PC346', 'PC347', 'PC348', 'PC349', 'PC350', 'PC351', 'PC352', 'PC353', 'PC354', 'PC355', 'PC356', 'PC357', 'PC358', 'PC359', 'PC360', 'PC361', 'PC362', 'PC363', 'PC364', 'PC365', 'PC366', 'PC367', 'PC368', 'PC369', 'PC370', 'PC371', 'PC372', 'PC373', 'PC374', 'PC375', 'PC376', 'PC377', 'PC378', 'PC379', 'PC380', 'PC381', 'PC382', 'PC383', 'PC384', 'PC385', 'PC386', 'PC387', 'PC388', 'PC389', 'PC390', 'PC391', 'PC392', 'PC393', 'PC394', 'PC395', 'PC396', 'PC397', 'PC398', 'PC399', 'PC400', 'PC401', 'PC402', 'PC403', 'PC404', 'PC405', 'PC406', 'PC407', 'PC408', 'PC409', 'PC410', 'PC411', 'PC412', 'PC413', 'PC414', 'PC415', 'PC416', 'PC417', 'PC418', 'PC419', 'PC420', 'PC421', 'PC422', 'PC423', 'PC424', 'PC425', 'PC426', 'PC427', 'PC428', 'PC429', 'PC430', 'PC431', 'PC432', 'PC433', 'PC434', 'PC435', 'PC436', 'PC437', 'PC438', 'PC439', 'PC440', 'PC441', 'PC442', 'PC443', 'PC444', 'PC445', 'PC446', 'PC447', 'PC448', 'PC449', 'PC450', 'PC451', 'PC452', 'PC453', 'PC454', 'PC455', 'PC456', 'PC457', 'PC458', 'PC459', 'PC460', 'PC461', 'PC462', 'PC463', 'PC464'] ['Barratt_Barratt_P1_Edu', 'Barratt_Barratt_P1_Occ', 'Barratt_Barratt_P2_Edu', 'Barratt_Barratt_P2_Occ', 'MRI_Track_Scan_Location_4', 'Basic_Demos_Study_Site_5', 'PreInt_Demos_Fam_Child_Race_1.0', 'PreInt_Demos_Fam_Child_Race_2.0', 'PreInt_Demos_Fam_Child_Race_3.0', 'PreInt_Demos_Fam_Child_Race_4.0', 'PreInt_Demos_Fam_Child_Race_7.0', 'PreInt_Demos_Fam_Child_Race_8.0', 'PreInt_Demos_Fam_Child_Race_9.0', 'PreInt_Demos_Fam_Child_Race_11.0', 'PreInt_Demos_Fam_Child_Race_nan', 'PreInt_Demos_Fam_Child_Ethnicity_1.0', 'PreInt_Demos_Fam_Child_Ethnicity_2.0', 'PreInt_Demos_Fam_Child_Ethnicity_3.0', 'PreInt_Demos_Fam_Child_Ethnicity_nan', '4', '5', '6', '7', '8', '9', '10', '11', '12', '13', '14', '15', '16', '17', 'PC1', 'PC2', 'PC3', 'PC4', 'PC5', 'PC6', 'PC7', 'PC8', 'PC9', 'PC10', 'PC11', 'PC12', 'PC13', 'PC14', 'PC15', 'PC16', 'PC17', 'PC18', 'PC19', 'PC20', 'PC21', 'PC22', 'PC23', 'PC24', 'PC25', 'PC26', 'PC27', 'PC28', 'PC29', 'PC30', 'PC31', 'PC32', 'PC33', 'PC34', 'PC35', 'PC36', 'PC37', 'PC38', 'PC39', 'PC40', 'PC41', 'PC42', 'PC43', 'PC44', 'PC45', 'PC46', 'PC47', 'PC48', 'PC49', 'PC50', 'PC51', 'PC52', 'PC53', 'PC54', 'PC55', 'PC56', 'PC57', 'PC58', 'PC59', 'PC60', 'PC61', 'PC62', 'PC63', 'PC64', 'PC65', 'PC66', 'PC67', 'PC68', 'PC69', 'PC70', 'PC71', 'PC72', 'PC73', 'PC74', 'PC75', 'PC76', 'PC77', 'PC78', 'PC79', 'PC80', 'PC81', 'PC82', 'PC83', 'PC84', 'PC85', 'PC86', 'PC87', 'PC88', 'PC89', 'PC90', 'PC91', 'PC92', 'PC93', 'PC94', 'PC95', 'PC96', 'PC97', 'PC98', 'PC99', 'PC100', 'PC101', 'PC102', 'PC103', 'PC104', 'PC105', 'PC106', 'PC107', 'PC108', 'PC109', 'PC110', 'PC111', 'PC112', 'PC113', 'PC114', 'PC115', 'PC116', 'PC117', 'PC118', 'PC119', 'PC120', 'PC121', 'PC122', 'PC123', 'PC124', 'PC125', 'PC126', 'PC127', 'PC128', 'PC129', 'PC130', 'PC131', 'PC132', 'PC133', 'PC134', 'PC135', 'PC136', 'PC137', 'PC138', 'PC139', 'PC140', 'PC141', 'PC142', 'PC143', 'PC144', 'PC145', 'PC146', 'PC147', 'PC148', 'PC149', 'PC150', 'PC151', 'PC152', 'PC153', 'PC154', 'PC155', 'PC156', 'PC157', 'PC158', 'PC159', 'PC160', 'PC161', 'PC162']\nexpected PC291, PC187, PC306, MRI_Track_Scan_Location_4.0, PC186, PC248, PC259, PC246, PC197, PC435, PC373, PC304, PC404, PC270, PC312, PC379, PC361, PC393, PC345, PC434, PC211, PC198, PC414, PC381, PC464, PC265, PC334, PC438, PC463, PC325, PC430, PC289, PC300, PC459, PC451, PC324, PC380, PC346, PC167, PC191, PC398, PC242, PC169, PC320, PC204, PC275, PC341, PC200, PC253, PC433, PC262, Basic_Demos_Study_Site_4, PC372, PC188, PC256, PC303, PC422, PC338, PC412, PC295, PC362, PC458, PC301, PC311, PC282, PC368, PC456, PC382, PC209, PC420, PC170, PC194, PC443, PC316, PC205, PC297, PC330, PC449, PC390, PC360, PC278, PC192, PC230, PC457, PC225, PC171, PC228, Basic_Demos_Study_Site_2, PC214, PC337, PC288, PC442, PC279, PC377, PC224, PC431, PC196, PC173, PC222, PC437, PC402, PC409, PC355, PC240, PC395, PC203, PC370, PC183, PC215, PC445, PC329, PC235, PC353, PC453, PC314, PC285, PC182, PC417, PC231, PC365, PC429, PC206, PC274, PC273, PC400, PC251, PC333, PC213, PC227, PC375, PC344, PC268, PC210, PC331, PC318, PC315, PC276, PC233, PC328, PC349, PC195, PC175, PC166, PC356, PC221, PC369, MRI_Track_Scan_Location_3.0, PC207, PC234, PC179, PC418, PC343, PC460, PC359, PC441, PC386, PC351, PC322, PC243, PC263, PC352, PC226, PC461, PC439, PC371, PC326, PC428, PC220, PC238, PC247, PC335, PC302, PC339, PC413, PC452, PC313, PC244, PC432, PC384, PC387, PC174, PC332, PC426, PC212, PC252, PC280, PC165, PC350, PC411, PC354, PC208, PC410, PC319, PC317, PC425, PC266, PC239, PC385, PC255, PC440, PC184, PC423, PC396, PC261, PC181, PC218, PC378, PC364, PC249, PC232, PC293, MRI_Track_Scan_Location_2.0, PC454, PC397, PC164, PC327, PC340, PC283, PC336, PC424, PC347, PC436, PC348, PC450, Basic_Demos_Study_Site_3, PC202, PC245, PC366, PC416, PC383, PC462, PC219, PC415, PC176, PC163, PC236, PC323, PC272, PC405, PC308, PreInt_Demos_Fam_Child_Race_10.0, PC391, PC298, PC185, PC216, PC180, PC419, PC407, PC172, PC190, PC199, PC269, PC399, MRI_Track_Scan_Location_nan, PC241, PC305, PC403, PC342, PC254, PC296, PC427, PC358, PC193, PC367, PC310, PC376, PC257, PC447, PC290, PC292, PC307, PC299, PC258, PC444, PC284, PC237, PC267, PC374, PC363, PC446, PC217, PC264, PC168, PC271, PC260, PC250, PC277, PC455, PC229, PC448, PC294, PC189, PC389, PC406, PC281, PC201, PC287, PC401, PC408, PC223, PC357, PC388, PC286, PC177, PC321, PC394, PC421, PC309, PC392, PC178 in input data\ntraining data did not have the following fields: Basic_Demos_Study_Site_5, MRI_Track_Scan_Location_4"
     ]
    }
   ],
   "source": [
    "xgboost_test(classifier = classifier_trained,X = X_test)"
   ]
  },
  {
   "cell_type": "code",
   "execution_count": null,
   "id": "96bb88d3-6031-4e56-b62a-83b8edf45465",
   "metadata": {},
   "outputs": [],
   "source": []
  },
  {
   "cell_type": "code",
   "execution_count": null,
   "id": "4ed8f95c-4a9a-4fb2-b47e-8529aef96933",
   "metadata": {},
   "outputs": [],
   "source": []
  },
  {
   "cell_type": "code",
   "execution_count": null,
   "id": "93ca262a-0a71-44f4-af18-855d63c5e293",
   "metadata": {},
   "outputs": [],
   "source": []
  }
 ],
 "metadata": {
  "kernelspec": {
   "display_name": "Python 3 (ipykernel)",
   "language": "python",
   "name": "python3"
  },
  "language_info": {
   "codemirror_mode": {
    "name": "ipython",
    "version": 3
   },
   "file_extension": ".py",
   "mimetype": "text/x-python",
   "name": "python",
   "nbconvert_exporter": "python",
   "pygments_lexer": "ipython3",
   "version": "3.12.9"
  }
 },
 "nbformat": 4,
 "nbformat_minor": 5
}
