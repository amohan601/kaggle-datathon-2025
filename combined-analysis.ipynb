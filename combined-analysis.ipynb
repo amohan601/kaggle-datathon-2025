{
 "cells": [
  {
   "cell_type": "code",
   "execution_count": 1,
   "id": "38d65ff8-80a3-49b7-b703-5a43c1d61754",
   "metadata": {},
   "outputs": [],
   "source": [
    "import pandas as pd\n"
   ]
  },
  {
   "cell_type": "code",
   "execution_count": 2,
   "id": "8c8f063b-080c-41f7-ad33-d9d8b129a5e0",
   "metadata": {},
   "outputs": [],
   "source": [
    "from sklearn.model_selection import cross_val_score\n",
    "from sklearn.metrics import make_scorer, accuracy_score\n",
    "import numpy as np\n",
    "from xgboost import XGBClassifier\n",
    "from sklearn.multioutput import MultiOutputClassifier\n",
    "from sklearn.model_selection import train_test_split\n",
    "import joblib\n",
    "import xlsxwriter\n",
    "import os\n"
   ]
  },
  {
   "cell_type": "code",
   "execution_count": 3,
   "id": "cd2a4872",
   "metadata": {},
   "outputs": [],
   "source": [
    "import plotly.io as pio\n",
    "pio.renderers.default = 'notebook'\n",
    "import plotly.express as px\n",
    "\n",
    "import matplotlib.pyplot as plt\n",
    "from sklearn.decomposition import PCA\n",
    "from sklearn.preprocessing import StandardScaler\n",
    "import seaborn as sns\n",
    "\n",
    "from scipy.cluster import hierarchy\n",
    "from scipy.spatial.distance import pdist, squareform\n",
    "from sklearn.metrics import silhouette_score"
   ]
  },
  {
   "cell_type": "code",
   "execution_count": 4,
   "id": "4f1637a7-a23c-42c2-ad9c-2ecf071bdea1",
   "metadata": {},
   "outputs": [],
   "source": [
    "def load_data_old():\n",
    "    print('load old files')\n",
    "    df_categorical = pd.read_excel('TRAIN_OLD/TRAIN_CATEGORICAL_METADATA.xlsx')\n",
    "    df_matrices = pd.read_csv('TRAIN_OLD/TRAIN_FUNCTIONAL_CONNECTOME_MATRICES.csv')\n",
    "    df_quant = pd.read_excel('TRAIN_OLD/TRAIN_QUANTITATIVE_METADATA.xlsx')\n",
    "    df_solutions = pd.read_excel('TRAIN_OLD/TRAINING_SOLUTIONS.xlsx')  \n",
    "    print('load test files')\n",
    "    df_categorical_test = pd.read_excel('TEST/TEST_CATEGORICAL.xlsx')\n",
    "    df_matrices_test = pd.read_csv('TEST/TEST_FUNCTIONAL_CONNECTOME_MATRICES.csv')\n",
    "    df_quant_test = pd.read_excel('TEST/TEST_QUANTITATIVE_METADATA.xlsx')\n",
    "    return df_categorical,df_matrices,df_quant,df_solutions,df_categorical_test,df_matrices_test,df_quant_test"
   ]
  },
  {
   "cell_type": "code",
   "execution_count": 5,
   "id": "7224d442-fd35-4885-af74-b528e53ac0cb",
   "metadata": {},
   "outputs": [],
   "source": [
    "def load_data_new():\n",
    "    print('load new files')\n",
    "    df_categorical = pd.read_excel('TRAIN_NEW/TRAIN_CATEGORICAL_METADATA_new.xlsx')\n",
    "    df_matrices = pd.read_csv('TRAIN_NEW/TRAIN_FUNCTIONAL_CONNECTOME_MATRICES_new_36P_Pearson.csv')\n",
    "    df_quant = pd.read_excel('TRAIN_NEW/TRAIN_QUANTITATIVE_METADATA_new.xlsx')\n",
    "    df_solutions = pd.read_excel('TRAIN_NEW/TRAINING_SOLUTIONS.xlsx')  \n",
    "    print('load test files')\n",
    "    df_categorical_test = pd.read_excel('TEST/TEST_CATEGORICAL.xlsx')\n",
    "    df_matrices_test = pd.read_csv('TEST/TEST_FUNCTIONAL_CONNECTOME_MATRICES.csv')\n",
    "    df_quant_test = pd.read_excel('TEST/TEST_QUANTITATIVE_METADATA.xlsx')\n",
    "    return df_categorical,df_matrices,df_quant,df_solutions,df_categorical_test,df_matrices_test,df_quant_test"
   ]
  },
  {
   "cell_type": "code",
   "execution_count": 6,
   "id": "624361a7-1578-40be-a84b-6e0234f5154b",
   "metadata": {},
   "outputs": [],
   "source": [
    "def join_data(categorical,matrices,quantitative,solutions=None):\n",
    "    print('joining data frames')\n",
    "    cat_quant = pd.merge(categorical, quantitative , on ='participant_id', how ='inner')\n",
    "    cat_quant_mat = pd.merge(cat_quant, matrices , on ='participant_id', how ='inner')\n",
    "    if isinstance(solutions, pd.DataFrame):\n",
    "        cat_quant_mat_sols = pd.merge(cat_quant_mat, solutions , on ='participant_id', how ='inner')\n",
    "        return cat_quant_mat_sols\n",
    "    else:    \n",
    "        return cat_quant_mat"
   ]
  },
  {
   "cell_type": "code",
   "execution_count": 7,
   "id": "fa41020a-4f0d-4cda-864c-9d9627bd3ccc",
   "metadata": {},
   "outputs": [],
   "source": [
    "def save_model(model,name,accuracy,y_test,y_pred):\n",
    "    joblib.dump({'model': model, 'y_test': y_test,'y_pred': y_pred, 'accuracy': accuracy}, name)\n",
    "    print('saved the model')\n",
    "\n",
    "def save_exploration(model,name):\n",
    "    joblib.dump({'model': model}, name)\n",
    "    print('save_exploration')\n",
    "\n",
    "def get_model(name):\n",
    "    model = joblib.load(name)\n",
    "    print(model)\n",
    "    return model"
   ]
  },
  {
   "cell_type": "code",
   "execution_count": 8,
   "id": "ee0b94b4-14fa-4462-a827-f5ffd82982b7",
   "metadata": {},
   "outputs": [],
   "source": [
    "def loaddata_joinframes_splittestandtrain(df_categorical_new,df_matrices_new,df_quant_new,df_solutions_new):\n",
    "    joined_training_data = join_data(df_categorical_new,df_matrices_new,df_quant_new,df_solutions_new)\n",
    "    X = joined_training_data.drop(columns = ['ADHD_Outcome','Sex_F'] )\n",
    "    Y = joined_training_data[['participant_id','ADHD_Outcome','Sex_F']]\n",
    "    X_train_data, X_test_data, y_train_data, y_test_data = split_data(X, Y)\n",
    "    return X_train_data, X_test_data, y_train_data, y_test_data"
   ]
  },
  {
   "cell_type": "markdown",
   "id": "abfd33da-3841-409a-b227-f05cea5514b4",
   "metadata": {},
   "source": [
    "### Reference for parts of below sections taken from datathon slides\n",
    "### https://colab.research.google.com/drive/1texL3JnRdTHyevP3_GzousIFKjTj0LmY#scrollTo=IGFYIQSmlUMb"
   ]
  },
  {
   "cell_type": "code",
   "execution_count": 9,
   "id": "75336bc0-3498-47a8-9aa7-fe9e90a8460c",
   "metadata": {},
   "outputs": [],
   "source": [
    "def xgboost_classifer():\n",
    "    print('xgboost_classifer')\n",
    "    # Initialize the base classifier\n",
    "    classifier = XGBClassifier(objective='binary:logistic', n_estimators=100, learning_rate=0.1, max_depth=5)\n",
    "    multioutput_classifier = MultiOutputClassifier(classifier)\n",
    "    return multioutput_classifier"
   ]
  },
  {
   "cell_type": "code",
   "execution_count": 10,
   "id": "e0f31412-c501-4756-b9e2-492385a571a2",
   "metadata": {},
   "outputs": [],
   "source": [
    "def train(model,X_train, y_train):\n",
    "    print('train the model')\n",
    "    X_train  = X_train_data.drop(columns = ['participant_id'] )\n",
    "    y_train  = y_train_data.drop(columns = ['participant_id'] )\n",
    "    model.fit(X_train, y_train)"
   ]
  },
  {
   "cell_type": "code",
   "execution_count": 11,
   "id": "2dcd712e-832d-4734-a4f9-6b88f015f56b",
   "metadata": {},
   "outputs": [],
   "source": [
    "def predict(model,X_test):\n",
    "    print('predict with the model')\n",
    "    X_test_data  = X_test.drop(columns = ['participant_id'] )\n",
    "    y_pred = model.predict(X_test_data)\n",
    "    predictions_df = pd.DataFrame(\n",
    "        y_pred,\n",
    "        columns=['Predicted_Gender', 'Predicted_ADHD']\n",
    "    )\n",
    "    return predictions_df"
   ]
  },
  {
   "cell_type": "code",
   "execution_count": 12,
   "id": "a9f2dc62-fd73-46e2-8d8b-7027c66147dd",
   "metadata": {},
   "outputs": [],
   "source": [
    "def calculate_score(y_test,y_pred):\n",
    "    print('calculate score with prediction vs true values')\n",
    "    y_test_results  = y_test.drop(columns = ['participant_id'] )\n",
    "    accuracy = accuracy_score(y_test_results, y_pred)\n",
    "    print(f\"Accuracy: {accuracy * 100:.2f}%\")"
   ]
  },
  {
   "cell_type": "code",
   "execution_count": null,
   "id": "d13b51b2-dadb-47e7-9fd1-4acc18852085",
   "metadata": {},
   "outputs": [],
   "source": [
    "def split_data(X,Y):\n",
    "    print('split the train and test data')\n",
    "    X_train_data, X_test_data, y_train_data, y_test_data = train_test_split(X, Y, test_size=0.2, random_state=42)\n",
    "    return X_train_data, X_test_data, y_train_data, y_test_data"
   ]
  },
  {
   "cell_type": "code",
   "execution_count": 13,
   "id": "48849f42-098c-440a-a97b-7a111ddf607a",
   "metadata": {},
   "outputs": [],
   "source": [
    "def multi_output_accuracy(y_true, y_pred):\n",
    "    # Ensure y_true and y_pred are NumPy arrays\n",
    "    y_true = np.array(y_true)\n",
    "    y_pred = np.array(y_pred)\n",
    "    # Compute accuracy for each target variable and return the mean\n",
    "    return np.mean([accuracy_score(y_true[:, i], y_pred[:, i]) for i in range(y_true.shape[1])])"
   ]
  },
  {
   "cell_type": "code",
   "execution_count": 14,
   "id": "28d604fd-b74f-47df-8beb-4fc72854dd64",
   "metadata": {},
   "outputs": [],
   "source": [
    "def do_cross_validation(X,Y,model):\n",
    "    # Perform cross-validation on the training data\n",
    "    X_train_cv  = X.drop(columns = ['participant_id'] )\n",
    "    y_train_cv  = Y.drop(columns = ['participant_id'] )\n",
    "    # Create a scorer using scikit-learn's make_scorer\n",
    "    multi_output_scorer = make_scorer(multi_output_accuracy)\n",
    "    cv_scores = cross_val_score(model, X_train_cv, y_train_cv, cv=5, scoring=multi_output_scorer)\n",
    "    \n",
    "    # Output the cross-validation results\n",
    "    print(\"Cross-validation scores for each fold:\", cv_scores)\n",
    "    print(\"Mean CV score:\", f'Mean Accuracy: {np.mean(cv_scores) * 100:.2f}%')"
   ]
  },
  {
   "cell_type": "markdown",
   "id": "1c587a78-f0bf-41bb-baed-e9ef91710670",
   "metadata": {},
   "source": [
    "## Train with old dataset (only for reference)"
   ]
  },
  {
   "cell_type": "code",
   "execution_count": 15,
   "id": "0abbfd7f-4340-41b7-91ad-8a866b5005c0",
   "metadata": {},
   "outputs": [
    {
     "name": "stdout",
     "output_type": "stream",
     "text": [
      "load old files\n"
     ]
    },
    {
     "ename": "FileNotFoundError",
     "evalue": "[Errno 2] No such file or directory: 'TRAIN_OLD/TRAIN_CATEGORICAL_METADATA.xlsx'",
     "output_type": "error",
     "traceback": [
      "\u001b[31m---------------------------------------------------------------------------\u001b[39m",
      "\u001b[31mFileNotFoundError\u001b[39m                         Traceback (most recent call last)",
      "\u001b[36mCell\u001b[39m\u001b[36m \u001b[39m\u001b[32mIn[15]\u001b[39m\u001b[32m, line 1\u001b[39m\n\u001b[32m----> \u001b[39m\u001b[32m1\u001b[39m df_categorical,df_matrices,df_quant,df_solutions,df_categorical_test,df_matrices_test,df_quant_test = \u001b[43mload_data_old\u001b[49m\u001b[43m(\u001b[49m\u001b[43m)\u001b[49m\n\u001b[32m      2\u001b[39m joined_training_data = join_data(df_categorical,df_matrices,df_quant,df_solutions)\n",
      "\u001b[36mCell\u001b[39m\u001b[36m \u001b[39m\u001b[32mIn[4]\u001b[39m\u001b[32m, line 3\u001b[39m, in \u001b[36mload_data_old\u001b[39m\u001b[34m()\u001b[39m\n\u001b[32m      1\u001b[39m \u001b[38;5;28;01mdef\u001b[39;00m\u001b[38;5;250m \u001b[39m\u001b[34mload_data_old\u001b[39m():\n\u001b[32m      2\u001b[39m     \u001b[38;5;28mprint\u001b[39m(\u001b[33m'\u001b[39m\u001b[33mload old files\u001b[39m\u001b[33m'\u001b[39m)\n\u001b[32m----> \u001b[39m\u001b[32m3\u001b[39m     df_categorical = \u001b[43mpd\u001b[49m\u001b[43m.\u001b[49m\u001b[43mread_excel\u001b[49m\u001b[43m(\u001b[49m\u001b[33;43m'\u001b[39;49m\u001b[33;43mTRAIN_OLD/TRAIN_CATEGORICAL_METADATA.xlsx\u001b[39;49m\u001b[33;43m'\u001b[39;49m\u001b[43m)\u001b[49m\n\u001b[32m      4\u001b[39m     df_matrices = pd.read_csv(\u001b[33m'\u001b[39m\u001b[33mTRAIN_OLD/TRAIN_FUNCTIONAL_CONNECTOME_MATRICES.csv\u001b[39m\u001b[33m'\u001b[39m)\n\u001b[32m      5\u001b[39m     df_quant = pd.read_excel(\u001b[33m'\u001b[39m\u001b[33mTRAIN_OLD/TRAIN_QUANTITATIVE_METADATA.xlsx\u001b[39m\u001b[33m'\u001b[39m)\n",
      "\u001b[36mFile \u001b[39m\u001b[32m~/.local/lib/python3.12/site-packages/pandas/io/excel/_base.py:495\u001b[39m, in \u001b[36mread_excel\u001b[39m\u001b[34m(io, sheet_name, header, names, index_col, usecols, dtype, engine, converters, true_values, false_values, skiprows, nrows, na_values, keep_default_na, na_filter, verbose, parse_dates, date_parser, date_format, thousands, decimal, comment, skipfooter, storage_options, dtype_backend, engine_kwargs)\u001b[39m\n\u001b[32m    493\u001b[39m \u001b[38;5;28;01mif\u001b[39;00m \u001b[38;5;129;01mnot\u001b[39;00m \u001b[38;5;28misinstance\u001b[39m(io, ExcelFile):\n\u001b[32m    494\u001b[39m     should_close = \u001b[38;5;28;01mTrue\u001b[39;00m\n\u001b[32m--> \u001b[39m\u001b[32m495\u001b[39m     io = \u001b[43mExcelFile\u001b[49m\u001b[43m(\u001b[49m\n\u001b[32m    496\u001b[39m \u001b[43m        \u001b[49m\u001b[43mio\u001b[49m\u001b[43m,\u001b[49m\n\u001b[32m    497\u001b[39m \u001b[43m        \u001b[49m\u001b[43mstorage_options\u001b[49m\u001b[43m=\u001b[49m\u001b[43mstorage_options\u001b[49m\u001b[43m,\u001b[49m\n\u001b[32m    498\u001b[39m \u001b[43m        \u001b[49m\u001b[43mengine\u001b[49m\u001b[43m=\u001b[49m\u001b[43mengine\u001b[49m\u001b[43m,\u001b[49m\n\u001b[32m    499\u001b[39m \u001b[43m        \u001b[49m\u001b[43mengine_kwargs\u001b[49m\u001b[43m=\u001b[49m\u001b[43mengine_kwargs\u001b[49m\u001b[43m,\u001b[49m\n\u001b[32m    500\u001b[39m \u001b[43m    \u001b[49m\u001b[43m)\u001b[49m\n\u001b[32m    501\u001b[39m \u001b[38;5;28;01melif\u001b[39;00m engine \u001b[38;5;129;01mand\u001b[39;00m engine != io.engine:\n\u001b[32m    502\u001b[39m     \u001b[38;5;28;01mraise\u001b[39;00m \u001b[38;5;167;01mValueError\u001b[39;00m(\n\u001b[32m    503\u001b[39m         \u001b[33m\"\u001b[39m\u001b[33mEngine should not be specified when passing \u001b[39m\u001b[33m\"\u001b[39m\n\u001b[32m    504\u001b[39m         \u001b[33m\"\u001b[39m\u001b[33man ExcelFile - ExcelFile already has the engine set\u001b[39m\u001b[33m\"\u001b[39m\n\u001b[32m    505\u001b[39m     )\n",
      "\u001b[36mFile \u001b[39m\u001b[32m~/.local/lib/python3.12/site-packages/pandas/io/excel/_base.py:1550\u001b[39m, in \u001b[36mExcelFile.__init__\u001b[39m\u001b[34m(self, path_or_buffer, engine, storage_options, engine_kwargs)\u001b[39m\n\u001b[32m   1548\u001b[39m     ext = \u001b[33m\"\u001b[39m\u001b[33mxls\u001b[39m\u001b[33m\"\u001b[39m\n\u001b[32m   1549\u001b[39m \u001b[38;5;28;01melse\u001b[39;00m:\n\u001b[32m-> \u001b[39m\u001b[32m1550\u001b[39m     ext = \u001b[43minspect_excel_format\u001b[49m\u001b[43m(\u001b[49m\n\u001b[32m   1551\u001b[39m \u001b[43m        \u001b[49m\u001b[43mcontent_or_path\u001b[49m\u001b[43m=\u001b[49m\u001b[43mpath_or_buffer\u001b[49m\u001b[43m,\u001b[49m\u001b[43m \u001b[49m\u001b[43mstorage_options\u001b[49m\u001b[43m=\u001b[49m\u001b[43mstorage_options\u001b[49m\n\u001b[32m   1552\u001b[39m \u001b[43m    \u001b[49m\u001b[43m)\u001b[49m\n\u001b[32m   1553\u001b[39m     \u001b[38;5;28;01mif\u001b[39;00m ext \u001b[38;5;129;01mis\u001b[39;00m \u001b[38;5;28;01mNone\u001b[39;00m:\n\u001b[32m   1554\u001b[39m         \u001b[38;5;28;01mraise\u001b[39;00m \u001b[38;5;167;01mValueError\u001b[39;00m(\n\u001b[32m   1555\u001b[39m             \u001b[33m\"\u001b[39m\u001b[33mExcel file format cannot be determined, you must specify \u001b[39m\u001b[33m\"\u001b[39m\n\u001b[32m   1556\u001b[39m             \u001b[33m\"\u001b[39m\u001b[33man engine manually.\u001b[39m\u001b[33m\"\u001b[39m\n\u001b[32m   1557\u001b[39m         )\n",
      "\u001b[36mFile \u001b[39m\u001b[32m~/.local/lib/python3.12/site-packages/pandas/io/excel/_base.py:1402\u001b[39m, in \u001b[36minspect_excel_format\u001b[39m\u001b[34m(content_or_path, storage_options)\u001b[39m\n\u001b[32m   1399\u001b[39m \u001b[38;5;28;01mif\u001b[39;00m \u001b[38;5;28misinstance\u001b[39m(content_or_path, \u001b[38;5;28mbytes\u001b[39m):\n\u001b[32m   1400\u001b[39m     content_or_path = BytesIO(content_or_path)\n\u001b[32m-> \u001b[39m\u001b[32m1402\u001b[39m \u001b[38;5;28;01mwith\u001b[39;00m \u001b[43mget_handle\u001b[49m\u001b[43m(\u001b[49m\n\u001b[32m   1403\u001b[39m \u001b[43m    \u001b[49m\u001b[43mcontent_or_path\u001b[49m\u001b[43m,\u001b[49m\u001b[43m \u001b[49m\u001b[33;43m\"\u001b[39;49m\u001b[33;43mrb\u001b[39;49m\u001b[33;43m\"\u001b[39;49m\u001b[43m,\u001b[49m\u001b[43m \u001b[49m\u001b[43mstorage_options\u001b[49m\u001b[43m=\u001b[49m\u001b[43mstorage_options\u001b[49m\u001b[43m,\u001b[49m\u001b[43m \u001b[49m\u001b[43mis_text\u001b[49m\u001b[43m=\u001b[49m\u001b[38;5;28;43;01mFalse\u001b[39;49;00m\n\u001b[32m   1404\u001b[39m \u001b[43m\u001b[49m\u001b[43m)\u001b[49m \u001b[38;5;28;01mas\u001b[39;00m handle:\n\u001b[32m   1405\u001b[39m     stream = handle.handle\n\u001b[32m   1406\u001b[39m     stream.seek(\u001b[32m0\u001b[39m)\n",
      "\u001b[36mFile \u001b[39m\u001b[32m~/.local/lib/python3.12/site-packages/pandas/io/common.py:882\u001b[39m, in \u001b[36mget_handle\u001b[39m\u001b[34m(path_or_buf, mode, encoding, compression, memory_map, is_text, errors, storage_options)\u001b[39m\n\u001b[32m    873\u001b[39m         handle = \u001b[38;5;28mopen\u001b[39m(\n\u001b[32m    874\u001b[39m             handle,\n\u001b[32m    875\u001b[39m             ioargs.mode,\n\u001b[32m   (...)\u001b[39m\u001b[32m    878\u001b[39m             newline=\u001b[33m\"\u001b[39m\u001b[33m\"\u001b[39m,\n\u001b[32m    879\u001b[39m         )\n\u001b[32m    880\u001b[39m     \u001b[38;5;28;01melse\u001b[39;00m:\n\u001b[32m    881\u001b[39m         \u001b[38;5;66;03m# Binary mode\u001b[39;00m\n\u001b[32m--> \u001b[39m\u001b[32m882\u001b[39m         handle = \u001b[38;5;28;43mopen\u001b[39;49m\u001b[43m(\u001b[49m\u001b[43mhandle\u001b[49m\u001b[43m,\u001b[49m\u001b[43m \u001b[49m\u001b[43mioargs\u001b[49m\u001b[43m.\u001b[49m\u001b[43mmode\u001b[49m\u001b[43m)\u001b[49m\n\u001b[32m    883\u001b[39m     handles.append(handle)\n\u001b[32m    885\u001b[39m \u001b[38;5;66;03m# Convert BytesIO or file objects passed with an encoding\u001b[39;00m\n",
      "\u001b[31mFileNotFoundError\u001b[39m: [Errno 2] No such file or directory: 'TRAIN_OLD/TRAIN_CATEGORICAL_METADATA.xlsx'"
     ]
    }
   ],
   "source": [
    "df_categorical,df_matrices,df_quant,df_solutions,df_categorical_test,df_matrices_test,df_quant_test = load_data_old()\n",
    "joined_training_data = join_data(df_categorical,df_matrices,df_quant,df_solutions)"
   ]
  },
  {
   "cell_type": "code",
   "execution_count": null,
   "id": "83d35ce0-d808-46c7-9c74-11d4a75316a9",
   "metadata": {},
   "outputs": [
    {
     "data": {
      "text/html": [
       "<div>\n",
       "<style scoped>\n",
       "    .dataframe tbody tr th:only-of-type {\n",
       "        vertical-align: middle;\n",
       "    }\n",
       "\n",
       "    .dataframe tbody tr th {\n",
       "        vertical-align: top;\n",
       "    }\n",
       "\n",
       "    .dataframe thead th {\n",
       "        text-align: right;\n",
       "    }\n",
       "</style>\n",
       "<table border=\"1\" class=\"dataframe\">\n",
       "  <thead>\n",
       "    <tr style=\"text-align: right;\">\n",
       "      <th></th>\n",
       "      <th>participant_id</th>\n",
       "      <th>Basic_Demos_Enroll_Year</th>\n",
       "      <th>Basic_Demos_Study_Site</th>\n",
       "      <th>PreInt_Demos_Fam_Child_Ethnicity</th>\n",
       "      <th>PreInt_Demos_Fam_Child_Race</th>\n",
       "      <th>MRI_Track_Scan_Location</th>\n",
       "      <th>Barratt_Barratt_P1_Edu</th>\n",
       "      <th>Barratt_Barratt_P1_Occ</th>\n",
       "      <th>Barratt_Barratt_P2_Edu</th>\n",
       "      <th>Barratt_Barratt_P2_Occ</th>\n",
       "      <th>...</th>\n",
       "      <th>195throw_198thcolumn</th>\n",
       "      <th>195throw_199thcolumn</th>\n",
       "      <th>196throw_197thcolumn</th>\n",
       "      <th>196throw_198thcolumn</th>\n",
       "      <th>196throw_199thcolumn</th>\n",
       "      <th>197throw_198thcolumn</th>\n",
       "      <th>197throw_199thcolumn</th>\n",
       "      <th>198throw_199thcolumn</th>\n",
       "      <th>ADHD_Outcome</th>\n",
       "      <th>Sex_F</th>\n",
       "    </tr>\n",
       "  </thead>\n",
       "  <tbody>\n",
       "    <tr>\n",
       "      <th>0</th>\n",
       "      <td>UmrK0vMLopoR</td>\n",
       "      <td>2016</td>\n",
       "      <td>1</td>\n",
       "      <td>0.0</td>\n",
       "      <td>0</td>\n",
       "      <td>1</td>\n",
       "      <td>21</td>\n",
       "      <td>45</td>\n",
       "      <td>21</td>\n",
       "      <td>45</td>\n",
       "      <td>...</td>\n",
       "      <td>-0.058396</td>\n",
       "      <td>-0.041544</td>\n",
       "      <td>0.142806</td>\n",
       "      <td>-0.006377</td>\n",
       "      <td>0.108005</td>\n",
       "      <td>0.148327</td>\n",
       "      <td>0.093230</td>\n",
       "      <td>-0.004984</td>\n",
       "      <td>1</td>\n",
       "      <td>1</td>\n",
       "    </tr>\n",
       "    <tr>\n",
       "      <th>1</th>\n",
       "      <td>CPaeQkhcjg7d</td>\n",
       "      <td>2019</td>\n",
       "      <td>3</td>\n",
       "      <td>1.0</td>\n",
       "      <td>2</td>\n",
       "      <td>3</td>\n",
       "      <td>15</td>\n",
       "      <td>15</td>\n",
       "      <td>0</td>\n",
       "      <td>0</td>\n",
       "      <td>...</td>\n",
       "      <td>-0.025624</td>\n",
       "      <td>-0.031863</td>\n",
       "      <td>0.162011</td>\n",
       "      <td>0.067439</td>\n",
       "      <td>0.017155</td>\n",
       "      <td>0.088893</td>\n",
       "      <td>0.064094</td>\n",
       "      <td>0.194381</td>\n",
       "      <td>1</td>\n",
       "      <td>0</td>\n",
       "    </tr>\n",
       "  </tbody>\n",
       "</table>\n",
       "<p>2 rows × 19930 columns</p>\n",
       "</div>"
      ],
      "text/plain": [
       "  participant_id  Basic_Demos_Enroll_Year  Basic_Demos_Study_Site  \\\n",
       "0   UmrK0vMLopoR                     2016                       1   \n",
       "1   CPaeQkhcjg7d                     2019                       3   \n",
       "\n",
       "   PreInt_Demos_Fam_Child_Ethnicity  PreInt_Demos_Fam_Child_Race  \\\n",
       "0                               0.0                            0   \n",
       "1                               1.0                            2   \n",
       "\n",
       "   MRI_Track_Scan_Location  Barratt_Barratt_P1_Edu  Barratt_Barratt_P1_Occ  \\\n",
       "0                        1                      21                      45   \n",
       "1                        3                      15                      15   \n",
       "\n",
       "   Barratt_Barratt_P2_Edu  Barratt_Barratt_P2_Occ  ...  195throw_198thcolumn  \\\n",
       "0                      21                      45  ...             -0.058396   \n",
       "1                       0                       0  ...             -0.025624   \n",
       "\n",
       "   195throw_199thcolumn  196throw_197thcolumn  196throw_198thcolumn  \\\n",
       "0             -0.041544              0.142806             -0.006377   \n",
       "1             -0.031863              0.162011              0.067439   \n",
       "\n",
       "   196throw_199thcolumn  197throw_198thcolumn  197throw_199thcolumn  \\\n",
       "0              0.108005              0.148327              0.093230   \n",
       "1              0.017155              0.088893              0.064094   \n",
       "\n",
       "   198throw_199thcolumn  ADHD_Outcome  Sex_F  \n",
       "0             -0.004984             1      1  \n",
       "1              0.194381             1      0  \n",
       "\n",
       "[2 rows x 19930 columns]"
      ]
     },
     "execution_count": 8,
     "metadata": {},
     "output_type": "execute_result"
    }
   ],
   "source": [
    "joined_training_data.head(2)"
   ]
  },
  {
   "cell_type": "code",
   "execution_count": null,
   "id": "e7e1f136-b04c-4379-97e2-68df87b17124",
   "metadata": {},
   "outputs": [],
   "source": [
    "X = joined_training_data.drop(columns = ['ADHD_Outcome','Sex_F'] )"
   ]
  },
  {
   "cell_type": "code",
   "execution_count": null,
   "id": "7f78a2bb-40cd-4d82-80b9-9b1cdf47de53",
   "metadata": {},
   "outputs": [
    {
     "data": {
      "text/html": [
       "<div>\n",
       "<style scoped>\n",
       "    .dataframe tbody tr th:only-of-type {\n",
       "        vertical-align: middle;\n",
       "    }\n",
       "\n",
       "    .dataframe tbody tr th {\n",
       "        vertical-align: top;\n",
       "    }\n",
       "\n",
       "    .dataframe thead th {\n",
       "        text-align: right;\n",
       "    }\n",
       "</style>\n",
       "<table border=\"1\" class=\"dataframe\">\n",
       "  <thead>\n",
       "    <tr style=\"text-align: right;\">\n",
       "      <th></th>\n",
       "      <th>participant_id</th>\n",
       "      <th>Basic_Demos_Enroll_Year</th>\n",
       "      <th>Basic_Demos_Study_Site</th>\n",
       "      <th>PreInt_Demos_Fam_Child_Ethnicity</th>\n",
       "      <th>PreInt_Demos_Fam_Child_Race</th>\n",
       "      <th>MRI_Track_Scan_Location</th>\n",
       "      <th>Barratt_Barratt_P1_Edu</th>\n",
       "      <th>Barratt_Barratt_P1_Occ</th>\n",
       "      <th>Barratt_Barratt_P2_Edu</th>\n",
       "      <th>Barratt_Barratt_P2_Occ</th>\n",
       "      <th>...</th>\n",
       "      <th>195throw_196thcolumn</th>\n",
       "      <th>195throw_197thcolumn</th>\n",
       "      <th>195throw_198thcolumn</th>\n",
       "      <th>195throw_199thcolumn</th>\n",
       "      <th>196throw_197thcolumn</th>\n",
       "      <th>196throw_198thcolumn</th>\n",
       "      <th>196throw_199thcolumn</th>\n",
       "      <th>197throw_198thcolumn</th>\n",
       "      <th>197throw_199thcolumn</th>\n",
       "      <th>198throw_199thcolumn</th>\n",
       "    </tr>\n",
       "  </thead>\n",
       "  <tbody>\n",
       "    <tr>\n",
       "      <th>0</th>\n",
       "      <td>UmrK0vMLopoR</td>\n",
       "      <td>2016</td>\n",
       "      <td>1</td>\n",
       "      <td>0.0</td>\n",
       "      <td>0</td>\n",
       "      <td>1</td>\n",
       "      <td>21</td>\n",
       "      <td>45</td>\n",
       "      <td>21</td>\n",
       "      <td>45</td>\n",
       "      <td>...</td>\n",
       "      <td>-0.037630</td>\n",
       "      <td>-0.072599</td>\n",
       "      <td>-0.058396</td>\n",
       "      <td>-0.041544</td>\n",
       "      <td>0.142806</td>\n",
       "      <td>-0.006377</td>\n",
       "      <td>0.108005</td>\n",
       "      <td>0.148327</td>\n",
       "      <td>0.093230</td>\n",
       "      <td>-0.004984</td>\n",
       "    </tr>\n",
       "    <tr>\n",
       "      <th>1</th>\n",
       "      <td>CPaeQkhcjg7d</td>\n",
       "      <td>2019</td>\n",
       "      <td>3</td>\n",
       "      <td>1.0</td>\n",
       "      <td>2</td>\n",
       "      <td>3</td>\n",
       "      <td>15</td>\n",
       "      <td>15</td>\n",
       "      <td>0</td>\n",
       "      <td>0</td>\n",
       "      <td>...</td>\n",
       "      <td>0.014106</td>\n",
       "      <td>-0.001084</td>\n",
       "      <td>-0.025624</td>\n",
       "      <td>-0.031863</td>\n",
       "      <td>0.162011</td>\n",
       "      <td>0.067439</td>\n",
       "      <td>0.017155</td>\n",
       "      <td>0.088893</td>\n",
       "      <td>0.064094</td>\n",
       "      <td>0.194381</td>\n",
       "    </tr>\n",
       "  </tbody>\n",
       "</table>\n",
       "<p>2 rows × 19928 columns</p>\n",
       "</div>"
      ],
      "text/plain": [
       "  participant_id  Basic_Demos_Enroll_Year  Basic_Demos_Study_Site  \\\n",
       "0   UmrK0vMLopoR                     2016                       1   \n",
       "1   CPaeQkhcjg7d                     2019                       3   \n",
       "\n",
       "   PreInt_Demos_Fam_Child_Ethnicity  PreInt_Demos_Fam_Child_Race  \\\n",
       "0                               0.0                            0   \n",
       "1                               1.0                            2   \n",
       "\n",
       "   MRI_Track_Scan_Location  Barratt_Barratt_P1_Edu  Barratt_Barratt_P1_Occ  \\\n",
       "0                        1                      21                      45   \n",
       "1                        3                      15                      15   \n",
       "\n",
       "   Barratt_Barratt_P2_Edu  Barratt_Barratt_P2_Occ  ...  195throw_196thcolumn  \\\n",
       "0                      21                      45  ...             -0.037630   \n",
       "1                       0                       0  ...              0.014106   \n",
       "\n",
       "   195throw_197thcolumn  195throw_198thcolumn  195throw_199thcolumn  \\\n",
       "0             -0.072599             -0.058396             -0.041544   \n",
       "1             -0.001084             -0.025624             -0.031863   \n",
       "\n",
       "   196throw_197thcolumn  196throw_198thcolumn  196throw_199thcolumn  \\\n",
       "0              0.142806             -0.006377              0.108005   \n",
       "1              0.162011              0.067439              0.017155   \n",
       "\n",
       "   197throw_198thcolumn  197throw_199thcolumn  198throw_199thcolumn  \n",
       "0              0.148327              0.093230             -0.004984  \n",
       "1              0.088893              0.064094              0.194381  \n",
       "\n",
       "[2 rows x 19928 columns]"
      ]
     },
     "execution_count": 10,
     "metadata": {},
     "output_type": "execute_result"
    }
   ],
   "source": [
    "X.head(2)"
   ]
  },
  {
   "cell_type": "code",
   "execution_count": null,
   "id": "c697c807-6e31-4967-978b-70c856bc4f56",
   "metadata": {},
   "outputs": [],
   "source": [
    "Y = joined_training_data[['participant_id','ADHD_Outcome','Sex_F']]"
   ]
  },
  {
   "cell_type": "code",
   "execution_count": null,
   "id": "594d6c3b-f22f-484f-aa0f-3824b227dfb4",
   "metadata": {},
   "outputs": [
    {
     "data": {
      "text/html": [
       "<div>\n",
       "<style scoped>\n",
       "    .dataframe tbody tr th:only-of-type {\n",
       "        vertical-align: middle;\n",
       "    }\n",
       "\n",
       "    .dataframe tbody tr th {\n",
       "        vertical-align: top;\n",
       "    }\n",
       "\n",
       "    .dataframe thead th {\n",
       "        text-align: right;\n",
       "    }\n",
       "</style>\n",
       "<table border=\"1\" class=\"dataframe\">\n",
       "  <thead>\n",
       "    <tr style=\"text-align: right;\">\n",
       "      <th></th>\n",
       "      <th>participant_id</th>\n",
       "      <th>ADHD_Outcome</th>\n",
       "      <th>Sex_F</th>\n",
       "    </tr>\n",
       "  </thead>\n",
       "  <tbody>\n",
       "    <tr>\n",
       "      <th>0</th>\n",
       "      <td>UmrK0vMLopoR</td>\n",
       "      <td>1</td>\n",
       "      <td>1</td>\n",
       "    </tr>\n",
       "    <tr>\n",
       "      <th>1</th>\n",
       "      <td>CPaeQkhcjg7d</td>\n",
       "      <td>1</td>\n",
       "      <td>0</td>\n",
       "    </tr>\n",
       "  </tbody>\n",
       "</table>\n",
       "</div>"
      ],
      "text/plain": [
       "  participant_id  ADHD_Outcome  Sex_F\n",
       "0   UmrK0vMLopoR             1      1\n",
       "1   CPaeQkhcjg7d             1      0"
      ]
     },
     "execution_count": 12,
     "metadata": {},
     "output_type": "execute_result"
    }
   ],
   "source": [
    "Y.head(2)"
   ]
  },
  {
   "cell_type": "code",
   "execution_count": null,
   "id": "b3aa190f-944e-4d9a-b20c-3b3e27f69a97",
   "metadata": {},
   "outputs": [
    {
     "name": "stdout",
     "output_type": "stream",
     "text": [
      "split the train and test data\n"
     ]
    }
   ],
   "source": [
    "X_train_data, X_test_data, y_train_data, y_test_data = split_data(X, Y)"
   ]
  },
  {
   "cell_type": "markdown",
   "id": "16ca82ac-f2a2-49a7-8e87-d7e5a33dbfca",
   "metadata": {},
   "source": [
    "## training with old dataset (only for reference)"
   ]
  },
  {
   "cell_type": "code",
   "execution_count": null,
   "id": "1fbb1c1a-4d95-40c4-8989-95f4eb17d4bb",
   "metadata": {},
   "outputs": [
    {
     "name": "stdout",
     "output_type": "stream",
     "text": [
      "xgboost_classifer\n"
     ]
    }
   ],
   "source": [
    "classifier = xgboost_classifer()"
   ]
  },
  {
   "cell_type": "code",
   "execution_count": null,
   "id": "f9e6b554-8bca-4e2e-b0ac-8a337ee3f86b",
   "metadata": {},
   "outputs": [
    {
     "name": "stdout",
     "output_type": "stream",
     "text": [
      "train the model\n"
     ]
    }
   ],
   "source": [
    "train(classifier,X_train_data, y_train_data)"
   ]
  },
  {
   "cell_type": "code",
   "execution_count": null,
   "id": "a3ece759-406c-4b42-9844-20d902aee978",
   "metadata": {},
   "outputs": [
    {
     "name": "stdout",
     "output_type": "stream",
     "text": [
      "predict with the model\n"
     ]
    }
   ],
   "source": [
    "y_pred = predict(classifier,X_test_data)"
   ]
  },
  {
   "cell_type": "code",
   "execution_count": null,
   "id": "10047fe1-f1a9-41bb-83eb-6b3205075799",
   "metadata": {},
   "outputs": [
    {
     "name": "stdout",
     "output_type": "stream",
     "text": [
      "calculate score with prediction vs true values\n",
      "Accuracy: 56.38%\n"
     ]
    }
   ],
   "source": [
    "accuracy = calculate_score(y_test_data,y_pred)"
   ]
  },
  {
   "cell_type": "code",
   "execution_count": null,
   "id": "a1abb348-9e90-476d-ba46-b60480edcba9",
   "metadata": {},
   "outputs": [
    {
     "name": "stdout",
     "output_type": "stream",
     "text": [
      "xgboost_classifer\n",
      "Cross-validation scores for each fold: [0.81893004 0.78600823 0.69753086 0.66322314 0.32644628]\n",
      "Mean CV score: 0.6584277114580145\n"
     ]
    }
   ],
   "source": [
    "classifier_cv = xgboost_classifer()\n",
    "do_cross_validation(X,Y,classifier_cv)"
   ]
  },
  {
   "cell_type": "code",
   "execution_count": null,
   "id": "61365415-f694-4aa4-88b3-60c380a264c8",
   "metadata": {},
   "outputs": [
    {
     "name": "stdout",
     "output_type": "stream",
     "text": [
      "saved the model\n"
     ]
    }
   ],
   "source": [
    "save_model(classifier,'old_data_xgb_basic_nochanges',accuracy,y_test_data,y_pred)"
   ]
  },
  {
   "cell_type": "code",
   "execution_count": null,
   "id": "da212328-fceb-4e9b-b212-444c81889251",
   "metadata": {},
   "outputs": [],
   "source": [
    "#get_model('old_data_xgb_basic_nochanges')"
   ]
  },
  {
   "cell_type": "markdown",
   "id": "8add10fc-0644-4ef4-b094-4035ac8a0b60",
   "metadata": {},
   "source": [
    "##  ****** training with new dataset ******"
   ]
  },
  {
   "cell_type": "markdown",
   "id": "9eaaf289-05a3-4b1b-8506-14782d4b9b16",
   "metadata": {},
   "source": [
    "## run this step once to load new dataset"
   ]
  },
  {
   "cell_type": "code",
   "execution_count": null,
   "id": "ad95fd2c-f815-400c-93cc-86b03b5a021f",
   "metadata": {},
   "outputs": [
    {
     "name": "stdout",
     "output_type": "stream",
     "text": [
      "load new files\n",
      "load test files\n"
     ]
    }
   ],
   "source": [
    "df_categorical_new,df_matrices_new,df_quant_new,df_solutions_new,df_categorical_test,df_matrices_test,df_quant_test = load_data_new()"
   ]
  },
  {
   "cell_type": "code",
   "execution_count": null,
   "id": "bb2b10ec-63c5-4c68-8852-cbcf466e1177",
   "metadata": {},
   "outputs": [
    {
     "data": {
      "text/html": [
       "<div>\n",
       "<style scoped>\n",
       "    .dataframe tbody tr th:only-of-type {\n",
       "        vertical-align: middle;\n",
       "    }\n",
       "\n",
       "    .dataframe tbody tr th {\n",
       "        vertical-align: top;\n",
       "    }\n",
       "\n",
       "    .dataframe thead th {\n",
       "        text-align: right;\n",
       "    }\n",
       "</style>\n",
       "<table border=\"1\" class=\"dataframe\">\n",
       "  <thead>\n",
       "    <tr style=\"text-align: right;\">\n",
       "      <th></th>\n",
       "      <th>participant_id</th>\n",
       "      <th>0throw_1thcolumn</th>\n",
       "      <th>0throw_2thcolumn</th>\n",
       "      <th>0throw_3thcolumn</th>\n",
       "      <th>0throw_4thcolumn</th>\n",
       "      <th>0throw_5thcolumn</th>\n",
       "      <th>0throw_6thcolumn</th>\n",
       "      <th>0throw_7thcolumn</th>\n",
       "      <th>0throw_8thcolumn</th>\n",
       "      <th>0throw_9thcolumn</th>\n",
       "      <th>...</th>\n",
       "      <th>195throw_196thcolumn</th>\n",
       "      <th>195throw_197thcolumn</th>\n",
       "      <th>195throw_198thcolumn</th>\n",
       "      <th>195throw_199thcolumn</th>\n",
       "      <th>196throw_197thcolumn</th>\n",
       "      <th>196throw_198thcolumn</th>\n",
       "      <th>196throw_199thcolumn</th>\n",
       "      <th>197throw_198thcolumn</th>\n",
       "      <th>197throw_199thcolumn</th>\n",
       "      <th>198throw_199thcolumn</th>\n",
       "    </tr>\n",
       "  </thead>\n",
       "  <tbody>\n",
       "    <tr>\n",
       "      <th>0</th>\n",
       "      <td>70z8Q2xdTXM3</td>\n",
       "      <td>0.222930</td>\n",
       "      <td>0.527903</td>\n",
       "      <td>0.429966</td>\n",
       "      <td>0.060457</td>\n",
       "      <td>0.566489</td>\n",
       "      <td>0.315342</td>\n",
       "      <td>0.508408</td>\n",
       "      <td>-0.078290</td>\n",
       "      <td>0.525692</td>\n",
       "      <td>...</td>\n",
       "      <td>0.224985</td>\n",
       "      <td>0.397448</td>\n",
       "      <td>0.422966</td>\n",
       "      <td>0.184642</td>\n",
       "      <td>0.305549</td>\n",
       "      <td>0.420349</td>\n",
       "      <td>0.016328</td>\n",
       "      <td>0.561864</td>\n",
       "      <td>0.471170</td>\n",
       "      <td>0.365221</td>\n",
       "    </tr>\n",
       "    <tr>\n",
       "      <th>1</th>\n",
       "      <td>WHWymJu6zNZi</td>\n",
       "      <td>0.614765</td>\n",
       "      <td>0.577255</td>\n",
       "      <td>0.496127</td>\n",
       "      <td>0.496606</td>\n",
       "      <td>0.404686</td>\n",
       "      <td>0.439724</td>\n",
       "      <td>0.122590</td>\n",
       "      <td>-0.085452</td>\n",
       "      <td>0.120673</td>\n",
       "      <td>...</td>\n",
       "      <td>0.217546</td>\n",
       "      <td>-0.014549</td>\n",
       "      <td>0.000440</td>\n",
       "      <td>-0.096451</td>\n",
       "      <td>0.454501</td>\n",
       "      <td>0.343916</td>\n",
       "      <td>0.167313</td>\n",
       "      <td>0.607656</td>\n",
       "      <td>0.550623</td>\n",
       "      <td>0.503176</td>\n",
       "    </tr>\n",
       "  </tbody>\n",
       "</table>\n",
       "<p>2 rows × 19901 columns</p>\n",
       "</div>"
      ],
      "text/plain": [
       "  participant_id  0throw_1thcolumn  0throw_2thcolumn  0throw_3thcolumn  \\\n",
       "0   70z8Q2xdTXM3          0.222930          0.527903          0.429966   \n",
       "1   WHWymJu6zNZi          0.614765          0.577255          0.496127   \n",
       "\n",
       "   0throw_4thcolumn  0throw_5thcolumn  0throw_6thcolumn  0throw_7thcolumn  \\\n",
       "0          0.060457          0.566489          0.315342          0.508408   \n",
       "1          0.496606          0.404686          0.439724          0.122590   \n",
       "\n",
       "   0throw_8thcolumn  0throw_9thcolumn  ...  195throw_196thcolumn  \\\n",
       "0         -0.078290          0.525692  ...              0.224985   \n",
       "1         -0.085452          0.120673  ...              0.217546   \n",
       "\n",
       "   195throw_197thcolumn  195throw_198thcolumn  195throw_199thcolumn  \\\n",
       "0              0.397448              0.422966              0.184642   \n",
       "1             -0.014549              0.000440             -0.096451   \n",
       "\n",
       "   196throw_197thcolumn  196throw_198thcolumn  196throw_199thcolumn  \\\n",
       "0              0.305549              0.420349              0.016328   \n",
       "1              0.454501              0.343916              0.167313   \n",
       "\n",
       "   197throw_198thcolumn  197throw_199thcolumn  198throw_199thcolumn  \n",
       "0              0.561864              0.471170              0.365221  \n",
       "1              0.607656              0.550623              0.503176  \n",
       "\n",
       "[2 rows x 19901 columns]"
      ]
     },
     "execution_count": 42,
     "metadata": {},
     "output_type": "execute_result"
    }
   ],
   "source": [
    "df_matrices_new.head(2)"
   ]
  },
  {
   "cell_type": "code",
   "execution_count": null,
   "id": "aa63ccef-d011-4bc3-810e-8bfe1dcc3133",
   "metadata": {},
   "outputs": [
    {
     "data": {
      "text/html": [
       "<div>\n",
       "<style scoped>\n",
       "    .dataframe tbody tr th:only-of-type {\n",
       "        vertical-align: middle;\n",
       "    }\n",
       "\n",
       "    .dataframe tbody tr th {\n",
       "        vertical-align: top;\n",
       "    }\n",
       "\n",
       "    .dataframe thead th {\n",
       "        text-align: right;\n",
       "    }\n",
       "</style>\n",
       "<table border=\"1\" class=\"dataframe\">\n",
       "  <thead>\n",
       "    <tr style=\"text-align: right;\">\n",
       "      <th></th>\n",
       "      <th>participant_id</th>\n",
       "      <th>Basic_Demos_Enroll_Year</th>\n",
       "      <th>Basic_Demos_Study_Site</th>\n",
       "      <th>PreInt_Demos_Fam_Child_Ethnicity</th>\n",
       "      <th>PreInt_Demos_Fam_Child_Race</th>\n",
       "      <th>MRI_Track_Scan_Location</th>\n",
       "      <th>Barratt_Barratt_P1_Edu</th>\n",
       "      <th>Barratt_Barratt_P1_Occ</th>\n",
       "      <th>Barratt_Barratt_P2_Edu</th>\n",
       "      <th>Barratt_Barratt_P2_Occ</th>\n",
       "    </tr>\n",
       "  </thead>\n",
       "  <tbody>\n",
       "    <tr>\n",
       "      <th>0</th>\n",
       "      <td>00aIpNTbG5uh</td>\n",
       "      <td>2019</td>\n",
       "      <td>4</td>\n",
       "      <td>1.0</td>\n",
       "      <td>0.0</td>\n",
       "      <td>3.0</td>\n",
       "      <td>21.0</td>\n",
       "      <td>45.0</td>\n",
       "      <td>NaN</td>\n",
       "      <td>NaN</td>\n",
       "    </tr>\n",
       "    <tr>\n",
       "      <th>1</th>\n",
       "      <td>00fV0OyyoLfw</td>\n",
       "      <td>2017</td>\n",
       "      <td>1</td>\n",
       "      <td>0.0</td>\n",
       "      <td>9.0</td>\n",
       "      <td>2.0</td>\n",
       "      <td>21.0</td>\n",
       "      <td>0.0</td>\n",
       "      <td>21.0</td>\n",
       "      <td>45.0</td>\n",
       "    </tr>\n",
       "  </tbody>\n",
       "</table>\n",
       "</div>"
      ],
      "text/plain": [
       "  participant_id  Basic_Demos_Enroll_Year  Basic_Demos_Study_Site  \\\n",
       "0   00aIpNTbG5uh                     2019                       4   \n",
       "1   00fV0OyyoLfw                     2017                       1   \n",
       "\n",
       "   PreInt_Demos_Fam_Child_Ethnicity  PreInt_Demos_Fam_Child_Race  \\\n",
       "0                               1.0                          0.0   \n",
       "1                               0.0                          9.0   \n",
       "\n",
       "   MRI_Track_Scan_Location  Barratt_Barratt_P1_Edu  Barratt_Barratt_P1_Occ  \\\n",
       "0                      3.0                    21.0                    45.0   \n",
       "1                      2.0                    21.0                     0.0   \n",
       "\n",
       "   Barratt_Barratt_P2_Edu  Barratt_Barratt_P2_Occ  \n",
       "0                     NaN                     NaN  \n",
       "1                    21.0                    45.0  "
      ]
     },
     "execution_count": 43,
     "metadata": {},
     "output_type": "execute_result"
    }
   ],
   "source": [
    "df_categorical_new.head(2)"
   ]
  },
  {
   "cell_type": "code",
   "execution_count": null,
   "id": "249f0dcf-a2be-471a-8f1a-379a34a22251",
   "metadata": {},
   "outputs": [
    {
     "data": {
      "text/html": [
       "<div>\n",
       "<style scoped>\n",
       "    .dataframe tbody tr th:only-of-type {\n",
       "        vertical-align: middle;\n",
       "    }\n",
       "\n",
       "    .dataframe tbody tr th {\n",
       "        vertical-align: top;\n",
       "    }\n",
       "\n",
       "    .dataframe thead th {\n",
       "        text-align: right;\n",
       "    }\n",
       "</style>\n",
       "<table border=\"1\" class=\"dataframe\">\n",
       "  <thead>\n",
       "    <tr style=\"text-align: right;\">\n",
       "      <th></th>\n",
       "      <th>participant_id</th>\n",
       "      <th>EHQ_EHQ_Total</th>\n",
       "      <th>ColorVision_CV_Score</th>\n",
       "      <th>APQ_P_APQ_P_CP</th>\n",
       "      <th>APQ_P_APQ_P_ID</th>\n",
       "      <th>APQ_P_APQ_P_INV</th>\n",
       "      <th>APQ_P_APQ_P_OPD</th>\n",
       "      <th>APQ_P_APQ_P_PM</th>\n",
       "      <th>APQ_P_APQ_P_PP</th>\n",
       "      <th>SDQ_SDQ_Conduct_Problems</th>\n",
       "      <th>SDQ_SDQ_Difficulties_Total</th>\n",
       "      <th>SDQ_SDQ_Emotional_Problems</th>\n",
       "      <th>SDQ_SDQ_Externalizing</th>\n",
       "      <th>SDQ_SDQ_Generating_Impact</th>\n",
       "      <th>SDQ_SDQ_Hyperactivity</th>\n",
       "      <th>SDQ_SDQ_Internalizing</th>\n",
       "      <th>SDQ_SDQ_Peer_Problems</th>\n",
       "      <th>SDQ_SDQ_Prosocial</th>\n",
       "      <th>MRI_Track_Age_at_Scan</th>\n",
       "    </tr>\n",
       "  </thead>\n",
       "  <tbody>\n",
       "    <tr>\n",
       "      <th>0</th>\n",
       "      <td>00aIpNTbG5uh</td>\n",
       "      <td>100.00</td>\n",
       "      <td>13.0</td>\n",
       "      <td>3.0</td>\n",
       "      <td>15.0</td>\n",
       "      <td>44.0</td>\n",
       "      <td>14.0</td>\n",
       "      <td>20.0</td>\n",
       "      <td>27.0</td>\n",
       "      <td>3.0</td>\n",
       "      <td>17.0</td>\n",
       "      <td>4.0</td>\n",
       "      <td>11.0</td>\n",
       "      <td>5.0</td>\n",
       "      <td>8.0</td>\n",
       "      <td>6.0</td>\n",
       "      <td>2.0</td>\n",
       "      <td>9.0</td>\n",
       "      <td>14.274127</td>\n",
       "    </tr>\n",
       "    <tr>\n",
       "      <th>1</th>\n",
       "      <td>00fV0OyyoLfw</td>\n",
       "      <td>92.27</td>\n",
       "      <td>14.0</td>\n",
       "      <td>3.0</td>\n",
       "      <td>12.0</td>\n",
       "      <td>35.0</td>\n",
       "      <td>25.0</td>\n",
       "      <td>28.0</td>\n",
       "      <td>30.0</td>\n",
       "      <td>5.0</td>\n",
       "      <td>20.0</td>\n",
       "      <td>4.0</td>\n",
       "      <td>13.0</td>\n",
       "      <td>5.0</td>\n",
       "      <td>8.0</td>\n",
       "      <td>7.0</td>\n",
       "      <td>3.0</td>\n",
       "      <td>8.0</td>\n",
       "      <td>NaN</td>\n",
       "    </tr>\n",
       "  </tbody>\n",
       "</table>\n",
       "</div>"
      ],
      "text/plain": [
       "  participant_id  EHQ_EHQ_Total  ColorVision_CV_Score  APQ_P_APQ_P_CP  \\\n",
       "0   00aIpNTbG5uh         100.00                  13.0             3.0   \n",
       "1   00fV0OyyoLfw          92.27                  14.0             3.0   \n",
       "\n",
       "   APQ_P_APQ_P_ID  APQ_P_APQ_P_INV  APQ_P_APQ_P_OPD  APQ_P_APQ_P_PM  \\\n",
       "0            15.0             44.0             14.0            20.0   \n",
       "1            12.0             35.0             25.0            28.0   \n",
       "\n",
       "   APQ_P_APQ_P_PP  SDQ_SDQ_Conduct_Problems  SDQ_SDQ_Difficulties_Total  \\\n",
       "0            27.0                       3.0                        17.0   \n",
       "1            30.0                       5.0                        20.0   \n",
       "\n",
       "   SDQ_SDQ_Emotional_Problems  SDQ_SDQ_Externalizing  \\\n",
       "0                         4.0                   11.0   \n",
       "1                         4.0                   13.0   \n",
       "\n",
       "   SDQ_SDQ_Generating_Impact  SDQ_SDQ_Hyperactivity  SDQ_SDQ_Internalizing  \\\n",
       "0                        5.0                    8.0                    6.0   \n",
       "1                        5.0                    8.0                    7.0   \n",
       "\n",
       "   SDQ_SDQ_Peer_Problems  SDQ_SDQ_Prosocial  MRI_Track_Age_at_Scan  \n",
       "0                    2.0                9.0              14.274127  \n",
       "1                    3.0                8.0                    NaN  "
      ]
     },
     "execution_count": 44,
     "metadata": {},
     "output_type": "execute_result"
    }
   ],
   "source": [
    "df_quant_new.head(2)"
   ]
  },
  {
   "cell_type": "code",
   "execution_count": null,
   "id": "dbb5f984-128c-40f2-a018-e5c97230276a",
   "metadata": {},
   "outputs": [
    {
     "data": {
      "text/html": [
       "<div>\n",
       "<style scoped>\n",
       "    .dataframe tbody tr th:only-of-type {\n",
       "        vertical-align: middle;\n",
       "    }\n",
       "\n",
       "    .dataframe tbody tr th {\n",
       "        vertical-align: top;\n",
       "    }\n",
       "\n",
       "    .dataframe thead th {\n",
       "        text-align: right;\n",
       "    }\n",
       "</style>\n",
       "<table border=\"1\" class=\"dataframe\">\n",
       "  <thead>\n",
       "    <tr style=\"text-align: right;\">\n",
       "      <th></th>\n",
       "      <th>participant_id</th>\n",
       "      <th>ADHD_Outcome</th>\n",
       "      <th>Sex_F</th>\n",
       "    </tr>\n",
       "  </thead>\n",
       "  <tbody>\n",
       "    <tr>\n",
       "      <th>0</th>\n",
       "      <td>UmrK0vMLopoR</td>\n",
       "      <td>1</td>\n",
       "      <td>1</td>\n",
       "    </tr>\n",
       "    <tr>\n",
       "      <th>1</th>\n",
       "      <td>CPaeQkhcjg7d</td>\n",
       "      <td>1</td>\n",
       "      <td>0</td>\n",
       "    </tr>\n",
       "  </tbody>\n",
       "</table>\n",
       "</div>"
      ],
      "text/plain": [
       "  participant_id  ADHD_Outcome  Sex_F\n",
       "0   UmrK0vMLopoR             1      1\n",
       "1   CPaeQkhcjg7d             1      0"
      ]
     },
     "execution_count": 45,
     "metadata": {},
     "output_type": "execute_result"
    }
   ],
   "source": [
    "df_solutions_new.head(2)"
   ]
  },
  {
   "cell_type": "markdown",
   "id": "14f638da-8bd2-48fb-be7b-ce70741e36b3",
   "metadata": {},
   "source": [
    "## train raw data with basic xgb classifier and verify accuracy"
   ]
  },
  {
   "cell_type": "code",
   "execution_count": null,
   "id": "c605514f-aac3-4129-84c1-b03015772863",
   "metadata": {},
   "outputs": [
    {
     "name": "stdout",
     "output_type": "stream",
     "text": [
      "split the train and test data\n",
      "xgboost_classifer\n",
      "train the model\n"
     ]
    }
   ],
   "source": [
    "joined_training_data = join_data(df_categorical_new,df_matrices_new,df_quant_new,df_solutions_new)\n",
    "X = joined_training_data.drop(columns = ['ADHD_Outcome','Sex_F'] )\n",
    "Y = joined_training_data[['participant_id','ADHD_Outcome','Sex_F']]\n",
    "X_train_data, X_test_data, y_train_data, y_test_data = split_data(X, Y)\n",
    "classifier = xgboost_classifer()\n",
    "train(classifier,X_train_data, y_train_data)\n",
    "y_pred = predict(classifier,X_test_data)\n",
    "accuracy = calculate_score(y_test_data,y_pred)\n",
    "classifier_cv = xgboost_classifer()\n",
    "do_cross_validation(X,Y,classifier_cv)\n",
    "save_model(classifier,'new_data_xgb_basic_nochanges',accuracy,y_test_data,y_pred)"
   ]
  },
  {
   "cell_type": "markdown",
   "id": "23f8d62b-48e6-4941-8df7-427dcf66ca6a",
   "metadata": {},
   "source": [
    "## Train with pca data instead of raw connectome matrices data"
   ]
  },
  {
   "cell_type": "code",
   "execution_count": null,
   "id": "3e5bd4c4",
   "metadata": {},
   "outputs": [
    {
     "ename": "NameError",
     "evalue": "name 'df_matrices_new' is not defined",
     "output_type": "error",
     "traceback": [
      "\u001b[31m---------------------------------------------------------------------------\u001b[39m",
      "\u001b[31mNameError\u001b[39m                                 Traceback (most recent call last)",
      "\u001b[36mCell\u001b[39m\u001b[36m \u001b[39m\u001b[32mIn[37]\u001b[39m\u001b[32m, line 4\u001b[39m\n\u001b[32m      1\u001b[39m \u001b[38;5;66;03m#PCA df\u001b[39;00m\n\u001b[32m      2\u001b[39m \u001b[38;5;66;03m# 1. Standardize the data\u001b[39;00m\n\u001b[32m      3\u001b[39m scaler = StandardScaler()\n\u001b[32m----> \u001b[39m\u001b[32m4\u001b[39m scaled_data = scaler.fit_transform(\u001b[43mdf_matrices_new\u001b[49m)\n\u001b[32m      6\u001b[39m \u001b[38;5;66;03m# 2. Apply PCA\u001b[39;00m\n\u001b[32m      7\u001b[39m \u001b[38;5;66;03m# Start with a smaller number of components for exploration\u001b[39;00m\n\u001b[32m      8\u001b[39m pca = PCA(n_components=\u001b[32m1000\u001b[39m)  \u001b[38;5;66;03m# Adjust based on your needs\u001b[39;00m\n",
      "\u001b[31mNameError\u001b[39m: name 'df_matrices_new' is not defined"
     ]
    }
   ],
   "source": [
    "# PCA df with index preserved as index\n",
    "\n",
    "original_index = df_matrices.index\n",
    "\n",
    "# 1. Standardize the data (excluding the first column)\n",
    "scaler = StandardScaler()\n",
    "scaled_data = scaler.fit_transform(df_matrices)\n",
    "\n",
    "# 2. Apply PCA\n",
    "# Start with a smaller number of components for exploration\n",
    "pca = PCA(n_components=1000)  # Adjust based on your needs\n",
    "pca_result = pca.fit_transform(scaled_data)\n",
    "\n",
    "# 3. Analyze explained variance\n",
    "explained_variance = pca.explained_variance_ratio_\n",
    "cumulative_variance = np.cumsum(explained_variance)\n",
    "\n",
    "# 4. Plot the explained variance to help choose number of components\n",
    "plt.figure(figsize=(10, 6))\n",
    "plt.plot(range(1, len(cumulative_variance) + 1), cumulative_variance, marker='o', linestyle='-')\n",
    "plt.xlabel('Number of Components')\n",
    "plt.ylabel('Cumulative Explained Variance')\n",
    "plt.title('Explained Variance vs. Number of Components')\n",
    "plt.grid(True)\n",
    "plt.axhline(y=0.8, color='r', linestyle='-', label='80% Variance Threshold')\n",
    "plt.legend()\n",
    "plt.show()\n",
    "\n",
    "# 5. Find number of components for desired variance (e.g., 80%)\n",
    "n_components_80 = np.argmax(cumulative_variance >= 0.8) + 1\n",
    "print(f\"Number of components needed for 80% variance: {n_components_80}\")\n",
    "\n",
    "# 6. Re-run PCA with the optimal number of components\n",
    "pca_final = PCA(n_components=n_components_80)\n",
    "pca_result_final = pca_final.fit_transform(scaled_data)\n",
    "\n",
    "# 7. Create a DataFrame with the PCA results\n",
    "pca_df = pd.DataFrame(\n",
    "    data=pca_result_final,\n",
    "    columns=[f'PC{i+1}' for i in range(n_components_80)],\n",
    "    index=original_index\n",
    ")\n",
    "\n",
    "# 8. Add the first column back as index\n",
    "# pca_df[first_col_name] = first_col_values\n",
    "# pca_df.set_index(first_col_name, inplace=True)\n",
    "\n",
    "# 9. Now you can use pca_df for your machine learning models\n",
    "print(f\"Original data shape: {df_matrices.shape}\")\n",
    "print(f\"Reduced data shape: {pca_df.shape}\")"
   ]
  },
  {
   "cell_type": "code",
   "execution_count": null,
   "id": "e694a57a",
   "metadata": {},
   "outputs": [],
   "source": [
    "## pca calculation\n",
    "## pca results save to joblib  def save_exploration(model,name):\n",
    "## pca model load >> load it instead of df_matrices_new [participant_id ]\n",
    "\n",
    "joined_training_data = join_data(df_categorical_new,pca_df,df_quant_new,df_solutions_new)\n",
    "X = joined_training_data.drop(columns = ['ADHD_Outcome','Sex_F'] )\n",
    "Y = joined_training_data[['participant_id','ADHD_Outcome','Sex_F']]\n",
    "X_train_data, X_test_data, y_train_data, y_test_data = split_data(X, Y)\n",
    "\n",
    "classifier = xgboost_classifer()\n",
    "train(classifier,X_train_data, y_train_data)\n",
    "y_pred = predict(classifier,X_test_data)\n",
    "accuracy = calculate_score(y_test_data,y_pred)\n",
    "classifier_cv = xgboost_classifer()\n",
    "do_cross_validation(X,Y,classifier_cv)\n",
    "save_model(classifier,'new_data_xgb_basic_pca',accuracy,y_test_data,y_pred)"
   ]
  },
  {
   "cell_type": "code",
   "execution_count": null,
   "id": "2db24935",
   "metadata": {},
   "outputs": [],
   "source": [
    "sub_matrices_df = df_matrices[['96throw_194thcolumn','14throw_15thcolumn','19throw_122thcolumn', '26throw_129thcolumn']]\n",
    "\n",
    "print(sub_matrices_df)\n"
   ]
  },
  {
   "cell_type": "code",
   "execution_count": null,
   "id": "e85004da",
   "metadata": {},
   "outputs": [],
   "source": [
    "joined_training_data = join_data(df_categorical,sub_matrices_df,df_quant,df_solutions)\n",
    "X = joined_training_data.drop(columns = ['ADHD_Outcome','Sex_F'] )\n",
    "Y = joined_training_data[['participant_id','ADHD_Outcome','Sex_F']]\n",
    "X_train_data, X_test_data, y_train_data, y_test_data = split_data(X, Y)\n",
    "\n",
    "classifier = xgboost_classifer()\n",
    "train(classifier,X_train_data, y_train_data)\n",
    "y_pred = predict(classifier,X_test_data)\n",
    "accuracy = calculate_score(y_test_data,y_pred)\n",
    "classifier_cv = xgboost_classifer()\n",
    "do_cross_validation(X,Y,classifier_cv)\n",
    "save_model(classifier,'new_data_xgb_basic_select_matrice_col',accuracy,y_test_data,y_pred)"
   ]
  },
  {
   "cell_type": "code",
   "execution_count": null,
   "id": "099c0ab2-843f-4f1c-89d3-e7ce5f98820f",
   "metadata": {},
   "outputs": [],
   "source": []
  },
  {
   "cell_type": "markdown",
   "id": "b6442906-598c-4616-9d2a-31316f8641ed",
   "metadata": {},
   "source": [
    "## quantitivate data modified"
   ]
  },
  {
   "cell_type": "code",
   "execution_count": null,
   "id": "367deb2f-0584-476b-979c-df9683f1b3dc",
   "metadata": {},
   "outputs": [],
   "source": []
  }
 ],
 "metadata": {
  "kernelspec": {
   "display_name": "Python 3 (ipykernel)",
   "language": "python",
   "name": "python3"
  },
  "language_info": {
   "codemirror_mode": {
    "name": "ipython",
    "version": 3
   },
   "file_extension": ".py",
   "mimetype": "text/x-python",
   "name": "python",
   "nbconvert_exporter": "python",
   "pygments_lexer": "ipython3",
   "version": "3.12.1"
  }
 },
 "nbformat": 4,
 "nbformat_minor": 5
}
