{
 "cells": [
  {
   "cell_type": "code",
   "execution_count": 3,
   "id": "38d65ff8-80a3-49b7-b703-5a43c1d61754",
   "metadata": {},
   "outputs": [],
   "source": [
    "import pandas as pd"
   ]
  },
  {
   "cell_type": "code",
   "execution_count": 6,
   "id": "8c8f063b-080c-41f7-ad33-d9d8b129a5e0",
   "metadata": {},
   "outputs": [],
   "source": [
    "from sklearn.model_selection import cross_val_score\n",
    "from sklearn.metrics import make_scorer, accuracy_score\n",
    "import numpy as np\n",
    "from xgboost import XGBClassifier\n",
    "from sklearn.multioutput import MultiOutputClassifier\n",
    "from sklearn.model_selection import train_test_split\n",
    "import joblib\n",
    "import xlsxwriter\n",
    "import os"
   ]
  },
  {
   "cell_type": "code",
   "execution_count": 7,
   "id": "cd2a4872",
   "metadata": {},
   "outputs": [],
   "source": [
    "import plotly.io as pio\n",
    "pio.renderers.default = 'notebook'\n",
    "import plotly.express as px\n",
    "\n",
    "import matplotlib.pyplot as plt\n",
    "from sklearn.decomposition import PCA\n",
    "from sklearn.preprocessing import StandardScaler\n",
    "import seaborn as sns\n",
    "\n",
    "from scipy.cluster import hierarchy\n",
    "from scipy.spatial.distance import pdist, squareform\n",
    "from sklearn.metrics import silhouette_score"
   ]
  },
  {
   "cell_type": "code",
   "execution_count": 53,
   "id": "711f50ef-e49f-4677-abc2-1b9a1f7226fe",
   "metadata": {},
   "outputs": [],
   "source": [
    "# @changes from inna\n",
    "from sklearn.preprocessing import OneHotEncoder, OrdinalEncoder"
   ]
  },
  {
   "cell_type": "code",
   "execution_count": 8,
   "id": "4f1637a7-a23c-42c2-ad9c-2ecf071bdea1",
   "metadata": {},
   "outputs": [],
   "source": [
    "def load_data_old(folderPathTrain, folderPathTest):\n",
    "    print('load old files')\n",
    "    df_categorical = pd.read_excel(f'{folderPathTrain}/TRAIN_CATEGORICAL_METADATA.xlsx')\n",
    "    df_matrices = pd.read_csv(f'{folderPathTrain}/TRAIN_FUNCTIONAL_CONNECTOME_MATRICES.csv')\n",
    "    df_quant = pd.read_excel(f'{folderPathTrain}/TRAIN_QUANTITATIVE_METADATA.xlsx')\n",
    "    df_solutions = pd.read_excel(f'{folderPathTrain}/TRAINING_SOLUTIONS.xlsx')  \n",
    "    print('load test files')\n",
    "    df_categorical_test = pd.read_excel(f'{folderPathTest}/TEST_CATEGORICAL.xlsx')\n",
    "    df_matrices_test = pd.read_csv(f'{folderPathTest}/TEST_FUNCTIONAL_CONNECTOME_MATRICES.csv')\n",
    "    df_quant_test = pd.read_excel(f'{folderPathTest}/TEST_QUANTITATIVE_METADATA.xlsx')\n",
    "    return df_categorical,df_matrices,df_quant,df_solutions,df_categorical_test,df_matrices_test,df_quant_test"
   ]
  },
  {
   "cell_type": "code",
   "execution_count": 9,
   "id": "7224d442-fd35-4885-af74-b528e53ac0cb",
   "metadata": {},
   "outputs": [],
   "source": [
    "def load_data_new(folderPathTrain, folderPathTest):\n",
    "    print('load new files')\n",
    "    df_categorical = pd.read_excel(f'{folderPathTrain}/TRAIN_CATEGORICAL_METADATA_new.xlsx')\n",
    "    df_matrices = pd.read_csv(f'{folderPathTrain}/TRAIN_FUNCTIONAL_CONNECTOME_MATRICES_new_36P_Pearson.csv')\n",
    "    df_quant = pd.read_excel(f'{folderPathTrain}/TRAIN_QUANTITATIVE_METADATA_new.xlsx')\n",
    "    df_solutions = pd.read_excel(f'{folderPathTrain}/TRAINING_SOLUTIONS.xlsx')  \n",
    "    print('load test files')\n",
    "    df_categorical_test = pd.read_excel(f'{folderPathTest}/TEST_CATEGORICAL.xlsx')\n",
    "    df_matrices_test = pd.read_csv(f'{folderPathTest}/TEST_FUNCTIONAL_CONNECTOME_MATRICES.csv')\n",
    "    df_quant_test = pd.read_excel(f'{folderPathTest}/TEST_QUANTITATIVE_METADATA.xlsx')\n",
    "    return df_categorical,df_matrices,df_quant,df_solutions,df_categorical_test,df_matrices_test,df_quant_test"
   ]
  },
  {
   "cell_type": "code",
   "execution_count": 10,
   "id": "624361a7-1578-40be-a84b-6e0234f5154b",
   "metadata": {},
   "outputs": [],
   "source": [
    "def join_data(categorical,matrices,quantitative,solutions=None):\n",
    "    print('joining data frames')\n",
    "    cat_quant = pd.merge(categorical, quantitative , on ='participant_id', how ='inner')\n",
    "    cat_quant_mat = pd.merge(cat_quant, matrices , on ='participant_id', how ='inner')\n",
    "    if isinstance(solutions, pd.DataFrame):\n",
    "        cat_quant_mat_sols = pd.merge(cat_quant_mat, solutions , on ='participant_id', how ='inner')\n",
    "        return cat_quant_mat_sols\n",
    "    else:    \n",
    "        return cat_quant_mat"
   ]
  },
  {
   "cell_type": "code",
   "execution_count": 11,
   "id": "fa41020a-4f0d-4cda-864c-9d9627bd3ccc",
   "metadata": {},
   "outputs": [],
   "source": [
    "def save_model(model,name,accuracy,y_test,y_pred):\n",
    "    joblib.dump({'model': model, 'y_test': y_test,'y_pred': y_pred, 'accuracy': accuracy}, name)\n",
    "    print('saved the model')\n",
    "\n",
    "def save_exploration(model,name):\n",
    "    joblib.dump({'model': model}, name)\n",
    "    print('save_exploration')\n",
    "\n",
    "def get_model(name):\n",
    "    model = joblib.load(name)\n",
    "    print('get_model')\n",
    "    return model"
   ]
  },
  {
   "cell_type": "code",
   "execution_count": 12,
   "id": "ee0b94b4-14fa-4462-a827-f5ffd82982b7",
   "metadata": {},
   "outputs": [],
   "source": [
    "def loaddata_joinframes_splittestandtrain(df_categorical_new,df_matrices_new,df_quant_new,df_solutions_new):\n",
    "    joined_training_data = join_data(df_categorical_new,df_matrices_new,df_quant_new,df_solutions_new)\n",
    "    X = joined_training_data.drop(columns = ['ADHD_Outcome','Sex_F'] )\n",
    "    Y = joined_training_data[['participant_id','ADHD_Outcome','Sex_F']]\n",
    "    X_train_data, X_test_data, y_train_data, y_test_data = split_data(X, Y)\n",
    "    return X_train_data, X_test_data, y_train_data, y_test_data"
   ]
  },
  {
   "cell_type": "markdown",
   "id": "abfd33da-3841-409a-b227-f05cea5514b4",
   "metadata": {},
   "source": [
    "### Reference for parts of below sections taken from datathon slides\n",
    "### https://colab.research.google.com/drive/1texL3JnRdTHyevP3_GzousIFKjTj0LmY#scrollTo=IGFYIQSmlUMb"
   ]
  },
  {
   "cell_type": "code",
   "execution_count": 13,
   "id": "75336bc0-3498-47a8-9aa7-fe9e90a8460c",
   "metadata": {},
   "outputs": [],
   "source": [
    "def xgboost_classifer():\n",
    "    print('xgboost_classifer')\n",
    "    # Initialize the base classifier\n",
    "    classifier = XGBClassifier(objective='binary:logistic', n_estimators=100, learning_rate=0.1, max_depth=5)\n",
    "    multioutput_classifier = MultiOutputClassifier(classifier)\n",
    "    return multioutput_classifier"
   ]
  },
  {
   "cell_type": "code",
   "execution_count": 14,
   "id": "e0f31412-c501-4756-b9e2-492385a571a2",
   "metadata": {},
   "outputs": [],
   "source": [
    "def train(model,X_train, y_train):\n",
    "    print('train the model')\n",
    "    X_train  = X_train_data.drop(columns = ['participant_id'] )\n",
    "    y_train  = y_train_data.drop(columns = ['participant_id'] )\n",
    "    model.fit(X_train, y_train)"
   ]
  },
  {
   "cell_type": "code",
   "execution_count": 15,
   "id": "2dcd712e-832d-4734-a4f9-6b88f015f56b",
   "metadata": {},
   "outputs": [],
   "source": [
    "def predict(model,X_test):\n",
    "    print('predict with the model')\n",
    "    X_test_data  = X_test.drop(columns = ['participant_id'] )\n",
    "    y_pred = model.predict(X_test_data)\n",
    "    predictions_df = pd.DataFrame(\n",
    "        y_pred,\n",
    "        columns=['Predicted_Gender', 'Predicted_ADHD']\n",
    "    )\n",
    "    return predictions_df"
   ]
  },
  {
   "cell_type": "code",
   "execution_count": 16,
   "id": "a9f2dc62-fd73-46e2-8d8b-7027c66147dd",
   "metadata": {},
   "outputs": [],
   "source": [
    "def calculate_score(y_test,y_pred):\n",
    "    print('calculate score with prediction vs true values')\n",
    "    y_test_results  = y_test.drop(columns = ['participant_id'] )\n",
    "    accuracy = accuracy_score(y_test_results, y_pred)\n",
    "    print(f\"Accuracy: {accuracy * 100:.2f}%\")"
   ]
  },
  {
   "cell_type": "code",
   "execution_count": 17,
   "id": "d13b51b2-dadb-47e7-9fd1-4acc18852085",
   "metadata": {},
   "outputs": [],
   "source": [
    "def split_data(X,Y):\n",
    "    print('split the train and test data')\n",
    "    X_train_data, X_test_data, y_train_data, y_test_data = train_test_split(X, Y, test_size=0.2, random_state=42)\n",
    "    return X_train_data, X_test_data, y_train_data, y_test_data"
   ]
  },
  {
   "cell_type": "code",
   "execution_count": 18,
   "id": "48849f42-098c-440a-a97b-7a111ddf607a",
   "metadata": {},
   "outputs": [],
   "source": [
    "def multi_output_accuracy(y_true, y_pred):\n",
    "    # Ensure y_true and y_pred are NumPy arrays\n",
    "    y_true = np.array(y_true)\n",
    "    y_pred = np.array(y_pred)\n",
    "    # Compute accuracy for each target variable and return the mean\n",
    "    return np.mean([accuracy_score(y_true[:, i], y_pred[:, i]) for i in range(y_true.shape[1])])"
   ]
  },
  {
   "cell_type": "code",
   "execution_count": 19,
   "id": "28d604fd-b74f-47df-8beb-4fc72854dd64",
   "metadata": {},
   "outputs": [],
   "source": [
    "def do_cross_validation(X,Y,model):\n",
    "    # Perform cross-validation on the training data\n",
    "    X_train_cv  = X.drop(columns = ['participant_id'] )\n",
    "    y_train_cv  = Y.drop(columns = ['participant_id'] )\n",
    "    # Create a scorer using scikit-learn's make_scorer\n",
    "    multi_output_scorer = make_scorer(multi_output_accuracy)\n",
    "    cv_scores = cross_val_score(model, X_train_cv, y_train_cv, cv=5, scoring=multi_output_scorer)\n",
    "    \n",
    "    # Output the cross-validation results\n",
    "    print(\"Cross-validation scores for each fold:\", cv_scores)\n",
    "    print(\"Mean CV score:\", f'Mean Accuracy: {np.mean(cv_scores) * 100:.2f}%')"
   ]
  },
  {
   "cell_type": "markdown",
   "id": "1c587a78-f0bf-41bb-baed-e9ef91710670",
   "metadata": {},
   "source": [
    "## Train with old dataset (only for reference)"
   ]
  },
  {
   "cell_type": "code",
   "execution_count": 20,
   "id": "0abbfd7f-4340-41b7-91ad-8a866b5005c0",
   "metadata": {},
   "outputs": [
    {
     "name": "stdout",
     "output_type": "stream",
     "text": [
      "load old files\n",
      "load test files\n",
      "joining data frames\n"
     ]
    }
   ],
   "source": [
    "folderPathTrain, folderPathTest = 'Datafiles/TRAIN/' , 'Datafiles/TEST/'\n",
    "df_categorical,df_matrices,df_quant,df_solutions,df_categorical_test,df_matrices_test,df_quant_test = load_data_old(folderPathTrain, folderPathTest)\n",
    "joined_training_data = join_data(df_categorical,df_matrices,df_quant,df_solutions)"
   ]
  },
  {
   "cell_type": "code",
   "execution_count": 21,
   "id": "83d35ce0-d808-46c7-9c74-11d4a75316a9",
   "metadata": {},
   "outputs": [
    {
     "data": {
      "text/html": [
       "<div>\n",
       "<style scoped>\n",
       "    .dataframe tbody tr th:only-of-type {\n",
       "        vertical-align: middle;\n",
       "    }\n",
       "\n",
       "    .dataframe tbody tr th {\n",
       "        vertical-align: top;\n",
       "    }\n",
       "\n",
       "    .dataframe thead th {\n",
       "        text-align: right;\n",
       "    }\n",
       "</style>\n",
       "<table border=\"1\" class=\"dataframe\">\n",
       "  <thead>\n",
       "    <tr style=\"text-align: right;\">\n",
       "      <th></th>\n",
       "      <th>participant_id</th>\n",
       "      <th>Basic_Demos_Enroll_Year</th>\n",
       "      <th>Basic_Demos_Study_Site</th>\n",
       "      <th>PreInt_Demos_Fam_Child_Ethnicity</th>\n",
       "      <th>PreInt_Demos_Fam_Child_Race</th>\n",
       "      <th>MRI_Track_Scan_Location</th>\n",
       "      <th>Barratt_Barratt_P1_Edu</th>\n",
       "      <th>Barratt_Barratt_P1_Occ</th>\n",
       "      <th>Barratt_Barratt_P2_Edu</th>\n",
       "      <th>Barratt_Barratt_P2_Occ</th>\n",
       "      <th>...</th>\n",
       "      <th>195throw_198thcolumn</th>\n",
       "      <th>195throw_199thcolumn</th>\n",
       "      <th>196throw_197thcolumn</th>\n",
       "      <th>196throw_198thcolumn</th>\n",
       "      <th>196throw_199thcolumn</th>\n",
       "      <th>197throw_198thcolumn</th>\n",
       "      <th>197throw_199thcolumn</th>\n",
       "      <th>198throw_199thcolumn</th>\n",
       "      <th>ADHD_Outcome</th>\n",
       "      <th>Sex_F</th>\n",
       "    </tr>\n",
       "  </thead>\n",
       "  <tbody>\n",
       "    <tr>\n",
       "      <th>0</th>\n",
       "      <td>UmrK0vMLopoR</td>\n",
       "      <td>2016</td>\n",
       "      <td>1</td>\n",
       "      <td>0.0</td>\n",
       "      <td>0</td>\n",
       "      <td>1</td>\n",
       "      <td>21</td>\n",
       "      <td>45</td>\n",
       "      <td>21</td>\n",
       "      <td>45</td>\n",
       "      <td>...</td>\n",
       "      <td>-0.058396</td>\n",
       "      <td>-0.041544</td>\n",
       "      <td>0.142806</td>\n",
       "      <td>-0.006377</td>\n",
       "      <td>0.108005</td>\n",
       "      <td>0.148327</td>\n",
       "      <td>0.093230</td>\n",
       "      <td>-0.004984</td>\n",
       "      <td>1</td>\n",
       "      <td>1</td>\n",
       "    </tr>\n",
       "    <tr>\n",
       "      <th>1</th>\n",
       "      <td>CPaeQkhcjg7d</td>\n",
       "      <td>2019</td>\n",
       "      <td>3</td>\n",
       "      <td>1.0</td>\n",
       "      <td>2</td>\n",
       "      <td>3</td>\n",
       "      <td>15</td>\n",
       "      <td>15</td>\n",
       "      <td>0</td>\n",
       "      <td>0</td>\n",
       "      <td>...</td>\n",
       "      <td>-0.025624</td>\n",
       "      <td>-0.031863</td>\n",
       "      <td>0.162011</td>\n",
       "      <td>0.067439</td>\n",
       "      <td>0.017155</td>\n",
       "      <td>0.088893</td>\n",
       "      <td>0.064094</td>\n",
       "      <td>0.194381</td>\n",
       "      <td>1</td>\n",
       "      <td>0</td>\n",
       "    </tr>\n",
       "  </tbody>\n",
       "</table>\n",
       "<p>2 rows × 19930 columns</p>\n",
       "</div>"
      ],
      "text/plain": [
       "  participant_id  Basic_Demos_Enroll_Year  Basic_Demos_Study_Site  \\\n",
       "0   UmrK0vMLopoR                     2016                       1   \n",
       "1   CPaeQkhcjg7d                     2019                       3   \n",
       "\n",
       "   PreInt_Demos_Fam_Child_Ethnicity  PreInt_Demos_Fam_Child_Race  \\\n",
       "0                               0.0                            0   \n",
       "1                               1.0                            2   \n",
       "\n",
       "   MRI_Track_Scan_Location  Barratt_Barratt_P1_Edu  Barratt_Barratt_P1_Occ  \\\n",
       "0                        1                      21                      45   \n",
       "1                        3                      15                      15   \n",
       "\n",
       "   Barratt_Barratt_P2_Edu  Barratt_Barratt_P2_Occ  ...  195throw_198thcolumn  \\\n",
       "0                      21                      45  ...             -0.058396   \n",
       "1                       0                       0  ...             -0.025624   \n",
       "\n",
       "   195throw_199thcolumn  196throw_197thcolumn  196throw_198thcolumn  \\\n",
       "0             -0.041544              0.142806             -0.006377   \n",
       "1             -0.031863              0.162011              0.067439   \n",
       "\n",
       "   196throw_199thcolumn  197throw_198thcolumn  197throw_199thcolumn  \\\n",
       "0              0.108005              0.148327              0.093230   \n",
       "1              0.017155              0.088893              0.064094   \n",
       "\n",
       "   198throw_199thcolumn  ADHD_Outcome  Sex_F  \n",
       "0             -0.004984             1      1  \n",
       "1              0.194381             1      0  \n",
       "\n",
       "[2 rows x 19930 columns]"
      ]
     },
     "execution_count": 21,
     "metadata": {},
     "output_type": "execute_result"
    }
   ],
   "source": [
    "joined_training_data.head(2)"
   ]
  },
  {
   "cell_type": "code",
   "execution_count": 22,
   "id": "e7e1f136-b04c-4379-97e2-68df87b17124",
   "metadata": {},
   "outputs": [],
   "source": [
    "X = joined_training_data.drop(columns = ['ADHD_Outcome','Sex_F'] )"
   ]
  },
  {
   "cell_type": "code",
   "execution_count": 23,
   "id": "7f78a2bb-40cd-4d82-80b9-9b1cdf47de53",
   "metadata": {},
   "outputs": [
    {
     "data": {
      "text/html": [
       "<div>\n",
       "<style scoped>\n",
       "    .dataframe tbody tr th:only-of-type {\n",
       "        vertical-align: middle;\n",
       "    }\n",
       "\n",
       "    .dataframe tbody tr th {\n",
       "        vertical-align: top;\n",
       "    }\n",
       "\n",
       "    .dataframe thead th {\n",
       "        text-align: right;\n",
       "    }\n",
       "</style>\n",
       "<table border=\"1\" class=\"dataframe\">\n",
       "  <thead>\n",
       "    <tr style=\"text-align: right;\">\n",
       "      <th></th>\n",
       "      <th>participant_id</th>\n",
       "      <th>Basic_Demos_Enroll_Year</th>\n",
       "      <th>Basic_Demos_Study_Site</th>\n",
       "      <th>PreInt_Demos_Fam_Child_Ethnicity</th>\n",
       "      <th>PreInt_Demos_Fam_Child_Race</th>\n",
       "      <th>MRI_Track_Scan_Location</th>\n",
       "      <th>Barratt_Barratt_P1_Edu</th>\n",
       "      <th>Barratt_Barratt_P1_Occ</th>\n",
       "      <th>Barratt_Barratt_P2_Edu</th>\n",
       "      <th>Barratt_Barratt_P2_Occ</th>\n",
       "      <th>...</th>\n",
       "      <th>195throw_196thcolumn</th>\n",
       "      <th>195throw_197thcolumn</th>\n",
       "      <th>195throw_198thcolumn</th>\n",
       "      <th>195throw_199thcolumn</th>\n",
       "      <th>196throw_197thcolumn</th>\n",
       "      <th>196throw_198thcolumn</th>\n",
       "      <th>196throw_199thcolumn</th>\n",
       "      <th>197throw_198thcolumn</th>\n",
       "      <th>197throw_199thcolumn</th>\n",
       "      <th>198throw_199thcolumn</th>\n",
       "    </tr>\n",
       "  </thead>\n",
       "  <tbody>\n",
       "    <tr>\n",
       "      <th>0</th>\n",
       "      <td>UmrK0vMLopoR</td>\n",
       "      <td>2016</td>\n",
       "      <td>1</td>\n",
       "      <td>0.0</td>\n",
       "      <td>0</td>\n",
       "      <td>1</td>\n",
       "      <td>21</td>\n",
       "      <td>45</td>\n",
       "      <td>21</td>\n",
       "      <td>45</td>\n",
       "      <td>...</td>\n",
       "      <td>-0.037630</td>\n",
       "      <td>-0.072599</td>\n",
       "      <td>-0.058396</td>\n",
       "      <td>-0.041544</td>\n",
       "      <td>0.142806</td>\n",
       "      <td>-0.006377</td>\n",
       "      <td>0.108005</td>\n",
       "      <td>0.148327</td>\n",
       "      <td>0.093230</td>\n",
       "      <td>-0.004984</td>\n",
       "    </tr>\n",
       "    <tr>\n",
       "      <th>1</th>\n",
       "      <td>CPaeQkhcjg7d</td>\n",
       "      <td>2019</td>\n",
       "      <td>3</td>\n",
       "      <td>1.0</td>\n",
       "      <td>2</td>\n",
       "      <td>3</td>\n",
       "      <td>15</td>\n",
       "      <td>15</td>\n",
       "      <td>0</td>\n",
       "      <td>0</td>\n",
       "      <td>...</td>\n",
       "      <td>0.014106</td>\n",
       "      <td>-0.001084</td>\n",
       "      <td>-0.025624</td>\n",
       "      <td>-0.031863</td>\n",
       "      <td>0.162011</td>\n",
       "      <td>0.067439</td>\n",
       "      <td>0.017155</td>\n",
       "      <td>0.088893</td>\n",
       "      <td>0.064094</td>\n",
       "      <td>0.194381</td>\n",
       "    </tr>\n",
       "  </tbody>\n",
       "</table>\n",
       "<p>2 rows × 19928 columns</p>\n",
       "</div>"
      ],
      "text/plain": [
       "  participant_id  Basic_Demos_Enroll_Year  Basic_Demos_Study_Site  \\\n",
       "0   UmrK0vMLopoR                     2016                       1   \n",
       "1   CPaeQkhcjg7d                     2019                       3   \n",
       "\n",
       "   PreInt_Demos_Fam_Child_Ethnicity  PreInt_Demos_Fam_Child_Race  \\\n",
       "0                               0.0                            0   \n",
       "1                               1.0                            2   \n",
       "\n",
       "   MRI_Track_Scan_Location  Barratt_Barratt_P1_Edu  Barratt_Barratt_P1_Occ  \\\n",
       "0                        1                      21                      45   \n",
       "1                        3                      15                      15   \n",
       "\n",
       "   Barratt_Barratt_P2_Edu  Barratt_Barratt_P2_Occ  ...  195throw_196thcolumn  \\\n",
       "0                      21                      45  ...             -0.037630   \n",
       "1                       0                       0  ...              0.014106   \n",
       "\n",
       "   195throw_197thcolumn  195throw_198thcolumn  195throw_199thcolumn  \\\n",
       "0             -0.072599             -0.058396             -0.041544   \n",
       "1             -0.001084             -0.025624             -0.031863   \n",
       "\n",
       "   196throw_197thcolumn  196throw_198thcolumn  196throw_199thcolumn  \\\n",
       "0              0.142806             -0.006377              0.108005   \n",
       "1              0.162011              0.067439              0.017155   \n",
       "\n",
       "   197throw_198thcolumn  197throw_199thcolumn  198throw_199thcolumn  \n",
       "0              0.148327              0.093230             -0.004984  \n",
       "1              0.088893              0.064094              0.194381  \n",
       "\n",
       "[2 rows x 19928 columns]"
      ]
     },
     "execution_count": 23,
     "metadata": {},
     "output_type": "execute_result"
    }
   ],
   "source": [
    "X.head(2)"
   ]
  },
  {
   "cell_type": "code",
   "execution_count": 24,
   "id": "c697c807-6e31-4967-978b-70c856bc4f56",
   "metadata": {},
   "outputs": [],
   "source": [
    "Y = joined_training_data[['participant_id','ADHD_Outcome','Sex_F']]"
   ]
  },
  {
   "cell_type": "code",
   "execution_count": 25,
   "id": "594d6c3b-f22f-484f-aa0f-3824b227dfb4",
   "metadata": {},
   "outputs": [
    {
     "data": {
      "text/html": [
       "<div>\n",
       "<style scoped>\n",
       "    .dataframe tbody tr th:only-of-type {\n",
       "        vertical-align: middle;\n",
       "    }\n",
       "\n",
       "    .dataframe tbody tr th {\n",
       "        vertical-align: top;\n",
       "    }\n",
       "\n",
       "    .dataframe thead th {\n",
       "        text-align: right;\n",
       "    }\n",
       "</style>\n",
       "<table border=\"1\" class=\"dataframe\">\n",
       "  <thead>\n",
       "    <tr style=\"text-align: right;\">\n",
       "      <th></th>\n",
       "      <th>participant_id</th>\n",
       "      <th>ADHD_Outcome</th>\n",
       "      <th>Sex_F</th>\n",
       "    </tr>\n",
       "  </thead>\n",
       "  <tbody>\n",
       "    <tr>\n",
       "      <th>0</th>\n",
       "      <td>UmrK0vMLopoR</td>\n",
       "      <td>1</td>\n",
       "      <td>1</td>\n",
       "    </tr>\n",
       "    <tr>\n",
       "      <th>1</th>\n",
       "      <td>CPaeQkhcjg7d</td>\n",
       "      <td>1</td>\n",
       "      <td>0</td>\n",
       "    </tr>\n",
       "  </tbody>\n",
       "</table>\n",
       "</div>"
      ],
      "text/plain": [
       "  participant_id  ADHD_Outcome  Sex_F\n",
       "0   UmrK0vMLopoR             1      1\n",
       "1   CPaeQkhcjg7d             1      0"
      ]
     },
     "execution_count": 25,
     "metadata": {},
     "output_type": "execute_result"
    }
   ],
   "source": [
    "Y.head(2)"
   ]
  },
  {
   "cell_type": "code",
   "execution_count": 26,
   "id": "b3aa190f-944e-4d9a-b20c-3b3e27f69a97",
   "metadata": {},
   "outputs": [
    {
     "name": "stdout",
     "output_type": "stream",
     "text": [
      "split the train and test data\n"
     ]
    }
   ],
   "source": [
    "X_train_data, X_test_data, y_train_data, y_test_data = split_data(X, Y)"
   ]
  },
  {
   "cell_type": "markdown",
   "id": "16ca82ac-f2a2-49a7-8e87-d7e5a33dbfca",
   "metadata": {},
   "source": [
    "## training with old dataset (only for reference)"
   ]
  },
  {
   "cell_type": "code",
   "execution_count": 27,
   "id": "1fbb1c1a-4d95-40c4-8989-95f4eb17d4bb",
   "metadata": {},
   "outputs": [
    {
     "name": "stdout",
     "output_type": "stream",
     "text": [
      "xgboost_classifer\n"
     ]
    }
   ],
   "source": [
    "classifier = xgboost_classifer()"
   ]
  },
  {
   "cell_type": "code",
   "execution_count": 28,
   "id": "f9e6b554-8bca-4e2e-b0ac-8a337ee3f86b",
   "metadata": {},
   "outputs": [
    {
     "name": "stdout",
     "output_type": "stream",
     "text": [
      "train the model\n"
     ]
    }
   ],
   "source": [
    "train(classifier,X_train_data, y_train_data)"
   ]
  },
  {
   "cell_type": "code",
   "execution_count": 29,
   "id": "a3ece759-406c-4b42-9844-20d902aee978",
   "metadata": {},
   "outputs": [
    {
     "name": "stdout",
     "output_type": "stream",
     "text": [
      "predict with the model\n"
     ]
    }
   ],
   "source": [
    "y_pred = predict(classifier,X_test_data)"
   ]
  },
  {
   "cell_type": "code",
   "execution_count": 30,
   "id": "10047fe1-f1a9-41bb-83eb-6b3205075799",
   "metadata": {},
   "outputs": [
    {
     "name": "stdout",
     "output_type": "stream",
     "text": [
      "calculate score with prediction vs true values\n",
      "Accuracy: 56.38%\n"
     ]
    }
   ],
   "source": [
    "accuracy = calculate_score(y_test_data,y_pred)"
   ]
  },
  {
   "cell_type": "code",
   "execution_count": 31,
   "id": "a1abb348-9e90-476d-ba46-b60480edcba9",
   "metadata": {},
   "outputs": [
    {
     "name": "stdout",
     "output_type": "stream",
     "text": [
      "xgboost_classifer\n",
      "Cross-validation scores for each fold: [0.81893004 0.78600823 0.69753086 0.66322314 0.32644628]\n",
      "Mean CV score: Mean Accuracy: 65.84%\n"
     ]
    }
   ],
   "source": [
    "classifier_cv = xgboost_classifer()\n",
    "do_cross_validation(X,Y,classifier_cv)"
   ]
  },
  {
   "cell_type": "code",
   "execution_count": 32,
   "id": "61365415-f694-4aa4-88b3-60c380a264c8",
   "metadata": {},
   "outputs": [
    {
     "name": "stdout",
     "output_type": "stream",
     "text": [
      "saved the model\n"
     ]
    }
   ],
   "source": [
    "save_model(classifier,'old_data_xgb_basic_nochanges',accuracy,y_test_data,y_pred)"
   ]
  },
  {
   "cell_type": "code",
   "execution_count": null,
   "id": "da212328-fceb-4e9b-b212-444c81889251",
   "metadata": {},
   "outputs": [],
   "source": [
    "#get_model('old_data_xgb_basic_nochanges')"
   ]
  },
  {
   "cell_type": "markdown",
   "id": "8add10fc-0644-4ef4-b094-4035ac8a0b60",
   "metadata": {},
   "source": [
    "##  ****** training with new dataset ******"
   ]
  },
  {
   "cell_type": "markdown",
   "id": "9eaaf289-05a3-4b1b-8506-14782d4b9b16",
   "metadata": {},
   "source": [
    "## run this step once to load new dataset"
   ]
  },
  {
   "cell_type": "code",
   "execution_count": 37,
   "id": "ad95fd2c-f815-400c-93cc-86b03b5a021f",
   "metadata": {},
   "outputs": [
    {
     "name": "stdout",
     "output_type": "stream",
     "text": [
      "load new files\n",
      "load test files\n"
     ]
    }
   ],
   "source": [
    "folderPathTrain, folderPathTest = 'Datafiles/TRAIN_NEW/' , 'Datafiles/TEST/'\n",
    "df_categorical_new,df_matrices_new,df_quant_new,df_solutions_new,df_categorical_test,df_matrices_test,df_quant_test = load_data_new(folderPathTrain, folderPathTest)"
   ]
  },
  {
   "cell_type": "code",
   "execution_count": 38,
   "id": "bb2b10ec-63c5-4c68-8852-cbcf466e1177",
   "metadata": {},
   "outputs": [
    {
     "data": {
      "text/html": [
       "<div>\n",
       "<style scoped>\n",
       "    .dataframe tbody tr th:only-of-type {\n",
       "        vertical-align: middle;\n",
       "    }\n",
       "\n",
       "    .dataframe tbody tr th {\n",
       "        vertical-align: top;\n",
       "    }\n",
       "\n",
       "    .dataframe thead th {\n",
       "        text-align: right;\n",
       "    }\n",
       "</style>\n",
       "<table border=\"1\" class=\"dataframe\">\n",
       "  <thead>\n",
       "    <tr style=\"text-align: right;\">\n",
       "      <th></th>\n",
       "      <th>participant_id</th>\n",
       "      <th>0throw_1thcolumn</th>\n",
       "      <th>0throw_2thcolumn</th>\n",
       "      <th>0throw_3thcolumn</th>\n",
       "      <th>0throw_4thcolumn</th>\n",
       "      <th>0throw_5thcolumn</th>\n",
       "      <th>0throw_6thcolumn</th>\n",
       "      <th>0throw_7thcolumn</th>\n",
       "      <th>0throw_8thcolumn</th>\n",
       "      <th>0throw_9thcolumn</th>\n",
       "      <th>...</th>\n",
       "      <th>195throw_196thcolumn</th>\n",
       "      <th>195throw_197thcolumn</th>\n",
       "      <th>195throw_198thcolumn</th>\n",
       "      <th>195throw_199thcolumn</th>\n",
       "      <th>196throw_197thcolumn</th>\n",
       "      <th>196throw_198thcolumn</th>\n",
       "      <th>196throw_199thcolumn</th>\n",
       "      <th>197throw_198thcolumn</th>\n",
       "      <th>197throw_199thcolumn</th>\n",
       "      <th>198throw_199thcolumn</th>\n",
       "    </tr>\n",
       "  </thead>\n",
       "  <tbody>\n",
       "    <tr>\n",
       "      <th>0</th>\n",
       "      <td>70z8Q2xdTXM3</td>\n",
       "      <td>0.222930</td>\n",
       "      <td>0.527903</td>\n",
       "      <td>0.429966</td>\n",
       "      <td>0.060457</td>\n",
       "      <td>0.566489</td>\n",
       "      <td>0.315342</td>\n",
       "      <td>0.508408</td>\n",
       "      <td>-0.078290</td>\n",
       "      <td>0.525692</td>\n",
       "      <td>...</td>\n",
       "      <td>0.224985</td>\n",
       "      <td>0.397448</td>\n",
       "      <td>0.422966</td>\n",
       "      <td>0.184642</td>\n",
       "      <td>0.305549</td>\n",
       "      <td>0.420349</td>\n",
       "      <td>0.016328</td>\n",
       "      <td>0.561864</td>\n",
       "      <td>0.471170</td>\n",
       "      <td>0.365221</td>\n",
       "    </tr>\n",
       "    <tr>\n",
       "      <th>1</th>\n",
       "      <td>WHWymJu6zNZi</td>\n",
       "      <td>0.614765</td>\n",
       "      <td>0.577255</td>\n",
       "      <td>0.496127</td>\n",
       "      <td>0.496606</td>\n",
       "      <td>0.404686</td>\n",
       "      <td>0.439724</td>\n",
       "      <td>0.122590</td>\n",
       "      <td>-0.085452</td>\n",
       "      <td>0.120673</td>\n",
       "      <td>...</td>\n",
       "      <td>0.217546</td>\n",
       "      <td>-0.014549</td>\n",
       "      <td>0.000440</td>\n",
       "      <td>-0.096451</td>\n",
       "      <td>0.454501</td>\n",
       "      <td>0.343916</td>\n",
       "      <td>0.167313</td>\n",
       "      <td>0.607656</td>\n",
       "      <td>0.550623</td>\n",
       "      <td>0.503176</td>\n",
       "    </tr>\n",
       "  </tbody>\n",
       "</table>\n",
       "<p>2 rows × 19901 columns</p>\n",
       "</div>"
      ],
      "text/plain": [
       "  participant_id  0throw_1thcolumn  0throw_2thcolumn  0throw_3thcolumn  \\\n",
       "0   70z8Q2xdTXM3          0.222930          0.527903          0.429966   \n",
       "1   WHWymJu6zNZi          0.614765          0.577255          0.496127   \n",
       "\n",
       "   0throw_4thcolumn  0throw_5thcolumn  0throw_6thcolumn  0throw_7thcolumn  \\\n",
       "0          0.060457          0.566489          0.315342          0.508408   \n",
       "1          0.496606          0.404686          0.439724          0.122590   \n",
       "\n",
       "   0throw_8thcolumn  0throw_9thcolumn  ...  195throw_196thcolumn  \\\n",
       "0         -0.078290          0.525692  ...              0.224985   \n",
       "1         -0.085452          0.120673  ...              0.217546   \n",
       "\n",
       "   195throw_197thcolumn  195throw_198thcolumn  195throw_199thcolumn  \\\n",
       "0              0.397448              0.422966              0.184642   \n",
       "1             -0.014549              0.000440             -0.096451   \n",
       "\n",
       "   196throw_197thcolumn  196throw_198thcolumn  196throw_199thcolumn  \\\n",
       "0              0.305549              0.420349              0.016328   \n",
       "1              0.454501              0.343916              0.167313   \n",
       "\n",
       "   197throw_198thcolumn  197throw_199thcolumn  198throw_199thcolumn  \n",
       "0              0.561864              0.471170              0.365221  \n",
       "1              0.607656              0.550623              0.503176  \n",
       "\n",
       "[2 rows x 19901 columns]"
      ]
     },
     "execution_count": 38,
     "metadata": {},
     "output_type": "execute_result"
    }
   ],
   "source": [
    "df_matrices_new.head(2)"
   ]
  },
  {
   "cell_type": "code",
   "execution_count": 39,
   "id": "aa63ccef-d011-4bc3-810e-8bfe1dcc3133",
   "metadata": {},
   "outputs": [
    {
     "data": {
      "text/html": [
       "<div>\n",
       "<style scoped>\n",
       "    .dataframe tbody tr th:only-of-type {\n",
       "        vertical-align: middle;\n",
       "    }\n",
       "\n",
       "    .dataframe tbody tr th {\n",
       "        vertical-align: top;\n",
       "    }\n",
       "\n",
       "    .dataframe thead th {\n",
       "        text-align: right;\n",
       "    }\n",
       "</style>\n",
       "<table border=\"1\" class=\"dataframe\">\n",
       "  <thead>\n",
       "    <tr style=\"text-align: right;\">\n",
       "      <th></th>\n",
       "      <th>participant_id</th>\n",
       "      <th>Basic_Demos_Enroll_Year</th>\n",
       "      <th>Basic_Demos_Study_Site</th>\n",
       "      <th>PreInt_Demos_Fam_Child_Ethnicity</th>\n",
       "      <th>PreInt_Demos_Fam_Child_Race</th>\n",
       "      <th>MRI_Track_Scan_Location</th>\n",
       "      <th>Barratt_Barratt_P1_Edu</th>\n",
       "      <th>Barratt_Barratt_P1_Occ</th>\n",
       "      <th>Barratt_Barratt_P2_Edu</th>\n",
       "      <th>Barratt_Barratt_P2_Occ</th>\n",
       "    </tr>\n",
       "  </thead>\n",
       "  <tbody>\n",
       "    <tr>\n",
       "      <th>0</th>\n",
       "      <td>00aIpNTbG5uh</td>\n",
       "      <td>2019</td>\n",
       "      <td>4</td>\n",
       "      <td>1.0</td>\n",
       "      <td>0.0</td>\n",
       "      <td>3.0</td>\n",
       "      <td>21.0</td>\n",
       "      <td>45.0</td>\n",
       "      <td>NaN</td>\n",
       "      <td>NaN</td>\n",
       "    </tr>\n",
       "    <tr>\n",
       "      <th>1</th>\n",
       "      <td>00fV0OyyoLfw</td>\n",
       "      <td>2017</td>\n",
       "      <td>1</td>\n",
       "      <td>0.0</td>\n",
       "      <td>9.0</td>\n",
       "      <td>2.0</td>\n",
       "      <td>21.0</td>\n",
       "      <td>0.0</td>\n",
       "      <td>21.0</td>\n",
       "      <td>45.0</td>\n",
       "    </tr>\n",
       "  </tbody>\n",
       "</table>\n",
       "</div>"
      ],
      "text/plain": [
       "  participant_id  Basic_Demos_Enroll_Year  Basic_Demos_Study_Site  \\\n",
       "0   00aIpNTbG5uh                     2019                       4   \n",
       "1   00fV0OyyoLfw                     2017                       1   \n",
       "\n",
       "   PreInt_Demos_Fam_Child_Ethnicity  PreInt_Demos_Fam_Child_Race  \\\n",
       "0                               1.0                          0.0   \n",
       "1                               0.0                          9.0   \n",
       "\n",
       "   MRI_Track_Scan_Location  Barratt_Barratt_P1_Edu  Barratt_Barratt_P1_Occ  \\\n",
       "0                      3.0                    21.0                    45.0   \n",
       "1                      2.0                    21.0                     0.0   \n",
       "\n",
       "   Barratt_Barratt_P2_Edu  Barratt_Barratt_P2_Occ  \n",
       "0                     NaN                     NaN  \n",
       "1                    21.0                    45.0  "
      ]
     },
     "execution_count": 39,
     "metadata": {},
     "output_type": "execute_result"
    }
   ],
   "source": [
    "df_categorical_new.head(2)"
   ]
  },
  {
   "cell_type": "code",
   "execution_count": 40,
   "id": "249f0dcf-a2be-471a-8f1a-379a34a22251",
   "metadata": {},
   "outputs": [
    {
     "data": {
      "text/html": [
       "<div>\n",
       "<style scoped>\n",
       "    .dataframe tbody tr th:only-of-type {\n",
       "        vertical-align: middle;\n",
       "    }\n",
       "\n",
       "    .dataframe tbody tr th {\n",
       "        vertical-align: top;\n",
       "    }\n",
       "\n",
       "    .dataframe thead th {\n",
       "        text-align: right;\n",
       "    }\n",
       "</style>\n",
       "<table border=\"1\" class=\"dataframe\">\n",
       "  <thead>\n",
       "    <tr style=\"text-align: right;\">\n",
       "      <th></th>\n",
       "      <th>participant_id</th>\n",
       "      <th>EHQ_EHQ_Total</th>\n",
       "      <th>ColorVision_CV_Score</th>\n",
       "      <th>APQ_P_APQ_P_CP</th>\n",
       "      <th>APQ_P_APQ_P_ID</th>\n",
       "      <th>APQ_P_APQ_P_INV</th>\n",
       "      <th>APQ_P_APQ_P_OPD</th>\n",
       "      <th>APQ_P_APQ_P_PM</th>\n",
       "      <th>APQ_P_APQ_P_PP</th>\n",
       "      <th>SDQ_SDQ_Conduct_Problems</th>\n",
       "      <th>SDQ_SDQ_Difficulties_Total</th>\n",
       "      <th>SDQ_SDQ_Emotional_Problems</th>\n",
       "      <th>SDQ_SDQ_Externalizing</th>\n",
       "      <th>SDQ_SDQ_Generating_Impact</th>\n",
       "      <th>SDQ_SDQ_Hyperactivity</th>\n",
       "      <th>SDQ_SDQ_Internalizing</th>\n",
       "      <th>SDQ_SDQ_Peer_Problems</th>\n",
       "      <th>SDQ_SDQ_Prosocial</th>\n",
       "      <th>MRI_Track_Age_at_Scan</th>\n",
       "    </tr>\n",
       "  </thead>\n",
       "  <tbody>\n",
       "    <tr>\n",
       "      <th>0</th>\n",
       "      <td>00aIpNTbG5uh</td>\n",
       "      <td>100.00</td>\n",
       "      <td>13.0</td>\n",
       "      <td>3.0</td>\n",
       "      <td>15.0</td>\n",
       "      <td>44.0</td>\n",
       "      <td>14.0</td>\n",
       "      <td>20.0</td>\n",
       "      <td>27.0</td>\n",
       "      <td>3.0</td>\n",
       "      <td>17.0</td>\n",
       "      <td>4.0</td>\n",
       "      <td>11.0</td>\n",
       "      <td>5.0</td>\n",
       "      <td>8.0</td>\n",
       "      <td>6.0</td>\n",
       "      <td>2.0</td>\n",
       "      <td>9.0</td>\n",
       "      <td>14.274127</td>\n",
       "    </tr>\n",
       "    <tr>\n",
       "      <th>1</th>\n",
       "      <td>00fV0OyyoLfw</td>\n",
       "      <td>92.27</td>\n",
       "      <td>14.0</td>\n",
       "      <td>3.0</td>\n",
       "      <td>12.0</td>\n",
       "      <td>35.0</td>\n",
       "      <td>25.0</td>\n",
       "      <td>28.0</td>\n",
       "      <td>30.0</td>\n",
       "      <td>5.0</td>\n",
       "      <td>20.0</td>\n",
       "      <td>4.0</td>\n",
       "      <td>13.0</td>\n",
       "      <td>5.0</td>\n",
       "      <td>8.0</td>\n",
       "      <td>7.0</td>\n",
       "      <td>3.0</td>\n",
       "      <td>8.0</td>\n",
       "      <td>NaN</td>\n",
       "    </tr>\n",
       "  </tbody>\n",
       "</table>\n",
       "</div>"
      ],
      "text/plain": [
       "  participant_id  EHQ_EHQ_Total  ColorVision_CV_Score  APQ_P_APQ_P_CP  \\\n",
       "0   00aIpNTbG5uh         100.00                  13.0             3.0   \n",
       "1   00fV0OyyoLfw          92.27                  14.0             3.0   \n",
       "\n",
       "   APQ_P_APQ_P_ID  APQ_P_APQ_P_INV  APQ_P_APQ_P_OPD  APQ_P_APQ_P_PM  \\\n",
       "0            15.0             44.0             14.0            20.0   \n",
       "1            12.0             35.0             25.0            28.0   \n",
       "\n",
       "   APQ_P_APQ_P_PP  SDQ_SDQ_Conduct_Problems  SDQ_SDQ_Difficulties_Total  \\\n",
       "0            27.0                       3.0                        17.0   \n",
       "1            30.0                       5.0                        20.0   \n",
       "\n",
       "   SDQ_SDQ_Emotional_Problems  SDQ_SDQ_Externalizing  \\\n",
       "0                         4.0                   11.0   \n",
       "1                         4.0                   13.0   \n",
       "\n",
       "   SDQ_SDQ_Generating_Impact  SDQ_SDQ_Hyperactivity  SDQ_SDQ_Internalizing  \\\n",
       "0                        5.0                    8.0                    6.0   \n",
       "1                        5.0                    8.0                    7.0   \n",
       "\n",
       "   SDQ_SDQ_Peer_Problems  SDQ_SDQ_Prosocial  MRI_Track_Age_at_Scan  \n",
       "0                    2.0                9.0              14.274127  \n",
       "1                    3.0                8.0                    NaN  "
      ]
     },
     "execution_count": 40,
     "metadata": {},
     "output_type": "execute_result"
    }
   ],
   "source": [
    "df_quant_new.head(2)"
   ]
  },
  {
   "cell_type": "code",
   "execution_count": 41,
   "id": "dbb5f984-128c-40f2-a018-e5c97230276a",
   "metadata": {},
   "outputs": [
    {
     "data": {
      "text/html": [
       "<div>\n",
       "<style scoped>\n",
       "    .dataframe tbody tr th:only-of-type {\n",
       "        vertical-align: middle;\n",
       "    }\n",
       "\n",
       "    .dataframe tbody tr th {\n",
       "        vertical-align: top;\n",
       "    }\n",
       "\n",
       "    .dataframe thead th {\n",
       "        text-align: right;\n",
       "    }\n",
       "</style>\n",
       "<table border=\"1\" class=\"dataframe\">\n",
       "  <thead>\n",
       "    <tr style=\"text-align: right;\">\n",
       "      <th></th>\n",
       "      <th>participant_id</th>\n",
       "      <th>ADHD_Outcome</th>\n",
       "      <th>Sex_F</th>\n",
       "    </tr>\n",
       "  </thead>\n",
       "  <tbody>\n",
       "    <tr>\n",
       "      <th>0</th>\n",
       "      <td>UmrK0vMLopoR</td>\n",
       "      <td>1</td>\n",
       "      <td>1</td>\n",
       "    </tr>\n",
       "    <tr>\n",
       "      <th>1</th>\n",
       "      <td>CPaeQkhcjg7d</td>\n",
       "      <td>1</td>\n",
       "      <td>0</td>\n",
       "    </tr>\n",
       "  </tbody>\n",
       "</table>\n",
       "</div>"
      ],
      "text/plain": [
       "  participant_id  ADHD_Outcome  Sex_F\n",
       "0   UmrK0vMLopoR             1      1\n",
       "1   CPaeQkhcjg7d             1      0"
      ]
     },
     "execution_count": 41,
     "metadata": {},
     "output_type": "execute_result"
    }
   ],
   "source": [
    "df_solutions_new.head(2)"
   ]
  },
  {
   "cell_type": "markdown",
   "id": "14f638da-8bd2-48fb-be7b-ce70741e36b3",
   "metadata": {},
   "source": [
    "## train raw data with basic xgb classifier and verify accuracy"
   ]
  },
  {
   "cell_type": "code",
   "execution_count": 42,
   "id": "c605514f-aac3-4129-84c1-b03015772863",
   "metadata": {},
   "outputs": [
    {
     "name": "stdout",
     "output_type": "stream",
     "text": [
      "joining data frames\n",
      "split the train and test data\n",
      "xgboost_classifer\n",
      "train the model\n",
      "predict with the model\n",
      "calculate score with prediction vs true values\n",
      "Accuracy: 57.20%\n",
      "xgboost_classifer\n",
      "Cross-validation scores for each fold: [0.72222222 0.7654321  0.69958848 0.75       0.7107438 ]\n",
      "Mean CV score: Mean Accuracy: 72.96%\n",
      "saved the model\n"
     ]
    }
   ],
   "source": [
    "joined_training_data = join_data(df_categorical_new,df_matrices_new,df_quant_new,df_solutions_new)\n",
    "X = joined_training_data.drop(columns = ['ADHD_Outcome','Sex_F'] )\n",
    "Y = joined_training_data[['participant_id','ADHD_Outcome','Sex_F']]\n",
    "X_train_data, X_test_data, y_train_data, y_test_data = split_data(X, Y)\n",
    "classifier = xgboost_classifer()\n",
    "train(classifier,X_train_data, y_train_data)\n",
    "y_pred = predict(classifier,X_test_data)\n",
    "accuracy = calculate_score(y_test_data,y_pred)\n",
    "classifier_cv = xgboost_classifer()\n",
    "do_cross_validation(X,Y,classifier_cv)\n",
    "save_model(classifier,'new_data_xgb_basic_nochanges',accuracy,y_test_data,y_pred)"
   ]
  },
  {
   "cell_type": "markdown",
   "id": "23f8d62b-48e6-4941-8df7-427dcf66ca6a",
   "metadata": {},
   "source": [
    "## Train with pca data instead of raw connectome matrices data"
   ]
  },
  {
   "cell_type": "markdown",
   "id": "467dc113-a2dd-49d3-8f65-83c78c33e063",
   "metadata": {},
   "source": [
    "## question:  shouldnt we use df_matrices_new for this one??"
   ]
  },
  {
   "cell_type": "code",
   "execution_count": 44,
   "id": "3e5bd4c4",
   "metadata": {},
   "outputs": [
    {
     "ename": "ValueError",
     "evalue": "could not convert string to float: '70z8Q2xdTXM3'",
     "output_type": "error",
     "traceback": [
      "\u001b[0;31m---------------------------------------------------------------------------\u001b[0m",
      "\u001b[0;31mValueError\u001b[0m                                Traceback (most recent call last)",
      "\u001b[0;32m/var/folders/w7/bjnp92015253vpp0xtyzp16c0000gn/T/ipykernel_75208/2085621043.py\u001b[0m in \u001b[0;36m?\u001b[0;34m()\u001b[0m\n\u001b[1;32m      3\u001b[0m \u001b[0moriginal_index\u001b[0m \u001b[0;34m=\u001b[0m \u001b[0mdf_matrices\u001b[0m\u001b[0;34m.\u001b[0m\u001b[0mindex\u001b[0m\u001b[0;34m\u001b[0m\u001b[0;34m\u001b[0m\u001b[0m\n\u001b[1;32m      4\u001b[0m \u001b[0;34m\u001b[0m\u001b[0m\n\u001b[1;32m      5\u001b[0m \u001b[0;31m# 1. Standardize the data (excluding the first column)\u001b[0m\u001b[0;34m\u001b[0m\u001b[0;34m\u001b[0m\u001b[0m\n\u001b[1;32m      6\u001b[0m \u001b[0mscaler\u001b[0m \u001b[0;34m=\u001b[0m \u001b[0mStandardScaler\u001b[0m\u001b[0;34m(\u001b[0m\u001b[0;34m)\u001b[0m\u001b[0;34m\u001b[0m\u001b[0;34m\u001b[0m\u001b[0m\n\u001b[0;32m----> 7\u001b[0;31m \u001b[0mscaled_data\u001b[0m \u001b[0;34m=\u001b[0m \u001b[0mscaler\u001b[0m\u001b[0;34m.\u001b[0m\u001b[0mfit_transform\u001b[0m\u001b[0;34m(\u001b[0m\u001b[0mdf_matrices\u001b[0m\u001b[0;34m)\u001b[0m\u001b[0;34m\u001b[0m\u001b[0;34m\u001b[0m\u001b[0m\n\u001b[0m\u001b[1;32m      8\u001b[0m \u001b[0;34m\u001b[0m\u001b[0m\n\u001b[1;32m      9\u001b[0m \u001b[0;31m# 2. Apply PCA\u001b[0m\u001b[0;34m\u001b[0m\u001b[0;34m\u001b[0m\u001b[0m\n\u001b[1;32m     10\u001b[0m \u001b[0;31m# Start with a smaller number of components for exploration\u001b[0m\u001b[0;34m\u001b[0m\u001b[0;34m\u001b[0m\u001b[0m\n",
      "\u001b[0;32m/opt/anaconda3/envs/datathon25/lib/python3.12/site-packages/sklearn/utils/_set_output.py\u001b[0m in \u001b[0;36m?\u001b[0;34m(self, X, *args, **kwargs)\u001b[0m\n\u001b[1;32m    317\u001b[0m     \u001b[0;34m@\u001b[0m\u001b[0mwraps\u001b[0m\u001b[0;34m(\u001b[0m\u001b[0mf\u001b[0m\u001b[0;34m)\u001b[0m\u001b[0;34m\u001b[0m\u001b[0;34m\u001b[0m\u001b[0m\n\u001b[1;32m    318\u001b[0m     \u001b[0;32mdef\u001b[0m \u001b[0mwrapped\u001b[0m\u001b[0;34m(\u001b[0m\u001b[0mself\u001b[0m\u001b[0;34m,\u001b[0m \u001b[0mX\u001b[0m\u001b[0;34m,\u001b[0m \u001b[0;34m*\u001b[0m\u001b[0margs\u001b[0m\u001b[0;34m,\u001b[0m \u001b[0;34m**\u001b[0m\u001b[0mkwargs\u001b[0m\u001b[0;34m)\u001b[0m\u001b[0;34m:\u001b[0m\u001b[0;34m\u001b[0m\u001b[0;34m\u001b[0m\u001b[0m\n\u001b[0;32m--> 319\u001b[0;31m         \u001b[0mdata_to_wrap\u001b[0m \u001b[0;34m=\u001b[0m \u001b[0mf\u001b[0m\u001b[0;34m(\u001b[0m\u001b[0mself\u001b[0m\u001b[0;34m,\u001b[0m \u001b[0mX\u001b[0m\u001b[0;34m,\u001b[0m \u001b[0;34m*\u001b[0m\u001b[0margs\u001b[0m\u001b[0;34m,\u001b[0m \u001b[0;34m**\u001b[0m\u001b[0mkwargs\u001b[0m\u001b[0;34m)\u001b[0m\u001b[0;34m\u001b[0m\u001b[0;34m\u001b[0m\u001b[0m\n\u001b[0m\u001b[1;32m    320\u001b[0m         \u001b[0;32mif\u001b[0m \u001b[0misinstance\u001b[0m\u001b[0;34m(\u001b[0m\u001b[0mdata_to_wrap\u001b[0m\u001b[0;34m,\u001b[0m \u001b[0mtuple\u001b[0m\u001b[0;34m)\u001b[0m\u001b[0;34m:\u001b[0m\u001b[0;34m\u001b[0m\u001b[0;34m\u001b[0m\u001b[0m\n\u001b[1;32m    321\u001b[0m             \u001b[0;31m# only wrap the first output for cross decomposition\u001b[0m\u001b[0;34m\u001b[0m\u001b[0;34m\u001b[0m\u001b[0m\n\u001b[1;32m    322\u001b[0m             return_tuple = (\n",
      "\u001b[0;32m/opt/anaconda3/envs/datathon25/lib/python3.12/site-packages/sklearn/base.py\u001b[0m in \u001b[0;36m?\u001b[0;34m(self, X, y, **fit_params)\u001b[0m\n\u001b[1;32m    914\u001b[0m                 \u001b[0;34m)\u001b[0m\u001b[0;34m\u001b[0m\u001b[0;34m\u001b[0m\u001b[0m\n\u001b[1;32m    915\u001b[0m \u001b[0;34m\u001b[0m\u001b[0m\n\u001b[1;32m    916\u001b[0m         \u001b[0;32mif\u001b[0m \u001b[0my\u001b[0m \u001b[0;32mis\u001b[0m \u001b[0;32mNone\u001b[0m\u001b[0;34m:\u001b[0m\u001b[0;34m\u001b[0m\u001b[0;34m\u001b[0m\u001b[0m\n\u001b[1;32m    917\u001b[0m             \u001b[0;31m# fit method of arity 1 (unsupervised transformation)\u001b[0m\u001b[0;34m\u001b[0m\u001b[0;34m\u001b[0m\u001b[0m\n\u001b[0;32m--> 918\u001b[0;31m             \u001b[0;32mreturn\u001b[0m \u001b[0mself\u001b[0m\u001b[0;34m.\u001b[0m\u001b[0mfit\u001b[0m\u001b[0;34m(\u001b[0m\u001b[0mX\u001b[0m\u001b[0;34m,\u001b[0m \u001b[0;34m**\u001b[0m\u001b[0mfit_params\u001b[0m\u001b[0;34m)\u001b[0m\u001b[0;34m.\u001b[0m\u001b[0mtransform\u001b[0m\u001b[0;34m(\u001b[0m\u001b[0mX\u001b[0m\u001b[0;34m)\u001b[0m\u001b[0;34m\u001b[0m\u001b[0;34m\u001b[0m\u001b[0m\n\u001b[0m\u001b[1;32m    919\u001b[0m         \u001b[0;32melse\u001b[0m\u001b[0;34m:\u001b[0m\u001b[0;34m\u001b[0m\u001b[0;34m\u001b[0m\u001b[0m\n\u001b[1;32m    920\u001b[0m             \u001b[0;31m# fit method of arity 2 (supervised transformation)\u001b[0m\u001b[0;34m\u001b[0m\u001b[0;34m\u001b[0m\u001b[0m\n\u001b[1;32m    921\u001b[0m             \u001b[0;32mreturn\u001b[0m \u001b[0mself\u001b[0m\u001b[0;34m.\u001b[0m\u001b[0mfit\u001b[0m\u001b[0;34m(\u001b[0m\u001b[0mX\u001b[0m\u001b[0;34m,\u001b[0m \u001b[0my\u001b[0m\u001b[0;34m,\u001b[0m \u001b[0;34m**\u001b[0m\u001b[0mfit_params\u001b[0m\u001b[0;34m)\u001b[0m\u001b[0;34m.\u001b[0m\u001b[0mtransform\u001b[0m\u001b[0;34m(\u001b[0m\u001b[0mX\u001b[0m\u001b[0;34m)\u001b[0m\u001b[0;34m\u001b[0m\u001b[0;34m\u001b[0m\u001b[0m\n",
      "\u001b[0;32m/opt/anaconda3/envs/datathon25/lib/python3.12/site-packages/sklearn/preprocessing/_data.py\u001b[0m in \u001b[0;36m?\u001b[0;34m(self, X, y, sample_weight)\u001b[0m\n\u001b[1;32m    890\u001b[0m             \u001b[0mFitted\u001b[0m \u001b[0mscaler\u001b[0m\u001b[0;34m.\u001b[0m\u001b[0;34m\u001b[0m\u001b[0;34m\u001b[0m\u001b[0m\n\u001b[1;32m    891\u001b[0m         \"\"\"\n\u001b[1;32m    892\u001b[0m         \u001b[0;31m# Reset internal state before fitting\u001b[0m\u001b[0;34m\u001b[0m\u001b[0;34m\u001b[0m\u001b[0m\n\u001b[1;32m    893\u001b[0m         \u001b[0mself\u001b[0m\u001b[0;34m.\u001b[0m\u001b[0m_reset\u001b[0m\u001b[0;34m(\u001b[0m\u001b[0;34m)\u001b[0m\u001b[0;34m\u001b[0m\u001b[0;34m\u001b[0m\u001b[0m\n\u001b[0;32m--> 894\u001b[0;31m         \u001b[0;32mreturn\u001b[0m \u001b[0mself\u001b[0m\u001b[0;34m.\u001b[0m\u001b[0mpartial_fit\u001b[0m\u001b[0;34m(\u001b[0m\u001b[0mX\u001b[0m\u001b[0;34m,\u001b[0m \u001b[0my\u001b[0m\u001b[0;34m,\u001b[0m \u001b[0msample_weight\u001b[0m\u001b[0;34m)\u001b[0m\u001b[0;34m\u001b[0m\u001b[0;34m\u001b[0m\u001b[0m\n\u001b[0m",
      "\u001b[0;32m/opt/anaconda3/envs/datathon25/lib/python3.12/site-packages/sklearn/base.py\u001b[0m in \u001b[0;36m?\u001b[0;34m(estimator, *args, **kwargs)\u001b[0m\n\u001b[1;32m   1385\u001b[0m                 skip_parameter_validation=(\n\u001b[1;32m   1386\u001b[0m                     \u001b[0mprefer_skip_nested_validation\u001b[0m \u001b[0;32mor\u001b[0m \u001b[0mglobal_skip_validation\u001b[0m\u001b[0;34m\u001b[0m\u001b[0;34m\u001b[0m\u001b[0m\n\u001b[1;32m   1387\u001b[0m                 \u001b[0;34m)\u001b[0m\u001b[0;34m\u001b[0m\u001b[0;34m\u001b[0m\u001b[0m\n\u001b[1;32m   1388\u001b[0m             \u001b[0;34m)\u001b[0m\u001b[0;34m:\u001b[0m\u001b[0;34m\u001b[0m\u001b[0;34m\u001b[0m\u001b[0m\n\u001b[0;32m-> 1389\u001b[0;31m                 \u001b[0;32mreturn\u001b[0m \u001b[0mfit_method\u001b[0m\u001b[0;34m(\u001b[0m\u001b[0mestimator\u001b[0m\u001b[0;34m,\u001b[0m \u001b[0;34m*\u001b[0m\u001b[0margs\u001b[0m\u001b[0;34m,\u001b[0m \u001b[0;34m**\u001b[0m\u001b[0mkwargs\u001b[0m\u001b[0;34m)\u001b[0m\u001b[0;34m\u001b[0m\u001b[0;34m\u001b[0m\u001b[0m\n\u001b[0m",
      "\u001b[0;32m/opt/anaconda3/envs/datathon25/lib/python3.12/site-packages/sklearn/preprocessing/_data.py\u001b[0m in \u001b[0;36m?\u001b[0;34m(self, X, y, sample_weight)\u001b[0m\n\u001b[1;32m    926\u001b[0m         \u001b[0mself\u001b[0m \u001b[0;34m:\u001b[0m \u001b[0mobject\u001b[0m\u001b[0;34m\u001b[0m\u001b[0;34m\u001b[0m\u001b[0m\n\u001b[1;32m    927\u001b[0m             \u001b[0mFitted\u001b[0m \u001b[0mscaler\u001b[0m\u001b[0;34m.\u001b[0m\u001b[0;34m\u001b[0m\u001b[0;34m\u001b[0m\u001b[0m\n\u001b[1;32m    928\u001b[0m         \"\"\"\n\u001b[1;32m    929\u001b[0m         \u001b[0mfirst_call\u001b[0m \u001b[0;34m=\u001b[0m \u001b[0;32mnot\u001b[0m \u001b[0mhasattr\u001b[0m\u001b[0;34m(\u001b[0m\u001b[0mself\u001b[0m\u001b[0;34m,\u001b[0m \u001b[0;34m\"n_samples_seen_\"\u001b[0m\u001b[0;34m)\u001b[0m\u001b[0;34m\u001b[0m\u001b[0;34m\u001b[0m\u001b[0m\n\u001b[0;32m--> 930\u001b[0;31m         X = validate_data(\n\u001b[0m\u001b[1;32m    931\u001b[0m             \u001b[0mself\u001b[0m\u001b[0;34m,\u001b[0m\u001b[0;34m\u001b[0m\u001b[0;34m\u001b[0m\u001b[0m\n\u001b[1;32m    932\u001b[0m             \u001b[0mX\u001b[0m\u001b[0;34m,\u001b[0m\u001b[0;34m\u001b[0m\u001b[0;34m\u001b[0m\u001b[0m\n\u001b[1;32m    933\u001b[0m             \u001b[0maccept_sparse\u001b[0m\u001b[0;34m=\u001b[0m\u001b[0;34m(\u001b[0m\u001b[0;34m\"csr\"\u001b[0m\u001b[0;34m,\u001b[0m \u001b[0;34m\"csc\"\u001b[0m\u001b[0;34m)\u001b[0m\u001b[0;34m,\u001b[0m\u001b[0;34m\u001b[0m\u001b[0;34m\u001b[0m\u001b[0m\n",
      "\u001b[0;32m/opt/anaconda3/envs/datathon25/lib/python3.12/site-packages/sklearn/utils/validation.py\u001b[0m in \u001b[0;36m?\u001b[0;34m(_estimator, X, y, reset, validate_separately, skip_check_array, **check_params)\u001b[0m\n\u001b[1;32m   2940\u001b[0m             \u001b[0mout\u001b[0m \u001b[0;34m=\u001b[0m \u001b[0my\u001b[0m\u001b[0;34m\u001b[0m\u001b[0;34m\u001b[0m\u001b[0m\n\u001b[1;32m   2941\u001b[0m         \u001b[0;32melse\u001b[0m\u001b[0;34m:\u001b[0m\u001b[0;34m\u001b[0m\u001b[0;34m\u001b[0m\u001b[0m\n\u001b[1;32m   2942\u001b[0m             \u001b[0mout\u001b[0m \u001b[0;34m=\u001b[0m \u001b[0mX\u001b[0m\u001b[0;34m,\u001b[0m \u001b[0my\u001b[0m\u001b[0;34m\u001b[0m\u001b[0;34m\u001b[0m\u001b[0m\n\u001b[1;32m   2943\u001b[0m     \u001b[0;32melif\u001b[0m \u001b[0;32mnot\u001b[0m \u001b[0mno_val_X\u001b[0m \u001b[0;32mand\u001b[0m \u001b[0mno_val_y\u001b[0m\u001b[0;34m:\u001b[0m\u001b[0;34m\u001b[0m\u001b[0;34m\u001b[0m\u001b[0m\n\u001b[0;32m-> 2944\u001b[0;31m         \u001b[0mout\u001b[0m \u001b[0;34m=\u001b[0m \u001b[0mcheck_array\u001b[0m\u001b[0;34m(\u001b[0m\u001b[0mX\u001b[0m\u001b[0;34m,\u001b[0m \u001b[0minput_name\u001b[0m\u001b[0;34m=\u001b[0m\u001b[0;34m\"X\"\u001b[0m\u001b[0;34m,\u001b[0m \u001b[0;34m**\u001b[0m\u001b[0mcheck_params\u001b[0m\u001b[0;34m)\u001b[0m\u001b[0;34m\u001b[0m\u001b[0;34m\u001b[0m\u001b[0m\n\u001b[0m\u001b[1;32m   2945\u001b[0m     \u001b[0;32melif\u001b[0m \u001b[0mno_val_X\u001b[0m \u001b[0;32mand\u001b[0m \u001b[0;32mnot\u001b[0m \u001b[0mno_val_y\u001b[0m\u001b[0;34m:\u001b[0m\u001b[0;34m\u001b[0m\u001b[0;34m\u001b[0m\u001b[0m\n\u001b[1;32m   2946\u001b[0m         \u001b[0mout\u001b[0m \u001b[0;34m=\u001b[0m \u001b[0m_check_y\u001b[0m\u001b[0;34m(\u001b[0m\u001b[0my\u001b[0m\u001b[0;34m,\u001b[0m \u001b[0;34m**\u001b[0m\u001b[0mcheck_params\u001b[0m\u001b[0;34m)\u001b[0m\u001b[0;34m\u001b[0m\u001b[0;34m\u001b[0m\u001b[0m\n\u001b[1;32m   2947\u001b[0m     \u001b[0;32melse\u001b[0m\u001b[0;34m:\u001b[0m\u001b[0;34m\u001b[0m\u001b[0;34m\u001b[0m\u001b[0m\n",
      "\u001b[0;32m/opt/anaconda3/envs/datathon25/lib/python3.12/site-packages/sklearn/utils/validation.py\u001b[0m in \u001b[0;36m?\u001b[0;34m(array, accept_sparse, accept_large_sparse, dtype, order, copy, force_writeable, force_all_finite, ensure_all_finite, ensure_non_negative, ensure_2d, allow_nd, ensure_min_samples, ensure_min_features, estimator, input_name)\u001b[0m\n\u001b[1;32m   1052\u001b[0m                         \u001b[0;34m)\u001b[0m\u001b[0;34m\u001b[0m\u001b[0;34m\u001b[0m\u001b[0m\n\u001b[1;32m   1053\u001b[0m                     \u001b[0marray\u001b[0m \u001b[0;34m=\u001b[0m \u001b[0mxp\u001b[0m\u001b[0;34m.\u001b[0m\u001b[0mastype\u001b[0m\u001b[0;34m(\u001b[0m\u001b[0marray\u001b[0m\u001b[0;34m,\u001b[0m \u001b[0mdtype\u001b[0m\u001b[0;34m,\u001b[0m \u001b[0mcopy\u001b[0m\u001b[0;34m=\u001b[0m\u001b[0;32mFalse\u001b[0m\u001b[0;34m)\u001b[0m\u001b[0;34m\u001b[0m\u001b[0;34m\u001b[0m\u001b[0m\n\u001b[1;32m   1054\u001b[0m                 \u001b[0;32melse\u001b[0m\u001b[0;34m:\u001b[0m\u001b[0;34m\u001b[0m\u001b[0;34m\u001b[0m\u001b[0m\n\u001b[1;32m   1055\u001b[0m                     \u001b[0marray\u001b[0m \u001b[0;34m=\u001b[0m \u001b[0m_asarray_with_order\u001b[0m\u001b[0;34m(\u001b[0m\u001b[0marray\u001b[0m\u001b[0;34m,\u001b[0m \u001b[0morder\u001b[0m\u001b[0;34m=\u001b[0m\u001b[0morder\u001b[0m\u001b[0;34m,\u001b[0m \u001b[0mdtype\u001b[0m\u001b[0;34m=\u001b[0m\u001b[0mdtype\u001b[0m\u001b[0;34m,\u001b[0m \u001b[0mxp\u001b[0m\u001b[0;34m=\u001b[0m\u001b[0mxp\u001b[0m\u001b[0;34m)\u001b[0m\u001b[0;34m\u001b[0m\u001b[0;34m\u001b[0m\u001b[0m\n\u001b[0;32m-> 1056\u001b[0;31m             \u001b[0;32mexcept\u001b[0m \u001b[0mComplexWarning\u001b[0m \u001b[0;32mas\u001b[0m \u001b[0mcomplex_warning\u001b[0m\u001b[0;34m:\u001b[0m\u001b[0;34m\u001b[0m\u001b[0;34m\u001b[0m\u001b[0m\n\u001b[0m\u001b[1;32m   1057\u001b[0m                 raise ValueError(\n\u001b[1;32m   1058\u001b[0m                     \u001b[0;34m\"Complex data not supported\\n{}\\n\"\u001b[0m\u001b[0;34m.\u001b[0m\u001b[0mformat\u001b[0m\u001b[0;34m(\u001b[0m\u001b[0marray\u001b[0m\u001b[0;34m)\u001b[0m\u001b[0;34m\u001b[0m\u001b[0;34m\u001b[0m\u001b[0m\n\u001b[1;32m   1059\u001b[0m                 \u001b[0;34m)\u001b[0m \u001b[0;32mfrom\u001b[0m \u001b[0mcomplex_warning\u001b[0m\u001b[0;34m\u001b[0m\u001b[0;34m\u001b[0m\u001b[0m\n",
      "\u001b[0;32m/opt/anaconda3/envs/datathon25/lib/python3.12/site-packages/sklearn/utils/_array_api.py\u001b[0m in \u001b[0;36m?\u001b[0;34m(array, dtype, order, copy, xp, device)\u001b[0m\n\u001b[1;32m    835\u001b[0m         \u001b[0;31m# Use NumPy API to support order\u001b[0m\u001b[0;34m\u001b[0m\u001b[0;34m\u001b[0m\u001b[0m\n\u001b[1;32m    836\u001b[0m         \u001b[0;32mif\u001b[0m \u001b[0mcopy\u001b[0m \u001b[0;32mis\u001b[0m \u001b[0;32mTrue\u001b[0m\u001b[0;34m:\u001b[0m\u001b[0;34m\u001b[0m\u001b[0;34m\u001b[0m\u001b[0m\n\u001b[1;32m    837\u001b[0m             \u001b[0marray\u001b[0m \u001b[0;34m=\u001b[0m \u001b[0mnumpy\u001b[0m\u001b[0;34m.\u001b[0m\u001b[0marray\u001b[0m\u001b[0;34m(\u001b[0m\u001b[0marray\u001b[0m\u001b[0;34m,\u001b[0m \u001b[0morder\u001b[0m\u001b[0;34m=\u001b[0m\u001b[0morder\u001b[0m\u001b[0;34m,\u001b[0m \u001b[0mdtype\u001b[0m\u001b[0;34m=\u001b[0m\u001b[0mdtype\u001b[0m\u001b[0;34m)\u001b[0m\u001b[0;34m\u001b[0m\u001b[0;34m\u001b[0m\u001b[0m\n\u001b[1;32m    838\u001b[0m         \u001b[0;32melse\u001b[0m\u001b[0;34m:\u001b[0m\u001b[0;34m\u001b[0m\u001b[0;34m\u001b[0m\u001b[0m\n\u001b[0;32m--> 839\u001b[0;31m             \u001b[0marray\u001b[0m \u001b[0;34m=\u001b[0m \u001b[0mnumpy\u001b[0m\u001b[0;34m.\u001b[0m\u001b[0masarray\u001b[0m\u001b[0;34m(\u001b[0m\u001b[0marray\u001b[0m\u001b[0;34m,\u001b[0m \u001b[0morder\u001b[0m\u001b[0;34m=\u001b[0m\u001b[0morder\u001b[0m\u001b[0;34m,\u001b[0m \u001b[0mdtype\u001b[0m\u001b[0;34m=\u001b[0m\u001b[0mdtype\u001b[0m\u001b[0;34m)\u001b[0m\u001b[0;34m\u001b[0m\u001b[0;34m\u001b[0m\u001b[0m\n\u001b[0m\u001b[1;32m    840\u001b[0m \u001b[0;34m\u001b[0m\u001b[0m\n\u001b[1;32m    841\u001b[0m         \u001b[0;31m# At this point array is a NumPy ndarray. We convert it to an array\u001b[0m\u001b[0;34m\u001b[0m\u001b[0;34m\u001b[0m\u001b[0m\n\u001b[1;32m    842\u001b[0m         \u001b[0;31m# container that is consistent with the input's namespace.\u001b[0m\u001b[0;34m\u001b[0m\u001b[0;34m\u001b[0m\u001b[0m\n",
      "\u001b[0;32m/opt/anaconda3/envs/datathon25/lib/python3.12/site-packages/pandas/core/generic.py\u001b[0m in \u001b[0;36m?\u001b[0;34m(self, dtype, copy)\u001b[0m\n\u001b[1;32m   2149\u001b[0m     def __array__(\n\u001b[1;32m   2150\u001b[0m         \u001b[0mself\u001b[0m\u001b[0;34m,\u001b[0m \u001b[0mdtype\u001b[0m\u001b[0;34m:\u001b[0m \u001b[0mnpt\u001b[0m\u001b[0;34m.\u001b[0m\u001b[0mDTypeLike\u001b[0m \u001b[0;34m|\u001b[0m \u001b[0;32mNone\u001b[0m \u001b[0;34m=\u001b[0m \u001b[0;32mNone\u001b[0m\u001b[0;34m,\u001b[0m \u001b[0mcopy\u001b[0m\u001b[0;34m:\u001b[0m \u001b[0mbool_t\u001b[0m \u001b[0;34m|\u001b[0m \u001b[0;32mNone\u001b[0m \u001b[0;34m=\u001b[0m \u001b[0;32mNone\u001b[0m\u001b[0;34m\u001b[0m\u001b[0;34m\u001b[0m\u001b[0m\n\u001b[1;32m   2151\u001b[0m     \u001b[0;34m)\u001b[0m \u001b[0;34m->\u001b[0m \u001b[0mnp\u001b[0m\u001b[0;34m.\u001b[0m\u001b[0mndarray\u001b[0m\u001b[0;34m:\u001b[0m\u001b[0;34m\u001b[0m\u001b[0;34m\u001b[0m\u001b[0m\n\u001b[1;32m   2152\u001b[0m         \u001b[0mvalues\u001b[0m \u001b[0;34m=\u001b[0m \u001b[0mself\u001b[0m\u001b[0;34m.\u001b[0m\u001b[0m_values\u001b[0m\u001b[0;34m\u001b[0m\u001b[0;34m\u001b[0m\u001b[0m\n\u001b[0;32m-> 2153\u001b[0;31m         \u001b[0marr\u001b[0m \u001b[0;34m=\u001b[0m \u001b[0mnp\u001b[0m\u001b[0;34m.\u001b[0m\u001b[0masarray\u001b[0m\u001b[0;34m(\u001b[0m\u001b[0mvalues\u001b[0m\u001b[0;34m,\u001b[0m \u001b[0mdtype\u001b[0m\u001b[0;34m=\u001b[0m\u001b[0mdtype\u001b[0m\u001b[0;34m)\u001b[0m\u001b[0;34m\u001b[0m\u001b[0;34m\u001b[0m\u001b[0m\n\u001b[0m\u001b[1;32m   2154\u001b[0m         if (\n\u001b[1;32m   2155\u001b[0m             \u001b[0mastype_is_view\u001b[0m\u001b[0;34m(\u001b[0m\u001b[0mvalues\u001b[0m\u001b[0;34m.\u001b[0m\u001b[0mdtype\u001b[0m\u001b[0;34m,\u001b[0m \u001b[0marr\u001b[0m\u001b[0;34m.\u001b[0m\u001b[0mdtype\u001b[0m\u001b[0;34m)\u001b[0m\u001b[0;34m\u001b[0m\u001b[0;34m\u001b[0m\u001b[0m\n\u001b[1;32m   2156\u001b[0m             \u001b[0;32mand\u001b[0m \u001b[0musing_copy_on_write\u001b[0m\u001b[0;34m(\u001b[0m\u001b[0;34m)\u001b[0m\u001b[0;34m\u001b[0m\u001b[0;34m\u001b[0m\u001b[0m\n",
      "\u001b[0;31mValueError\u001b[0m: could not convert string to float: '70z8Q2xdTXM3'"
     ]
    }
   ],
   "source": [
    "# PCA df with index preserved as index\n",
    "\n",
    "original_index = df_matrices.index\n",
    "\n",
    "# 1. Standardize the data (excluding the first column)\n",
    "scaler = StandardScaler()\n",
    "scaled_data = scaler.fit_transform(df_matrices)\n",
    "\n",
    "# 2. Apply PCA\n",
    "# Start with a smaller number of components for exploration\n",
    "pca = PCA(n_components=1000)  # Adjust based on your needs\n",
    "pca_result = pca.fit_transform(scaled_data)\n",
    "\n",
    "# 3. Analyze explained variance\n",
    "explained_variance = pca.explained_variance_ratio_\n",
    "cumulative_variance = np.cumsum(explained_variance)\n",
    "\n",
    "# 4. Plot the explained variance to help choose number of components\n",
    "plt.figure(figsize=(10, 6))\n",
    "plt.plot(range(1, len(cumulative_variance) + 1), cumulative_variance, marker='o', linestyle='-')\n",
    "plt.xlabel('Number of Components')\n",
    "plt.ylabel('Cumulative Explained Variance')\n",
    "plt.title('Explained Variance vs. Number of Components')\n",
    "plt.grid(True)\n",
    "plt.axhline(y=0.8, color='r', linestyle='-', label='80% Variance Threshold')\n",
    "plt.legend()\n",
    "plt.show()\n",
    "\n",
    "# 5. Find number of components for desired variance (e.g., 80%)\n",
    "n_components_80 = np.argmax(cumulative_variance >= 0.8) + 1\n",
    "print(f\"Number of components needed for 80% variance: {n_components_80}\")\n",
    "\n",
    "# 6. Re-run PCA with the optimal number of components\n",
    "pca_final = PCA(n_components=n_components_80)\n",
    "pca_result_final = pca_final.fit_transform(scaled_data)\n",
    "\n",
    "# 7. Create a DataFrame with the PCA results\n",
    "pca_df = pd.DataFrame(\n",
    "    data=pca_result_final,\n",
    "    columns=[f'PC{i+1}' for i in range(n_components_80)],\n",
    "    index=original_index\n",
    ")\n",
    "\n",
    "# 8. Add the first column back as index\n",
    "# pca_df[first_col_name] = first_col_values\n",
    "# pca_df.set_index(first_col_name, inplace=True)\n",
    "\n",
    "# 9. Now you can use pca_df for your machine learning models\n",
    "print(f\"Original data shape: {df_matrices.shape}\")\n",
    "print(f\"Reduced data shape: {pca_df.shape}\")\n",
    "save_exploration(pca_df,'new_data_xgb_pca_exploration_v1')"
   ]
  },
  {
   "cell_type": "code",
   "execution_count": null,
   "id": "11682387-7a71-4ad9-b016-1cf0f7378807",
   "metadata": {},
   "outputs": [],
   "source": [
    "pca_df_1 = get_model('new_data_xgb_pca_exploration_v1')"
   ]
  },
  {
   "cell_type": "code",
   "execution_count": null,
   "id": "e694a57a",
   "metadata": {},
   "outputs": [],
   "source": [
    "## pca calculation\n",
    "## pca results save to joblib  def save_exploration(model,name):\n",
    "## pca model load >> load it instead of df_matrices_new [participant_id ]\n",
    "\n",
    "joined_training_data = join_data(df_categorical_new,pca_df,df_quant_new,df_solutions_new)\n",
    "X = joined_training_data.drop(columns = ['ADHD_Outcome','Sex_F'] )\n",
    "Y = joined_training_data[['participant_id','ADHD_Outcome','Sex_F']]\n",
    "X_train_data, X_test_data, y_train_data, y_test_data = split_data(X, Y)\n",
    "\n",
    "classifier = xgboost_classifer()\n",
    "train(classifier,X_train_data, y_train_data)\n",
    "y_pred = predict(classifier,X_test_data)\n",
    "accuracy = calculate_score(y_test_data,y_pred)\n",
    "classifier_cv = xgboost_classifer()\n",
    "do_cross_validation(X,Y,classifier_cv)\n",
    "save_model(classifier,'new_data_xgb_pca_v1',accuracy,y_test_data,y_pred)"
   ]
  },
  {
   "cell_type": "code",
   "execution_count": null,
   "id": "2db24935",
   "metadata": {},
   "outputs": [],
   "source": [
    "sub_matrices_df = df_matrices[['96throw_194thcolumn','14throw_15thcolumn','19throw_122thcolumn', '26throw_129thcolumn']]\n",
    "print(sub_matrices_df)"
   ]
  },
  {
   "cell_type": "code",
   "execution_count": null,
   "id": "10bdc77a-ac86-4ef3-b58b-9204dc9e420e",
   "metadata": {},
   "outputs": [],
   "source": [
    "save_exploration(sub_matrices_df,'new_data_xgb_pca_exploration_v2')"
   ]
  },
  {
   "cell_type": "code",
   "execution_count": null,
   "id": "f5479fcb-ddbb-4cdf-9af4-48872f739f9c",
   "metadata": {},
   "outputs": [],
   "source": [
    "sub_matrices_df_1 = get_model('new_data_xgb_pca_exploration_v2')"
   ]
  },
  {
   "cell_type": "code",
   "execution_count": null,
   "id": "e85004da",
   "metadata": {},
   "outputs": [],
   "source": [
    "joined_training_data = join_data(df_categorical,sub_matrices_df,df_quant,df_solutions)\n",
    "X = joined_training_data.drop(columns = ['ADHD_Outcome','Sex_F'] )\n",
    "Y = joined_training_data[['participant_id','ADHD_Outcome','Sex_F']]\n",
    "X_train_data, X_test_data, y_train_data, y_test_data = split_data(X, Y)\n",
    "\n",
    "classifier = xgboost_classifer()\n",
    "train(classifier,X_train_data, y_train_data)\n",
    "y_pred = predict(classifier,X_test_data)\n",
    "accuracy = calculate_score(y_test_data,y_pred)\n",
    "classifier_cv = xgboost_classifer()\n",
    "do_cross_validation(X,Y,classifier_cv)\n",
    "save_model(classifier,'new_data_xgb_basic_select_matrice_col',accuracy,y_test_data,y_pred)"
   ]
  },
  {
   "cell_type": "code",
   "execution_count": null,
   "id": "099c0ab2-843f-4f1c-89d3-e7ce5f98820f",
   "metadata": {},
   "outputs": [],
   "source": []
  },
  {
   "cell_type": "markdown",
   "id": "b6442906-598c-4616-9d2a-31316f8641ed",
   "metadata": {},
   "source": [
    "## quantitivate data modified"
   ]
  },
  {
   "cell_type": "code",
   "execution_count": 45,
   "id": "367deb2f-0584-476b-979c-df9683f1b3dc",
   "metadata": {},
   "outputs": [],
   "source": [
    "df_quant_new_without_participant_id = df_quant_new.drop(columns = ['participant_id'] )\n",
    "scaler = StandardScaler()\n",
    "np_quant_new_without_participant_id_std = scaler.fit_transform(df_quant_new_without_participant_id)\n",
    "df_quant_new_without_participant_id_scaled = pd.DataFrame(np_quant_new_without_participant_id_std)\n",
    "df_quant_new_without_participant_id_scaled['participant_id'] = df_quant_new['participant_id']"
   ]
  },
  {
   "cell_type": "code",
   "execution_count": 46,
   "id": "5d97c6cf-7b87-4bdd-8803-c48c342272b9",
   "metadata": {},
   "outputs": [
    {
     "data": {
      "text/html": [
       "<div>\n",
       "<style scoped>\n",
       "    .dataframe tbody tr th:only-of-type {\n",
       "        vertical-align: middle;\n",
       "    }\n",
       "\n",
       "    .dataframe tbody tr th {\n",
       "        vertical-align: top;\n",
       "    }\n",
       "\n",
       "    .dataframe thead th {\n",
       "        text-align: right;\n",
       "    }\n",
       "</style>\n",
       "<table border=\"1\" class=\"dataframe\">\n",
       "  <thead>\n",
       "    <tr style=\"text-align: right;\">\n",
       "      <th></th>\n",
       "      <th>0</th>\n",
       "      <th>1</th>\n",
       "      <th>2</th>\n",
       "      <th>3</th>\n",
       "      <th>4</th>\n",
       "      <th>5</th>\n",
       "      <th>6</th>\n",
       "      <th>7</th>\n",
       "      <th>8</th>\n",
       "      <th>9</th>\n",
       "      <th>10</th>\n",
       "      <th>11</th>\n",
       "      <th>12</th>\n",
       "      <th>13</th>\n",
       "      <th>14</th>\n",
       "      <th>15</th>\n",
       "      <th>16</th>\n",
       "      <th>17</th>\n",
       "      <th>participant_id</th>\n",
       "    </tr>\n",
       "  </thead>\n",
       "  <tbody>\n",
       "    <tr>\n",
       "      <th>0</th>\n",
       "      <td>0.814201</td>\n",
       "      <td>-0.198551</td>\n",
       "      <td>-0.616123</td>\n",
       "      <td>0.462904</td>\n",
       "      <td>0.868932</td>\n",
       "      <td>-1.189279</td>\n",
       "      <td>0.669264</td>\n",
       "      <td>0.491818</td>\n",
       "      <td>0.457557</td>\n",
       "      <td>0.734739</td>\n",
       "      <td>0.773609</td>\n",
       "      <td>0.820168</td>\n",
       "      <td>0.319276</td>\n",
       "      <td>0.877068</td>\n",
       "      <td>0.399068</td>\n",
       "      <td>-0.131654</td>\n",
       "      <td>0.601318</td>\n",
       "      <td>0.936882</td>\n",
       "      <td>00aIpNTbG5uh</td>\n",
       "    </tr>\n",
       "    <tr>\n",
       "      <th>1</th>\n",
       "      <td>0.658743</td>\n",
       "      <td>0.274947</td>\n",
       "      <td>-0.616123</td>\n",
       "      <td>-0.372270</td>\n",
       "      <td>-0.978852</td>\n",
       "      <td>2.111470</td>\n",
       "      <td>2.224352</td>\n",
       "      <td>1.474635</td>\n",
       "      <td>1.446602</td>\n",
       "      <td>1.195241</td>\n",
       "      <td>0.773609</td>\n",
       "      <td>1.304584</td>\n",
       "      <td>0.319276</td>\n",
       "      <td>0.877068</td>\n",
       "      <td>0.684048</td>\n",
       "      <td>0.347233</td>\n",
       "      <td>0.123754</td>\n",
       "      <td>NaN</td>\n",
       "      <td>00fV0OyyoLfw</td>\n",
       "    </tr>\n",
       "  </tbody>\n",
       "</table>\n",
       "</div>"
      ],
      "text/plain": [
       "          0         1         2         3         4         5         6  \\\n",
       "0  0.814201 -0.198551 -0.616123  0.462904  0.868932 -1.189279  0.669264   \n",
       "1  0.658743  0.274947 -0.616123 -0.372270 -0.978852  2.111470  2.224352   \n",
       "\n",
       "          7         8         9        10        11        12        13  \\\n",
       "0  0.491818  0.457557  0.734739  0.773609  0.820168  0.319276  0.877068   \n",
       "1  1.474635  1.446602  1.195241  0.773609  1.304584  0.319276  0.877068   \n",
       "\n",
       "         14        15        16        17 participant_id  \n",
       "0  0.399068 -0.131654  0.601318  0.936882   00aIpNTbG5uh  \n",
       "1  0.684048  0.347233  0.123754       NaN   00fV0OyyoLfw  "
      ]
     },
     "execution_count": 46,
     "metadata": {},
     "output_type": "execute_result"
    }
   ],
   "source": [
    "df_quant_new_without_participant_id_scaled.head(2)"
   ]
  },
  {
   "cell_type": "code",
   "execution_count": 48,
   "id": "37db63b9-f084-4956-aacc-506d334ba693",
   "metadata": {},
   "outputs": [
    {
     "name": "stdout",
     "output_type": "stream",
     "text": [
      "joining data frames\n",
      "split the train and test data\n"
     ]
    }
   ],
   "source": [
    "joined_training_data = join_data(df_categorical_new,df_matrices_new,df_quant_new_without_participant_id_scaled,df_solutions_new)\n",
    "X = joined_training_data.drop(columns = ['ADHD_Outcome','Sex_F'] )\n",
    "Y = joined_training_data[['participant_id','ADHD_Outcome','Sex_F']]\n",
    "X_train_data, X_test_data, y_train_data, y_test_data = split_data(X, Y)"
   ]
  },
  {
   "cell_type": "code",
   "execution_count": null,
   "id": "9c943f39-cf11-4a98-b5e9-59f0e85f719f",
   "metadata": {},
   "outputs": [
    {
     "name": "stdout",
     "output_type": "stream",
     "text": [
      "xgboost_classifer\n",
      "train the model\n"
     ]
    }
   ],
   "source": [
    "classifier = xgboost_classifer()\n",
    "train(classifier,X_train_data, y_train_data)\n",
    "y_pred = predict(classifier,X_test_data)\n",
    "accuracy = calculate_score(y_test_data,y_pred)"
   ]
  },
  {
   "cell_type": "code",
   "execution_count": null,
   "id": "ad1586bb-2d93-4054-b14f-7bdac526d67b",
   "metadata": {},
   "outputs": [],
   "source": [
    "classifier_cv = xgboost_classifer()\n",
    "do_cross_validation(X,Y,classifier_cv)\n",
    "save_model(classifier,'new_data_xgb_basic_quant_data_scaled',accuracy,y_test_data,y_pred)"
   ]
  },
  {
   "cell_type": "markdown",
   "id": "091042f5-28ff-4a5c-affd-dab98bda28e8",
   "metadata": {},
   "source": [
    "## Combine pca with quantitative data"
   ]
  },
  {
   "cell_type": "code",
   "execution_count": null,
   "id": "325fa644-f796-4d80-a67f-dcd96d7ab914",
   "metadata": {},
   "outputs": [],
   "source": [
    "# make sure to run ## quantitivate data modified step to run below step\n",
    "# uses scaled quantitative data\n",
    "# TODO: To change:: use selected pca data instead of df_matrices_new "
   ]
  },
  {
   "cell_type": "code",
   "execution_count": null,
   "id": "8a7196fa-4aaa-4ca4-bc2d-bc02ec086801",
   "metadata": {},
   "outputs": [],
   "source": [
    "joined_training_data = join_data(df_categorical_new,df_matrices_new,df_quant_new_without_participant_id_scaled,df_solutions_new)\n",
    "X = joined_training_data.drop(columns = ['ADHD_Outcome','Sex_F'] )\n",
    "Y = joined_training_data[['participant_id','ADHD_Outcome','Sex_F']]\n",
    "X_train_data, X_test_data, y_train_data, y_test_data = split_data(X, Y)"
   ]
  },
  {
   "cell_type": "code",
   "execution_count": null,
   "id": "ef4b781a-1fa5-4a2d-b2b4-6bf3b2c6b977",
   "metadata": {},
   "outputs": [],
   "source": [
    "classifier = xgboost_classifer()\n",
    "train(classifier,X_train_data, y_train_data)\n",
    "y_pred = predict(classifier,X_test_data)\n",
    "accuracy = calculate_score(y_test_data,y_pred)\n",
    "classifier_cv = xgboost_classifer()\n",
    "do_cross_validation(X,Y,classifier_cv)\n",
    "save_model(classifier,'new_data_xgb_basic_pca_quant_data_updated',accuracy,y_test_data,y_pred)"
   ]
  },
  {
   "cell_type": "code",
   "execution_count": null,
   "id": "2aad1562-5885-4fd8-b5a5-9437b2d23056",
   "metadata": {},
   "outputs": [],
   "source": []
  },
  {
   "cell_type": "markdown",
   "id": "2eee8006-2188-414c-b33c-37466efe36af",
   "metadata": {},
   "source": [
    "## Categorical data preprocessing"
   ]
  },
  {
   "cell_type": "markdown",
   "id": "d278ed17-9d11-4944-9cec-fb3d8d5be38e",
   "metadata": {},
   "source": [
    "## @Inna's code base"
   ]
  },
  {
   "cell_type": "code",
   "execution_count": 56,
   "id": "6a241bbf-b332-41c3-8aa3-4f9f5efe2eb0",
   "metadata": {},
   "outputs": [
    {
     "data": {
      "text/plain": [
       "Index(['participant_id', 'Basic_Demos_Enroll_Year', 'Basic_Demos_Study_Site',\n",
       "       'PreInt_Demos_Fam_Child_Ethnicity', 'PreInt_Demos_Fam_Child_Race',\n",
       "       'MRI_Track_Scan_Location', 'Barratt_Barratt_P1_Edu',\n",
       "       'Barratt_Barratt_P1_Occ', 'Barratt_Barratt_P2_Edu',\n",
       "       'Barratt_Barratt_P2_Occ'],\n",
       "      dtype='object')"
      ]
     },
     "execution_count": 56,
     "metadata": {},
     "output_type": "execute_result"
    }
   ],
   "source": [
    "df_categorical_new.columns"
   ]
  },
  {
   "cell_type": "code",
   "execution_count": 51,
   "id": "5cbe524c-2101-450c-9651-332b373fccd6",
   "metadata": {},
   "outputs": [
    {
     "data": {
      "text/html": [
       "<div>\n",
       "<style scoped>\n",
       "    .dataframe tbody tr th:only-of-type {\n",
       "        vertical-align: middle;\n",
       "    }\n",
       "\n",
       "    .dataframe tbody tr th {\n",
       "        vertical-align: top;\n",
       "    }\n",
       "\n",
       "    .dataframe thead th {\n",
       "        text-align: right;\n",
       "    }\n",
       "</style>\n",
       "<table border=\"1\" class=\"dataframe\">\n",
       "  <thead>\n",
       "    <tr style=\"text-align: right;\">\n",
       "      <th></th>\n",
       "      <th>participant_id</th>\n",
       "      <th>Basic_Demos_Enroll_Year</th>\n",
       "      <th>Basic_Demos_Study_Site</th>\n",
       "      <th>PreInt_Demos_Fam_Child_Ethnicity</th>\n",
       "      <th>PreInt_Demos_Fam_Child_Race</th>\n",
       "      <th>MRI_Track_Scan_Location</th>\n",
       "      <th>Barratt_Barratt_P1_Edu</th>\n",
       "      <th>Barratt_Barratt_P1_Occ</th>\n",
       "      <th>Barratt_Barratt_P2_Edu</th>\n",
       "      <th>Barratt_Barratt_P2_Occ</th>\n",
       "    </tr>\n",
       "  </thead>\n",
       "  <tbody>\n",
       "    <tr>\n",
       "      <th>0</th>\n",
       "      <td>00aIpNTbG5uh</td>\n",
       "      <td>2019</td>\n",
       "      <td>4</td>\n",
       "      <td>1.0</td>\n",
       "      <td>0.0</td>\n",
       "      <td>3.0</td>\n",
       "      <td>21.0</td>\n",
       "      <td>45.0</td>\n",
       "      <td>NaN</td>\n",
       "      <td>NaN</td>\n",
       "    </tr>\n",
       "    <tr>\n",
       "      <th>1</th>\n",
       "      <td>00fV0OyyoLfw</td>\n",
       "      <td>2017</td>\n",
       "      <td>1</td>\n",
       "      <td>0.0</td>\n",
       "      <td>9.0</td>\n",
       "      <td>2.0</td>\n",
       "      <td>21.0</td>\n",
       "      <td>0.0</td>\n",
       "      <td>21.0</td>\n",
       "      <td>45.0</td>\n",
       "    </tr>\n",
       "  </tbody>\n",
       "</table>\n",
       "</div>"
      ],
      "text/plain": [
       "  participant_id  Basic_Demos_Enroll_Year  Basic_Demos_Study_Site  \\\n",
       "0   00aIpNTbG5uh                     2019                       4   \n",
       "1   00fV0OyyoLfw                     2017                       1   \n",
       "\n",
       "   PreInt_Demos_Fam_Child_Ethnicity  PreInt_Demos_Fam_Child_Race  \\\n",
       "0                               1.0                          0.0   \n",
       "1                               0.0                          9.0   \n",
       "\n",
       "   MRI_Track_Scan_Location  Barratt_Barratt_P1_Edu  Barratt_Barratt_P1_Occ  \\\n",
       "0                      3.0                    21.0                    45.0   \n",
       "1                      2.0                    21.0                     0.0   \n",
       "\n",
       "   Barratt_Barratt_P2_Edu  Barratt_Barratt_P2_Occ  \n",
       "0                     NaN                     NaN  \n",
       "1                    21.0                    45.0  "
      ]
     },
     "execution_count": 51,
     "metadata": {},
     "output_type": "execute_result"
    }
   ],
   "source": [
    "merged_df.head(2)"
   ]
  },
  {
   "cell_type": "code",
   "execution_count": 64,
   "id": "8d6a92f2-d751-46cd-ad5e-5524dfba9268",
   "metadata": {},
   "outputs": [],
   "source": [
    "# One-Hot Encoding (nominal)\n",
    "onehot_encoder = OneHotEncoder(sparse_output=False, drop='first') #drop first to prevent multicollinearity\n",
    "nominal_cols = ['MRI_Track_Scan_Location', 'Basic_Demos_Study_Site', 'PreInt_Demos_Fam_Child_Race', 'PreInt_Demos_Fam_Child_Ethnicity']\n",
    "onehot_encoded = onehot_encoder.fit_transform(df_categorical_new[nominal_cols])\n",
    "onehot_df = pd.DataFrame(onehot_encoded, columns=onehot_encoder.get_feature_names_out(nominal_cols))\n",
    "merged_df = pd.concat([df_categorical_new, onehot_df], axis=1)\n",
    "merged_df = merged_df.drop(nominal_cols, axis=1)"
   ]
  },
  {
   "cell_type": "code",
   "execution_count": 65,
   "id": "12168168-3135-4ff7-a5d7-a12856b59ea0",
   "metadata": {},
   "outputs": [
    {
     "data": {
      "text/html": [
       "<div>\n",
       "<style scoped>\n",
       "    .dataframe tbody tr th:only-of-type {\n",
       "        vertical-align: middle;\n",
       "    }\n",
       "\n",
       "    .dataframe tbody tr th {\n",
       "        vertical-align: top;\n",
       "    }\n",
       "\n",
       "    .dataframe thead th {\n",
       "        text-align: right;\n",
       "    }\n",
       "</style>\n",
       "<table border=\"1\" class=\"dataframe\">\n",
       "  <thead>\n",
       "    <tr style=\"text-align: right;\">\n",
       "      <th></th>\n",
       "      <th>participant_id</th>\n",
       "      <th>Basic_Demos_Enroll_Year</th>\n",
       "      <th>Barratt_Barratt_P1_Edu</th>\n",
       "      <th>Barratt_Barratt_P1_Occ</th>\n",
       "      <th>Barratt_Barratt_P2_Edu</th>\n",
       "      <th>Barratt_Barratt_P2_Occ</th>\n",
       "      <th>MRI_Track_Scan_Location_2.0</th>\n",
       "      <th>MRI_Track_Scan_Location_3.0</th>\n",
       "      <th>MRI_Track_Scan_Location_4.0</th>\n",
       "      <th>MRI_Track_Scan_Location_nan</th>\n",
       "      <th>...</th>\n",
       "      <th>PreInt_Demos_Fam_Child_Race_7.0</th>\n",
       "      <th>PreInt_Demos_Fam_Child_Race_8.0</th>\n",
       "      <th>PreInt_Demos_Fam_Child_Race_9.0</th>\n",
       "      <th>PreInt_Demos_Fam_Child_Race_10.0</th>\n",
       "      <th>PreInt_Demos_Fam_Child_Race_11.0</th>\n",
       "      <th>PreInt_Demos_Fam_Child_Race_nan</th>\n",
       "      <th>PreInt_Demos_Fam_Child_Ethnicity_1.0</th>\n",
       "      <th>PreInt_Demos_Fam_Child_Ethnicity_2.0</th>\n",
       "      <th>PreInt_Demos_Fam_Child_Ethnicity_3.0</th>\n",
       "      <th>PreInt_Demos_Fam_Child_Ethnicity_nan</th>\n",
       "    </tr>\n",
       "  </thead>\n",
       "  <tbody>\n",
       "    <tr>\n",
       "      <th>0</th>\n",
       "      <td>00aIpNTbG5uh</td>\n",
       "      <td>2019</td>\n",
       "      <td>21.0</td>\n",
       "      <td>45.0</td>\n",
       "      <td>NaN</td>\n",
       "      <td>NaN</td>\n",
       "      <td>0.0</td>\n",
       "      <td>1.0</td>\n",
       "      <td>0.0</td>\n",
       "      <td>0.0</td>\n",
       "      <td>...</td>\n",
       "      <td>0.0</td>\n",
       "      <td>0.0</td>\n",
       "      <td>0.0</td>\n",
       "      <td>0.0</td>\n",
       "      <td>0.0</td>\n",
       "      <td>0.0</td>\n",
       "      <td>1.0</td>\n",
       "      <td>0.0</td>\n",
       "      <td>0.0</td>\n",
       "      <td>0.0</td>\n",
       "    </tr>\n",
       "    <tr>\n",
       "      <th>1</th>\n",
       "      <td>00fV0OyyoLfw</td>\n",
       "      <td>2017</td>\n",
       "      <td>21.0</td>\n",
       "      <td>0.0</td>\n",
       "      <td>21.0</td>\n",
       "      <td>45.0</td>\n",
       "      <td>1.0</td>\n",
       "      <td>0.0</td>\n",
       "      <td>0.0</td>\n",
       "      <td>0.0</td>\n",
       "      <td>...</td>\n",
       "      <td>0.0</td>\n",
       "      <td>0.0</td>\n",
       "      <td>1.0</td>\n",
       "      <td>0.0</td>\n",
       "      <td>0.0</td>\n",
       "      <td>0.0</td>\n",
       "      <td>0.0</td>\n",
       "      <td>0.0</td>\n",
       "      <td>0.0</td>\n",
       "      <td>0.0</td>\n",
       "    </tr>\n",
       "  </tbody>\n",
       "</table>\n",
       "<p>2 rows × 27 columns</p>\n",
       "</div>"
      ],
      "text/plain": [
       "  participant_id  Basic_Demos_Enroll_Year  Barratt_Barratt_P1_Edu  \\\n",
       "0   00aIpNTbG5uh                     2019                    21.0   \n",
       "1   00fV0OyyoLfw                     2017                    21.0   \n",
       "\n",
       "   Barratt_Barratt_P1_Occ  Barratt_Barratt_P2_Edu  Barratt_Barratt_P2_Occ  \\\n",
       "0                    45.0                     NaN                     NaN   \n",
       "1                     0.0                    21.0                    45.0   \n",
       "\n",
       "   MRI_Track_Scan_Location_2.0  MRI_Track_Scan_Location_3.0  \\\n",
       "0                          0.0                          1.0   \n",
       "1                          1.0                          0.0   \n",
       "\n",
       "   MRI_Track_Scan_Location_4.0  MRI_Track_Scan_Location_nan  ...  \\\n",
       "0                          0.0                          0.0  ...   \n",
       "1                          0.0                          0.0  ...   \n",
       "\n",
       "   PreInt_Demos_Fam_Child_Race_7.0  PreInt_Demos_Fam_Child_Race_8.0  \\\n",
       "0                              0.0                              0.0   \n",
       "1                              0.0                              0.0   \n",
       "\n",
       "   PreInt_Demos_Fam_Child_Race_9.0  PreInt_Demos_Fam_Child_Race_10.0  \\\n",
       "0                              0.0                               0.0   \n",
       "1                              1.0                               0.0   \n",
       "\n",
       "   PreInt_Demos_Fam_Child_Race_11.0  PreInt_Demos_Fam_Child_Race_nan  \\\n",
       "0                               0.0                              0.0   \n",
       "1                               0.0                              0.0   \n",
       "\n",
       "   PreInt_Demos_Fam_Child_Ethnicity_1.0  PreInt_Demos_Fam_Child_Ethnicity_2.0  \\\n",
       "0                                   1.0                                   0.0   \n",
       "1                                   0.0                                   0.0   \n",
       "\n",
       "   PreInt_Demos_Fam_Child_Ethnicity_3.0  PreInt_Demos_Fam_Child_Ethnicity_nan  \n",
       "0                                   0.0                                   0.0  \n",
       "1                                   0.0                                   0.0  \n",
       "\n",
       "[2 rows x 27 columns]"
      ]
     },
     "execution_count": 65,
     "metadata": {},
     "output_type": "execute_result"
    }
   ],
   "source": [
    "merged_df.head(2)"
   ]
  },
  {
   "cell_type": "code",
   "execution_count": 66,
   "id": "a4470932-d04b-4e70-999f-8042b832c446",
   "metadata": {},
   "outputs": [],
   "source": [
    "# Handle NaN and 0.0 values (imputation example)\n",
    "merged_df['Barratt_Barratt_P1_Edu'] = merged_df['Barratt_Barratt_P1_Edu'].fillna(merged_df['Barratt_Barratt_P1_Edu'].median())\n",
    "merged_df['Barratt_Barratt_P2_Edu'] = merged_df['Barratt_Barratt_P2_Edu'].fillna(merged_df['Barratt_Barratt_P2_Edu'].median())\n",
    "\n",
    "merged_df['Barratt_Barratt_P1_Edu'] = merged_df['Barratt_Barratt_P1_Edu'].replace(0.0, merged_df['Barratt_Barratt_P1_Edu'].median())\n",
    "merged_df['Barratt_Barratt_P2_Edu'] = merged_df['Barratt_Barratt_P2_Edu'].replace(0.0, merged_df['Barratt_Barratt_P2_Edu'].median())"
   ]
  },
  {
   "cell_type": "code",
   "execution_count": 67,
   "id": "7b5a93fb-f511-44bf-93e5-68eecf2cf3d5",
   "metadata": {},
   "outputs": [],
   "source": [
    "# Ordinal Encoding (ordinal)\n",
    "ordinal_encoder = OrdinalEncoder(categories=[[ 3, 6, 9, 12, 15, 18, 21],[ 3, 6, 9, 12, 15, 18, 21] ])\n",
    "ordinal_cols = ['Barratt_Barratt_P1_Edu', 'Barratt_Barratt_P2_Edu']\n",
    "merged_df[ordinal_cols] = ordinal_encoder.fit_transform(merged_df[ordinal_cols])"
   ]
  },
  {
   "cell_type": "code",
   "execution_count": 68,
   "id": "059f5bf1-6dd9-4d7a-855e-da6c55bd4d18",
   "metadata": {},
   "outputs": [],
   "source": [
    "# Handle NaN and 0.0 values (imputation example)\n",
    "merged_df['Barratt_Barratt_P1_Occ'] = merged_df['Barratt_Barratt_P1_Occ'].fillna(merged_df['Barratt_Barratt_P1_Occ'].median())\n",
    "merged_df['Barratt_Barratt_P2_Occ'] = merged_df['Barratt_Barratt_P2_Occ'].fillna(merged_df['Barratt_Barratt_P2_Occ'].median())\n",
    "merged_df['Barratt_Barratt_P1_Occ'] = merged_df['Barratt_Barratt_P1_Occ'].replace(0.0, merged_df['Barratt_Barratt_P1_Occ'].median())\n",
    "merged_df['Barratt_Barratt_P2_Occ'] = merged_df['Barratt_Barratt_P2_Occ'].replace(0.0, merged_df['Barratt_Barratt_P2_Occ'].median())"
   ]
  },
  {
   "cell_type": "code",
   "execution_count": 69,
   "id": "553e9745-08d3-47e7-94f1-e1231e2febde",
   "metadata": {},
   "outputs": [],
   "source": [
    "# Ordinal Encoding (ordinal)\n",
    "ordinal_encoder = OrdinalEncoder(categories=[[0, 5, 10, 15, 20, 25, 30, 35, 40, 45], [0, 5, 10, 15, 20, 25, 30, 35, 40, 45]])\n",
    "ordinal_cols = ['Barratt_Barratt_P1_Occ', 'Barratt_Barratt_P2_Occ']\n",
    "merged_df[ordinal_cols] = ordinal_encoder.fit_transform(merged_df[ordinal_cols])"
   ]
  },
  {
   "cell_type": "code",
   "execution_count": 70,
   "id": "0319890f-4596-4f9b-a0e5-f3316db20620",
   "metadata": {},
   "outputs": [
    {
     "data": {
      "text/html": [
       "<div>\n",
       "<style scoped>\n",
       "    .dataframe tbody tr th:only-of-type {\n",
       "        vertical-align: middle;\n",
       "    }\n",
       "\n",
       "    .dataframe tbody tr th {\n",
       "        vertical-align: top;\n",
       "    }\n",
       "\n",
       "    .dataframe thead th {\n",
       "        text-align: right;\n",
       "    }\n",
       "</style>\n",
       "<table border=\"1\" class=\"dataframe\">\n",
       "  <thead>\n",
       "    <tr style=\"text-align: right;\">\n",
       "      <th></th>\n",
       "      <th>Basic_Demos_Enroll_Year</th>\n",
       "      <th>Barratt_Barratt_P1_Edu</th>\n",
       "      <th>Barratt_Barratt_P1_Occ</th>\n",
       "      <th>Barratt_Barratt_P2_Edu</th>\n",
       "      <th>Barratt_Barratt_P2_Occ</th>\n",
       "      <th>MRI_Track_Scan_Location_2.0</th>\n",
       "      <th>MRI_Track_Scan_Location_3.0</th>\n",
       "      <th>MRI_Track_Scan_Location_4.0</th>\n",
       "      <th>MRI_Track_Scan_Location_nan</th>\n",
       "      <th>Basic_Demos_Study_Site_2</th>\n",
       "      <th>...</th>\n",
       "      <th>PreInt_Demos_Fam_Child_Race_7.0</th>\n",
       "      <th>PreInt_Demos_Fam_Child_Race_8.0</th>\n",
       "      <th>PreInt_Demos_Fam_Child_Race_9.0</th>\n",
       "      <th>PreInt_Demos_Fam_Child_Race_10.0</th>\n",
       "      <th>PreInt_Demos_Fam_Child_Race_11.0</th>\n",
       "      <th>PreInt_Demos_Fam_Child_Race_nan</th>\n",
       "      <th>PreInt_Demos_Fam_Child_Ethnicity_1.0</th>\n",
       "      <th>PreInt_Demos_Fam_Child_Ethnicity_2.0</th>\n",
       "      <th>PreInt_Demos_Fam_Child_Ethnicity_3.0</th>\n",
       "      <th>PreInt_Demos_Fam_Child_Ethnicity_nan</th>\n",
       "    </tr>\n",
       "  </thead>\n",
       "  <tbody>\n",
       "    <tr>\n",
       "      <th>count</th>\n",
       "      <td>1213.000000</td>\n",
       "      <td>1213.000000</td>\n",
       "      <td>1213.000000</td>\n",
       "      <td>1213.000000</td>\n",
       "      <td>1213.000000</td>\n",
       "      <td>1213.000000</td>\n",
       "      <td>1213.000000</td>\n",
       "      <td>1213.000000</td>\n",
       "      <td>1213.000000</td>\n",
       "      <td>1213.000000</td>\n",
       "      <td>...</td>\n",
       "      <td>1213.000000</td>\n",
       "      <td>1213.000000</td>\n",
       "      <td>1213.000000</td>\n",
       "      <td>1213.000000</td>\n",
       "      <td>1213.000000</td>\n",
       "      <td>1213.000000</td>\n",
       "      <td>1213.000000</td>\n",
       "      <td>1213.000000</td>\n",
       "      <td>1213.000000</td>\n",
       "      <td>1213.000000</td>\n",
       "    </tr>\n",
       "    <tr>\n",
       "      <th>mean</th>\n",
       "      <td>2017.652102</td>\n",
       "      <td>4.954658</td>\n",
       "      <td>6.546579</td>\n",
       "      <td>4.686727</td>\n",
       "      <td>6.600165</td>\n",
       "      <td>0.438582</td>\n",
       "      <td>0.381698</td>\n",
       "      <td>0.029678</td>\n",
       "      <td>0.002473</td>\n",
       "      <td>0.009068</td>\n",
       "      <td>...</td>\n",
       "      <td>0.001649</td>\n",
       "      <td>0.160758</td>\n",
       "      <td>0.018961</td>\n",
       "      <td>0.009068</td>\n",
       "      <td>0.004946</td>\n",
       "      <td>0.044518</td>\n",
       "      <td>0.244023</td>\n",
       "      <td>0.063479</td>\n",
       "      <td>0.016488</td>\n",
       "      <td>0.035449</td>\n",
       "    </tr>\n",
       "    <tr>\n",
       "      <th>std</th>\n",
       "      <td>1.122522</td>\n",
       "      <td>1.161293</td>\n",
       "      <td>1.710147</td>\n",
       "      <td>1.206062</td>\n",
       "      <td>2.064368</td>\n",
       "      <td>0.496418</td>\n",
       "      <td>0.486004</td>\n",
       "      <td>0.169769</td>\n",
       "      <td>0.049690</td>\n",
       "      <td>0.094835</td>\n",
       "      <td>...</td>\n",
       "      <td>0.040589</td>\n",
       "      <td>0.367460</td>\n",
       "      <td>0.136444</td>\n",
       "      <td>0.094835</td>\n",
       "      <td>0.070186</td>\n",
       "      <td>0.206327</td>\n",
       "      <td>0.429684</td>\n",
       "      <td>0.243923</td>\n",
       "      <td>0.127395</td>\n",
       "      <td>0.184989</td>\n",
       "    </tr>\n",
       "    <tr>\n",
       "      <th>min</th>\n",
       "      <td>2015.000000</td>\n",
       "      <td>0.000000</td>\n",
       "      <td>1.000000</td>\n",
       "      <td>0.000000</td>\n",
       "      <td>1.000000</td>\n",
       "      <td>0.000000</td>\n",
       "      <td>0.000000</td>\n",
       "      <td>0.000000</td>\n",
       "      <td>0.000000</td>\n",
       "      <td>0.000000</td>\n",
       "      <td>...</td>\n",
       "      <td>0.000000</td>\n",
       "      <td>0.000000</td>\n",
       "      <td>0.000000</td>\n",
       "      <td>0.000000</td>\n",
       "      <td>0.000000</td>\n",
       "      <td>0.000000</td>\n",
       "      <td>0.000000</td>\n",
       "      <td>0.000000</td>\n",
       "      <td>0.000000</td>\n",
       "      <td>0.000000</td>\n",
       "    </tr>\n",
       "    <tr>\n",
       "      <th>25%</th>\n",
       "      <td>2017.000000</td>\n",
       "      <td>4.000000</td>\n",
       "      <td>6.000000</td>\n",
       "      <td>4.000000</td>\n",
       "      <td>6.000000</td>\n",
       "      <td>0.000000</td>\n",
       "      <td>0.000000</td>\n",
       "      <td>0.000000</td>\n",
       "      <td>0.000000</td>\n",
       "      <td>0.000000</td>\n",
       "      <td>...</td>\n",
       "      <td>0.000000</td>\n",
       "      <td>0.000000</td>\n",
       "      <td>0.000000</td>\n",
       "      <td>0.000000</td>\n",
       "      <td>0.000000</td>\n",
       "      <td>0.000000</td>\n",
       "      <td>0.000000</td>\n",
       "      <td>0.000000</td>\n",
       "      <td>0.000000</td>\n",
       "      <td>0.000000</td>\n",
       "    </tr>\n",
       "    <tr>\n",
       "      <th>50%</th>\n",
       "      <td>2018.000000</td>\n",
       "      <td>5.000000</td>\n",
       "      <td>6.000000</td>\n",
       "      <td>5.000000</td>\n",
       "      <td>7.000000</td>\n",
       "      <td>0.000000</td>\n",
       "      <td>0.000000</td>\n",
       "      <td>0.000000</td>\n",
       "      <td>0.000000</td>\n",
       "      <td>0.000000</td>\n",
       "      <td>...</td>\n",
       "      <td>0.000000</td>\n",
       "      <td>0.000000</td>\n",
       "      <td>0.000000</td>\n",
       "      <td>0.000000</td>\n",
       "      <td>0.000000</td>\n",
       "      <td>0.000000</td>\n",
       "      <td>0.000000</td>\n",
       "      <td>0.000000</td>\n",
       "      <td>0.000000</td>\n",
       "      <td>0.000000</td>\n",
       "    </tr>\n",
       "    <tr>\n",
       "      <th>75%</th>\n",
       "      <td>2019.000000</td>\n",
       "      <td>6.000000</td>\n",
       "      <td>8.000000</td>\n",
       "      <td>6.000000</td>\n",
       "      <td>8.000000</td>\n",
       "      <td>1.000000</td>\n",
       "      <td>1.000000</td>\n",
       "      <td>0.000000</td>\n",
       "      <td>0.000000</td>\n",
       "      <td>0.000000</td>\n",
       "      <td>...</td>\n",
       "      <td>0.000000</td>\n",
       "      <td>0.000000</td>\n",
       "      <td>0.000000</td>\n",
       "      <td>0.000000</td>\n",
       "      <td>0.000000</td>\n",
       "      <td>0.000000</td>\n",
       "      <td>0.000000</td>\n",
       "      <td>0.000000</td>\n",
       "      <td>0.000000</td>\n",
       "      <td>0.000000</td>\n",
       "    </tr>\n",
       "    <tr>\n",
       "      <th>max</th>\n",
       "      <td>2020.000000</td>\n",
       "      <td>6.000000</td>\n",
       "      <td>9.000000</td>\n",
       "      <td>6.000000</td>\n",
       "      <td>9.000000</td>\n",
       "      <td>1.000000</td>\n",
       "      <td>1.000000</td>\n",
       "      <td>1.000000</td>\n",
       "      <td>1.000000</td>\n",
       "      <td>1.000000</td>\n",
       "      <td>...</td>\n",
       "      <td>1.000000</td>\n",
       "      <td>1.000000</td>\n",
       "      <td>1.000000</td>\n",
       "      <td>1.000000</td>\n",
       "      <td>1.000000</td>\n",
       "      <td>1.000000</td>\n",
       "      <td>1.000000</td>\n",
       "      <td>1.000000</td>\n",
       "      <td>1.000000</td>\n",
       "      <td>1.000000</td>\n",
       "    </tr>\n",
       "  </tbody>\n",
       "</table>\n",
       "<p>8 rows × 26 columns</p>\n",
       "</div>"
      ],
      "text/plain": [
       "       Basic_Demos_Enroll_Year  Barratt_Barratt_P1_Edu  \\\n",
       "count              1213.000000             1213.000000   \n",
       "mean               2017.652102                4.954658   \n",
       "std                   1.122522                1.161293   \n",
       "min                2015.000000                0.000000   \n",
       "25%                2017.000000                4.000000   \n",
       "50%                2018.000000                5.000000   \n",
       "75%                2019.000000                6.000000   \n",
       "max                2020.000000                6.000000   \n",
       "\n",
       "       Barratt_Barratt_P1_Occ  Barratt_Barratt_P2_Edu  Barratt_Barratt_P2_Occ  \\\n",
       "count             1213.000000             1213.000000             1213.000000   \n",
       "mean                 6.546579                4.686727                6.600165   \n",
       "std                  1.710147                1.206062                2.064368   \n",
       "min                  1.000000                0.000000                1.000000   \n",
       "25%                  6.000000                4.000000                6.000000   \n",
       "50%                  6.000000                5.000000                7.000000   \n",
       "75%                  8.000000                6.000000                8.000000   \n",
       "max                  9.000000                6.000000                9.000000   \n",
       "\n",
       "       MRI_Track_Scan_Location_2.0  MRI_Track_Scan_Location_3.0  \\\n",
       "count                  1213.000000                  1213.000000   \n",
       "mean                      0.438582                     0.381698   \n",
       "std                       0.496418                     0.486004   \n",
       "min                       0.000000                     0.000000   \n",
       "25%                       0.000000                     0.000000   \n",
       "50%                       0.000000                     0.000000   \n",
       "75%                       1.000000                     1.000000   \n",
       "max                       1.000000                     1.000000   \n",
       "\n",
       "       MRI_Track_Scan_Location_4.0  MRI_Track_Scan_Location_nan  \\\n",
       "count                  1213.000000                  1213.000000   \n",
       "mean                      0.029678                     0.002473   \n",
       "std                       0.169769                     0.049690   \n",
       "min                       0.000000                     0.000000   \n",
       "25%                       0.000000                     0.000000   \n",
       "50%                       0.000000                     0.000000   \n",
       "75%                       0.000000                     0.000000   \n",
       "max                       1.000000                     1.000000   \n",
       "\n",
       "       Basic_Demos_Study_Site_2  ...  PreInt_Demos_Fam_Child_Race_7.0  \\\n",
       "count               1213.000000  ...                      1213.000000   \n",
       "mean                   0.009068  ...                         0.001649   \n",
       "std                    0.094835  ...                         0.040589   \n",
       "min                    0.000000  ...                         0.000000   \n",
       "25%                    0.000000  ...                         0.000000   \n",
       "50%                    0.000000  ...                         0.000000   \n",
       "75%                    0.000000  ...                         0.000000   \n",
       "max                    1.000000  ...                         1.000000   \n",
       "\n",
       "       PreInt_Demos_Fam_Child_Race_8.0  PreInt_Demos_Fam_Child_Race_9.0  \\\n",
       "count                      1213.000000                      1213.000000   \n",
       "mean                          0.160758                         0.018961   \n",
       "std                           0.367460                         0.136444   \n",
       "min                           0.000000                         0.000000   \n",
       "25%                           0.000000                         0.000000   \n",
       "50%                           0.000000                         0.000000   \n",
       "75%                           0.000000                         0.000000   \n",
       "max                           1.000000                         1.000000   \n",
       "\n",
       "       PreInt_Demos_Fam_Child_Race_10.0  PreInt_Demos_Fam_Child_Race_11.0  \\\n",
       "count                       1213.000000                       1213.000000   \n",
       "mean                           0.009068                          0.004946   \n",
       "std                            0.094835                          0.070186   \n",
       "min                            0.000000                          0.000000   \n",
       "25%                            0.000000                          0.000000   \n",
       "50%                            0.000000                          0.000000   \n",
       "75%                            0.000000                          0.000000   \n",
       "max                            1.000000                          1.000000   \n",
       "\n",
       "       PreInt_Demos_Fam_Child_Race_nan  PreInt_Demos_Fam_Child_Ethnicity_1.0  \\\n",
       "count                      1213.000000                           1213.000000   \n",
       "mean                          0.044518                              0.244023   \n",
       "std                           0.206327                              0.429684   \n",
       "min                           0.000000                              0.000000   \n",
       "25%                           0.000000                              0.000000   \n",
       "50%                           0.000000                              0.000000   \n",
       "75%                           0.000000                              0.000000   \n",
       "max                           1.000000                              1.000000   \n",
       "\n",
       "       PreInt_Demos_Fam_Child_Ethnicity_2.0  \\\n",
       "count                           1213.000000   \n",
       "mean                               0.063479   \n",
       "std                                0.243923   \n",
       "min                                0.000000   \n",
       "25%                                0.000000   \n",
       "50%                                0.000000   \n",
       "75%                                0.000000   \n",
       "max                                1.000000   \n",
       "\n",
       "       PreInt_Demos_Fam_Child_Ethnicity_3.0  \\\n",
       "count                           1213.000000   \n",
       "mean                               0.016488   \n",
       "std                                0.127395   \n",
       "min                                0.000000   \n",
       "25%                                0.000000   \n",
       "50%                                0.000000   \n",
       "75%                                0.000000   \n",
       "max                                1.000000   \n",
       "\n",
       "       PreInt_Demos_Fam_Child_Ethnicity_nan  \n",
       "count                           1213.000000  \n",
       "mean                               0.035449  \n",
       "std                                0.184989  \n",
       "min                                0.000000  \n",
       "25%                                0.000000  \n",
       "50%                                0.000000  \n",
       "75%                                0.000000  \n",
       "max                                1.000000  \n",
       "\n",
       "[8 rows x 26 columns]"
      ]
     },
     "execution_count": 70,
     "metadata": {},
     "output_type": "execute_result"
    }
   ],
   "source": [
    "merged_df.describe()"
   ]
  },
  {
   "cell_type": "code",
   "execution_count": 71,
   "id": "e4a6fc72-fbfe-4323-b7a1-cdd52fcb01b4",
   "metadata": {},
   "outputs": [
    {
     "data": {
      "text/plain": [
       "participant_id                          1213\n",
       "Basic_Demos_Enroll_Year                 1213\n",
       "Barratt_Barratt_P1_Edu                  1213\n",
       "Barratt_Barratt_P1_Occ                  1213\n",
       "Barratt_Barratt_P2_Edu                  1213\n",
       "Barratt_Barratt_P2_Occ                  1213\n",
       "MRI_Track_Scan_Location_2.0             1213\n",
       "MRI_Track_Scan_Location_3.0             1213\n",
       "MRI_Track_Scan_Location_4.0             1213\n",
       "MRI_Track_Scan_Location_nan             1213\n",
       "Basic_Demos_Study_Site_2                1213\n",
       "Basic_Demos_Study_Site_3                1213\n",
       "Basic_Demos_Study_Site_4                1213\n",
       "PreInt_Demos_Fam_Child_Race_1.0         1213\n",
       "PreInt_Demos_Fam_Child_Race_2.0         1213\n",
       "PreInt_Demos_Fam_Child_Race_3.0         1213\n",
       "PreInt_Demos_Fam_Child_Race_4.0         1213\n",
       "PreInt_Demos_Fam_Child_Race_7.0         1213\n",
       "PreInt_Demos_Fam_Child_Race_8.0         1213\n",
       "PreInt_Demos_Fam_Child_Race_9.0         1213\n",
       "PreInt_Demos_Fam_Child_Race_10.0        1213\n",
       "PreInt_Demos_Fam_Child_Race_11.0        1213\n",
       "PreInt_Demos_Fam_Child_Race_nan         1213\n",
       "PreInt_Demos_Fam_Child_Ethnicity_1.0    1213\n",
       "PreInt_Demos_Fam_Child_Ethnicity_2.0    1213\n",
       "PreInt_Demos_Fam_Child_Ethnicity_3.0    1213\n",
       "PreInt_Demos_Fam_Child_Ethnicity_nan    1213\n",
       "dtype: int64"
      ]
     },
     "execution_count": 71,
     "metadata": {},
     "output_type": "execute_result"
    }
   ],
   "source": [
    "merged_df.count()"
   ]
  },
  {
   "cell_type": "code",
   "execution_count": null,
   "id": "a826ebb1-0a83-457d-9c47-a7de42a4eea2",
   "metadata": {},
   "outputs": [],
   "source": []
  },
  {
   "cell_type": "code",
   "execution_count": null,
   "id": "c543b8e7-1b61-4e36-bfee-5220aab0a353",
   "metadata": {},
   "outputs": [],
   "source": [
    "## Is there a way to add back participant id to this also since columns are dropped now \n",
    "## we need to use same number of columns if we need to run classifier"
   ]
  },
  {
   "cell_type": "markdown",
   "id": "58e7d040-80e3-44bf-986f-31afcda82cd3",
   "metadata": {},
   "source": [
    "## Use modified categorical data to see performance"
   ]
  },
  {
   "cell_type": "markdown",
   "id": "46d36564-0daa-48a8-9ec5-ac51744314f9",
   "metadata": {},
   "source": [
    "## TODO Replcate df_categorical_new with modified categorical data"
   ]
  },
  {
   "cell_type": "code",
   "execution_count": null,
   "id": "b927ada7-79cb-4344-8534-9974533f03b0",
   "metadata": {},
   "outputs": [],
   "source": [
    "joined_training_data = join_data(df_categorical_new,df_matrices_new,df_quant_new,df_solutions_new)\n",
    "X = joined_training_data.drop(columns = ['ADHD_Outcome','Sex_F'] )\n",
    "Y = joined_training_data[['participant_id','ADHD_Outcome','Sex_F']]\n",
    "X_train_data, X_test_data, y_train_data, y_test_data = split_data(X, Y)"
   ]
  },
  {
   "cell_type": "code",
   "execution_count": null,
   "id": "c0744c22-57b3-41cc-abb0-ae759c8a1267",
   "metadata": {},
   "outputs": [],
   "source": [
    "classifier = xgboost_classifer()\n",
    "train(classifier,X_train_data, y_train_data)\n",
    "y_pred = predict(classifier,X_test_data)\n",
    "accuracy = calculate_score(y_test_data,y_pred)\n",
    "classifier_cv = xgboost_classifer()\n",
    "do_cross_validation(X,Y,classifier_cv)"
   ]
  },
  {
   "cell_type": "code",
   "execution_count": null,
   "id": "d2763a4d-7403-41ce-a03c-d8a8a0eddb00",
   "metadata": {},
   "outputs": [],
   "source": []
  },
  {
   "cell_type": "code",
   "execution_count": null,
   "id": "de143cc2-0ab2-4298-9911-4fe8b88f6057",
   "metadata": {},
   "outputs": [],
   "source": [
    "save_model(classifier,'new_data_xgb_basic_categorical_data',accuracy,y_test_data,y_pred)"
   ]
  },
  {
   "cell_type": "markdown",
   "id": "cd65cccb-f672-4de7-a4dd-caa873244654",
   "metadata": {},
   "source": [
    "## Combine pca, quantitative and categorical dataframes"
   ]
  },
  {
   "cell_type": "code",
   "execution_count": null,
   "id": "b8e97b4b-2a62-4af0-97a2-db94da978b18",
   "metadata": {},
   "outputs": [],
   "source": [
    "## df_categorical_new > REPLACE with modified\n",
    "## df_matrices_new > pca selected one\n",
    "## df_quant_new  > df_quant_new_without_participant_id_scaled "
   ]
  },
  {
   "cell_type": "code",
   "execution_count": null,
   "id": "de901685-eda7-4a61-94ed-bd66c498e343",
   "metadata": {},
   "outputs": [],
   "source": [
    "joined_training_data = join_data(df_categorical_new,df_matrices_new,df_quant_new,df_solutions_new)\n",
    "X = joined_training_data.drop(columns = ['ADHD_Outcome','Sex_F'] )\n",
    "Y = joined_training_data[['participant_id','ADHD_Outcome','Sex_F']]\n",
    "X_train_data, X_test_data, y_train_data, y_test_data = split_data(X, Y)"
   ]
  },
  {
   "cell_type": "code",
   "execution_count": null,
   "id": "61838d1c-15ee-4d11-90e6-23ad874db061",
   "metadata": {},
   "outputs": [],
   "source": [
    "classifier = xgboost_classifer()\n",
    "train(classifier,X_train_data, y_train_data)\n",
    "y_pred = predict(classifier,X_test_data)\n",
    "accuracy = calculate_score(y_test_data,y_pred)\n",
    "classifier_cv = xgboost_classifer()\n",
    "do_cross_validation(X,Y,classifier_cv)"
   ]
  },
  {
   "cell_type": "code",
   "execution_count": null,
   "id": "9409fb65-0d34-41c9-8ea7-784f077bfb40",
   "metadata": {},
   "outputs": [],
   "source": []
  },
  {
   "cell_type": "code",
   "execution_count": null,
   "id": "d406bb7b-4fb7-4989-baa4-f009e6eb78fb",
   "metadata": {},
   "outputs": [],
   "source": [
    "save_model(classifier,'new_data_xgb_basic_cat_data_pca_quant_updated',accuracy,y_test_data,y_pred)"
   ]
  }
 ],
 "metadata": {
  "kernelspec": {
   "display_name": "Python 3 (ipykernel)",
   "language": "python",
   "name": "python3"
  },
  "language_info": {
   "codemirror_mode": {
    "name": "ipython",
    "version": 3
   },
   "file_extension": ".py",
   "mimetype": "text/x-python",
   "name": "python",
   "nbconvert_exporter": "python",
   "pygments_lexer": "ipython3",
   "version": "3.12.9"
  }
 },
 "nbformat": 4,
 "nbformat_minor": 5
}
